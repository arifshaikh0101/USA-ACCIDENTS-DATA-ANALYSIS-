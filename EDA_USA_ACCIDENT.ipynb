{
  "nbformat": 4,
  "nbformat_minor": 0,
  "metadata": {
    "colab": {
      "provenance": [],
      "collapsed_sections": [
        "hbJev4KvTZd_",
        "pu8QwitgXNgV",
        "8kG4lVl_wg0o",
        "0zq4aw4_dBMa"
      ]
    },
    "kernelspec": {
      "name": "python3",
      "display_name": "Python 3"
    },
    "language_info": {
      "name": "python"
    }
  },
  "cells": [
    {
      "cell_type": "markdown",
      "source": [
        "# **US accident exploratory data analysis**"
      ],
      "metadata": {
        "id": "PPnkxq2Ll0tH"
      }
    },
    {
      "cell_type": "markdown",
      "source": [
        "## US Accident EDA\n",
        "\n",
        "- TODO-talk about EDA\n",
        "\n",
        "- TODO- Talk about dataset\n",
        "-kaggle\n",
        "-information about accidents\n",
        "-can be useful to prevernt accident\n",
        "\n",
        "\n",
        "\n"
      ],
      "metadata": {
        "id": "G-1NgzWKdvFf"
      }
    },
    {
      "cell_type": "markdown",
      "source": [
        "##Selection of dataset"
      ],
      "metadata": {
        "id": "Vl3rgZ9GmOdd"
      }
    },
    {
      "cell_type": "code",
      "source": [
        "pip install opendatasets --upgrade --quiet"
      ],
      "metadata": {
        "id": "hPa44lrePiD3"
      },
      "execution_count": 1,
      "outputs": []
    },
    {
      "cell_type": "code",
      "source": [
        "import opendatasets as od\n",
        "\n",
        "download_url = 'https://www.kaggle.com/sobhanmoosavi/us-accidents'\n",
        "\n",
        "od.download(download_url)"
      ],
      "metadata": {
        "colab": {
          "base_uri": "https://localhost:8080/"
        },
        "id": "F6iZAhomPnLf",
        "outputId": "f024d4b0-8854-4afc-f22e-770ea165db3e"
      },
      "execution_count": 2,
      "outputs": [
        {
          "output_type": "stream",
          "name": "stdout",
          "text": [
            "Please provide your Kaggle credentials to download this dataset. Learn more: http://bit.ly/kaggle-creds\n",
            "Your Kaggle username: arif0101\n",
            "Your Kaggle Key: ··········\n",
            "Downloading us-accidents.zip to ./us-accidents\n"
          ]
        },
        {
          "output_type": "stream",
          "name": "stderr",
          "text": [
            "100%|██████████| 269M/269M [00:02<00:00, 119MB/s]\n"
          ]
        },
        {
          "output_type": "stream",
          "name": "stdout",
          "text": [
            "\n"
          ]
        }
      ]
    },
    {
      "cell_type": "code",
      "source": [
        "data_filename='./us-accidents/US_Accidents_Dec21_updated.csv'"
      ],
      "metadata": {
        "id": "-Fyni9K-QxcM"
      },
      "execution_count": 5,
      "outputs": []
    },
    {
      "cell_type": "code",
      "execution_count": 3,
      "metadata": {
        "id": "7xIXOlkfOrha"
      },
      "outputs": [],
      "source": [
        "import numpy as np\n",
        "import pandas as pd\n",
        "import matplotlib.pyplot as plt\n",
        "import seaborn as sns"
      ]
    },
    {
      "cell_type": "code",
      "source": [
        "df=pd.read_csv(data_filename)"
      ],
      "metadata": {
        "id": "Oe39vG6jPETZ"
      },
      "execution_count": 6,
      "outputs": []
    },
    {
      "cell_type": "markdown",
      "source": [
        "## Data descrpition and cleaning\n",
        " - load file\n",
        " -info about file data and column\n",
        " -fix missing and incorrect value\n",
        " "
      ],
      "metadata": {
        "id": "hbJev4KvTZd_"
      }
    },
    {
      "cell_type": "code",
      "source": [
        "df"
      ],
      "metadata": {
        "colab": {
          "base_uri": "https://localhost:8080/",
          "height": 0
        },
        "id": "89aRJkYRSbfP",
        "outputId": "ab0ab91a-f284-4c91-97b7-2d7453c5734b"
      },
      "execution_count": 18,
      "outputs": [
        {
          "output_type": "execute_result",
          "data": {
            "text/plain": [
              "                ID  Severity           Start_Time             End_Time  \\\n",
              "0              A-1         3  2016-02-08 00:37:08  2016-02-08 06:37:08   \n",
              "1              A-2         2  2016-02-08 05:56:20  2016-02-08 11:56:20   \n",
              "2              A-3         2  2016-02-08 06:15:39  2016-02-08 12:15:39   \n",
              "3              A-4         2  2016-02-08 06:51:45  2016-02-08 12:51:45   \n",
              "4              A-5         3  2016-02-08 07:53:43  2016-02-08 13:53:43   \n",
              "...            ...       ...                  ...                  ...   \n",
              "2845337  A-2845338         2  2019-08-23 18:03:25  2019-08-23 18:32:01   \n",
              "2845338  A-2845339         2  2019-08-23 19:11:30  2019-08-23 19:38:23   \n",
              "2845339  A-2845340         2  2019-08-23 19:00:21  2019-08-23 19:28:49   \n",
              "2845340  A-2845341         2  2019-08-23 19:00:21  2019-08-23 19:29:42   \n",
              "2845341  A-2845342         2  2019-08-23 18:52:06  2019-08-23 19:21:31   \n",
              "\n",
              "         Start_Lat   Start_Lng    End_Lat     End_Lng  Distance(mi)  \\\n",
              "0        40.108910  -83.092860  40.112060  -83.031870         3.230   \n",
              "1        39.865420  -84.062800  39.865010  -84.048730         0.747   \n",
              "2        39.102660  -84.524680  39.102090  -84.523960         0.055   \n",
              "3        41.062130  -81.537840  41.062170  -81.535470         0.123   \n",
              "4        39.172393  -84.492792  39.170476  -84.501798         0.500   \n",
              "...            ...         ...        ...         ...           ...   \n",
              "2845337  34.002480 -117.379360  33.998880 -117.370940         0.543   \n",
              "2845338  32.766960 -117.148060  32.765550 -117.153630         0.338   \n",
              "2845339  33.775450 -117.847790  33.777400 -117.857270         0.561   \n",
              "2845340  33.992460 -118.403020  33.983110 -118.395650         0.772   \n",
              "2845341  34.133930 -117.230920  34.137360 -117.239340         0.537   \n",
              "\n",
              "                                               Description  ...  Roundabout  \\\n",
              "0        Between Sawmill Rd/Exit 20 and OH-315/Olentang...  ...       False   \n",
              "1                       At OH-4/OH-235/Exit 41 - Accident.  ...       False   \n",
              "2                         At I-71/US-50/Exit 1 - Accident.  ...       False   \n",
              "3                          At Dart Ave/Exit 21 - Accident.  ...       False   \n",
              "4                       At Mitchell Ave/Exit 6 - Accident.  ...       False   \n",
              "...                                                    ...  ...         ...   \n",
              "2845337                           At Market St - Accident.  ...       False   \n",
              "2845338    At Camino Del Rio/Mission Center Rd - Accident.  ...       False   \n",
              "2845339  At Glassell St/Grand Ave - Accident. in the ri...  ...       False   \n",
              "2845340     At CA-90/Marina Fwy/Jefferson Blvd - Accident.  ...       False   \n",
              "2845341              At Highland Ave/Arden Ave - Accident.  ...       False   \n",
              "\n",
              "        Station   Stop Traffic_Calming Traffic_Signal Turning_Loop  \\\n",
              "0         False  False           False          False        False   \n",
              "1         False  False           False          False        False   \n",
              "2         False  False           False          False        False   \n",
              "3         False  False           False          False        False   \n",
              "4         False  False           False          False        False   \n",
              "...         ...    ...             ...            ...          ...   \n",
              "2845337   False  False           False          False        False   \n",
              "2845338   False  False           False          False        False   \n",
              "2845339   False  False           False          False        False   \n",
              "2845340   False  False           False          False        False   \n",
              "2845341   False  False           False          False        False   \n",
              "\n",
              "        Sunrise_Sunset Civil_Twilight Nautical_Twilight Astronomical_Twilight  \n",
              "0                Night          Night             Night                 Night  \n",
              "1                Night          Night             Night                 Night  \n",
              "2                Night          Night             Night                   Day  \n",
              "3                Night          Night               Day                   Day  \n",
              "4                  Day            Day               Day                   Day  \n",
              "...                ...            ...               ...                   ...  \n",
              "2845337            Day            Day               Day                   Day  \n",
              "2845338            Day            Day               Day                   Day  \n",
              "2845339            Day            Day               Day                   Day  \n",
              "2845340            Day            Day               Day                   Day  \n",
              "2845341            Day            Day               Day                   Day  \n",
              "\n",
              "[2845342 rows x 47 columns]"
            ],
            "text/html": [
              "\n",
              "  <div id=\"df-f1857ddc-95a0-4b33-8050-41a88be77af6\">\n",
              "    <div class=\"colab-df-container\">\n",
              "      <div>\n",
              "<style scoped>\n",
              "    .dataframe tbody tr th:only-of-type {\n",
              "        vertical-align: middle;\n",
              "    }\n",
              "\n",
              "    .dataframe tbody tr th {\n",
              "        vertical-align: top;\n",
              "    }\n",
              "\n",
              "    .dataframe thead th {\n",
              "        text-align: right;\n",
              "    }\n",
              "</style>\n",
              "<table border=\"1\" class=\"dataframe\">\n",
              "  <thead>\n",
              "    <tr style=\"text-align: right;\">\n",
              "      <th></th>\n",
              "      <th>ID</th>\n",
              "      <th>Severity</th>\n",
              "      <th>Start_Time</th>\n",
              "      <th>End_Time</th>\n",
              "      <th>Start_Lat</th>\n",
              "      <th>Start_Lng</th>\n",
              "      <th>End_Lat</th>\n",
              "      <th>End_Lng</th>\n",
              "      <th>Distance(mi)</th>\n",
              "      <th>Description</th>\n",
              "      <th>...</th>\n",
              "      <th>Roundabout</th>\n",
              "      <th>Station</th>\n",
              "      <th>Stop</th>\n",
              "      <th>Traffic_Calming</th>\n",
              "      <th>Traffic_Signal</th>\n",
              "      <th>Turning_Loop</th>\n",
              "      <th>Sunrise_Sunset</th>\n",
              "      <th>Civil_Twilight</th>\n",
              "      <th>Nautical_Twilight</th>\n",
              "      <th>Astronomical_Twilight</th>\n",
              "    </tr>\n",
              "  </thead>\n",
              "  <tbody>\n",
              "    <tr>\n",
              "      <th>0</th>\n",
              "      <td>A-1</td>\n",
              "      <td>3</td>\n",
              "      <td>2016-02-08 00:37:08</td>\n",
              "      <td>2016-02-08 06:37:08</td>\n",
              "      <td>40.108910</td>\n",
              "      <td>-83.092860</td>\n",
              "      <td>40.112060</td>\n",
              "      <td>-83.031870</td>\n",
              "      <td>3.230</td>\n",
              "      <td>Between Sawmill Rd/Exit 20 and OH-315/Olentang...</td>\n",
              "      <td>...</td>\n",
              "      <td>False</td>\n",
              "      <td>False</td>\n",
              "      <td>False</td>\n",
              "      <td>False</td>\n",
              "      <td>False</td>\n",
              "      <td>False</td>\n",
              "      <td>Night</td>\n",
              "      <td>Night</td>\n",
              "      <td>Night</td>\n",
              "      <td>Night</td>\n",
              "    </tr>\n",
              "    <tr>\n",
              "      <th>1</th>\n",
              "      <td>A-2</td>\n",
              "      <td>2</td>\n",
              "      <td>2016-02-08 05:56:20</td>\n",
              "      <td>2016-02-08 11:56:20</td>\n",
              "      <td>39.865420</td>\n",
              "      <td>-84.062800</td>\n",
              "      <td>39.865010</td>\n",
              "      <td>-84.048730</td>\n",
              "      <td>0.747</td>\n",
              "      <td>At OH-4/OH-235/Exit 41 - Accident.</td>\n",
              "      <td>...</td>\n",
              "      <td>False</td>\n",
              "      <td>False</td>\n",
              "      <td>False</td>\n",
              "      <td>False</td>\n",
              "      <td>False</td>\n",
              "      <td>False</td>\n",
              "      <td>Night</td>\n",
              "      <td>Night</td>\n",
              "      <td>Night</td>\n",
              "      <td>Night</td>\n",
              "    </tr>\n",
              "    <tr>\n",
              "      <th>2</th>\n",
              "      <td>A-3</td>\n",
              "      <td>2</td>\n",
              "      <td>2016-02-08 06:15:39</td>\n",
              "      <td>2016-02-08 12:15:39</td>\n",
              "      <td>39.102660</td>\n",
              "      <td>-84.524680</td>\n",
              "      <td>39.102090</td>\n",
              "      <td>-84.523960</td>\n",
              "      <td>0.055</td>\n",
              "      <td>At I-71/US-50/Exit 1 - Accident.</td>\n",
              "      <td>...</td>\n",
              "      <td>False</td>\n",
              "      <td>False</td>\n",
              "      <td>False</td>\n",
              "      <td>False</td>\n",
              "      <td>False</td>\n",
              "      <td>False</td>\n",
              "      <td>Night</td>\n",
              "      <td>Night</td>\n",
              "      <td>Night</td>\n",
              "      <td>Day</td>\n",
              "    </tr>\n",
              "    <tr>\n",
              "      <th>3</th>\n",
              "      <td>A-4</td>\n",
              "      <td>2</td>\n",
              "      <td>2016-02-08 06:51:45</td>\n",
              "      <td>2016-02-08 12:51:45</td>\n",
              "      <td>41.062130</td>\n",
              "      <td>-81.537840</td>\n",
              "      <td>41.062170</td>\n",
              "      <td>-81.535470</td>\n",
              "      <td>0.123</td>\n",
              "      <td>At Dart Ave/Exit 21 - Accident.</td>\n",
              "      <td>...</td>\n",
              "      <td>False</td>\n",
              "      <td>False</td>\n",
              "      <td>False</td>\n",
              "      <td>False</td>\n",
              "      <td>False</td>\n",
              "      <td>False</td>\n",
              "      <td>Night</td>\n",
              "      <td>Night</td>\n",
              "      <td>Day</td>\n",
              "      <td>Day</td>\n",
              "    </tr>\n",
              "    <tr>\n",
              "      <th>4</th>\n",
              "      <td>A-5</td>\n",
              "      <td>3</td>\n",
              "      <td>2016-02-08 07:53:43</td>\n",
              "      <td>2016-02-08 13:53:43</td>\n",
              "      <td>39.172393</td>\n",
              "      <td>-84.492792</td>\n",
              "      <td>39.170476</td>\n",
              "      <td>-84.501798</td>\n",
              "      <td>0.500</td>\n",
              "      <td>At Mitchell Ave/Exit 6 - Accident.</td>\n",
              "      <td>...</td>\n",
              "      <td>False</td>\n",
              "      <td>False</td>\n",
              "      <td>False</td>\n",
              "      <td>False</td>\n",
              "      <td>False</td>\n",
              "      <td>False</td>\n",
              "      <td>Day</td>\n",
              "      <td>Day</td>\n",
              "      <td>Day</td>\n",
              "      <td>Day</td>\n",
              "    </tr>\n",
              "    <tr>\n",
              "      <th>...</th>\n",
              "      <td>...</td>\n",
              "      <td>...</td>\n",
              "      <td>...</td>\n",
              "      <td>...</td>\n",
              "      <td>...</td>\n",
              "      <td>...</td>\n",
              "      <td>...</td>\n",
              "      <td>...</td>\n",
              "      <td>...</td>\n",
              "      <td>...</td>\n",
              "      <td>...</td>\n",
              "      <td>...</td>\n",
              "      <td>...</td>\n",
              "      <td>...</td>\n",
              "      <td>...</td>\n",
              "      <td>...</td>\n",
              "      <td>...</td>\n",
              "      <td>...</td>\n",
              "      <td>...</td>\n",
              "      <td>...</td>\n",
              "      <td>...</td>\n",
              "    </tr>\n",
              "    <tr>\n",
              "      <th>2845337</th>\n",
              "      <td>A-2845338</td>\n",
              "      <td>2</td>\n",
              "      <td>2019-08-23 18:03:25</td>\n",
              "      <td>2019-08-23 18:32:01</td>\n",
              "      <td>34.002480</td>\n",
              "      <td>-117.379360</td>\n",
              "      <td>33.998880</td>\n",
              "      <td>-117.370940</td>\n",
              "      <td>0.543</td>\n",
              "      <td>At Market St - Accident.</td>\n",
              "      <td>...</td>\n",
              "      <td>False</td>\n",
              "      <td>False</td>\n",
              "      <td>False</td>\n",
              "      <td>False</td>\n",
              "      <td>False</td>\n",
              "      <td>False</td>\n",
              "      <td>Day</td>\n",
              "      <td>Day</td>\n",
              "      <td>Day</td>\n",
              "      <td>Day</td>\n",
              "    </tr>\n",
              "    <tr>\n",
              "      <th>2845338</th>\n",
              "      <td>A-2845339</td>\n",
              "      <td>2</td>\n",
              "      <td>2019-08-23 19:11:30</td>\n",
              "      <td>2019-08-23 19:38:23</td>\n",
              "      <td>32.766960</td>\n",
              "      <td>-117.148060</td>\n",
              "      <td>32.765550</td>\n",
              "      <td>-117.153630</td>\n",
              "      <td>0.338</td>\n",
              "      <td>At Camino Del Rio/Mission Center Rd - Accident.</td>\n",
              "      <td>...</td>\n",
              "      <td>False</td>\n",
              "      <td>False</td>\n",
              "      <td>False</td>\n",
              "      <td>False</td>\n",
              "      <td>False</td>\n",
              "      <td>False</td>\n",
              "      <td>Day</td>\n",
              "      <td>Day</td>\n",
              "      <td>Day</td>\n",
              "      <td>Day</td>\n",
              "    </tr>\n",
              "    <tr>\n",
              "      <th>2845339</th>\n",
              "      <td>A-2845340</td>\n",
              "      <td>2</td>\n",
              "      <td>2019-08-23 19:00:21</td>\n",
              "      <td>2019-08-23 19:28:49</td>\n",
              "      <td>33.775450</td>\n",
              "      <td>-117.847790</td>\n",
              "      <td>33.777400</td>\n",
              "      <td>-117.857270</td>\n",
              "      <td>0.561</td>\n",
              "      <td>At Glassell St/Grand Ave - Accident. in the ri...</td>\n",
              "      <td>...</td>\n",
              "      <td>False</td>\n",
              "      <td>False</td>\n",
              "      <td>False</td>\n",
              "      <td>False</td>\n",
              "      <td>False</td>\n",
              "      <td>False</td>\n",
              "      <td>Day</td>\n",
              "      <td>Day</td>\n",
              "      <td>Day</td>\n",
              "      <td>Day</td>\n",
              "    </tr>\n",
              "    <tr>\n",
              "      <th>2845340</th>\n",
              "      <td>A-2845341</td>\n",
              "      <td>2</td>\n",
              "      <td>2019-08-23 19:00:21</td>\n",
              "      <td>2019-08-23 19:29:42</td>\n",
              "      <td>33.992460</td>\n",
              "      <td>-118.403020</td>\n",
              "      <td>33.983110</td>\n",
              "      <td>-118.395650</td>\n",
              "      <td>0.772</td>\n",
              "      <td>At CA-90/Marina Fwy/Jefferson Blvd - Accident.</td>\n",
              "      <td>...</td>\n",
              "      <td>False</td>\n",
              "      <td>False</td>\n",
              "      <td>False</td>\n",
              "      <td>False</td>\n",
              "      <td>False</td>\n",
              "      <td>False</td>\n",
              "      <td>Day</td>\n",
              "      <td>Day</td>\n",
              "      <td>Day</td>\n",
              "      <td>Day</td>\n",
              "    </tr>\n",
              "    <tr>\n",
              "      <th>2845341</th>\n",
              "      <td>A-2845342</td>\n",
              "      <td>2</td>\n",
              "      <td>2019-08-23 18:52:06</td>\n",
              "      <td>2019-08-23 19:21:31</td>\n",
              "      <td>34.133930</td>\n",
              "      <td>-117.230920</td>\n",
              "      <td>34.137360</td>\n",
              "      <td>-117.239340</td>\n",
              "      <td>0.537</td>\n",
              "      <td>At Highland Ave/Arden Ave - Accident.</td>\n",
              "      <td>...</td>\n",
              "      <td>False</td>\n",
              "      <td>False</td>\n",
              "      <td>False</td>\n",
              "      <td>False</td>\n",
              "      <td>False</td>\n",
              "      <td>False</td>\n",
              "      <td>Day</td>\n",
              "      <td>Day</td>\n",
              "      <td>Day</td>\n",
              "      <td>Day</td>\n",
              "    </tr>\n",
              "  </tbody>\n",
              "</table>\n",
              "<p>2845342 rows × 47 columns</p>\n",
              "</div>\n",
              "      <button class=\"colab-df-convert\" onclick=\"convertToInteractive('df-f1857ddc-95a0-4b33-8050-41a88be77af6')\"\n",
              "              title=\"Convert this dataframe to an interactive table.\"\n",
              "              style=\"display:none;\">\n",
              "        \n",
              "  <svg xmlns=\"http://www.w3.org/2000/svg\" height=\"24px\"viewBox=\"0 0 24 24\"\n",
              "       width=\"24px\">\n",
              "    <path d=\"M0 0h24v24H0V0z\" fill=\"none\"/>\n",
              "    <path d=\"M18.56 5.44l.94 2.06.94-2.06 2.06-.94-2.06-.94-.94-2.06-.94 2.06-2.06.94zm-11 1L8.5 8.5l.94-2.06 2.06-.94-2.06-.94L8.5 2.5l-.94 2.06-2.06.94zm10 10l.94 2.06.94-2.06 2.06-.94-2.06-.94-.94-2.06-.94 2.06-2.06.94z\"/><path d=\"M17.41 7.96l-1.37-1.37c-.4-.4-.92-.59-1.43-.59-.52 0-1.04.2-1.43.59L10.3 9.45l-7.72 7.72c-.78.78-.78 2.05 0 2.83L4 21.41c.39.39.9.59 1.41.59.51 0 1.02-.2 1.41-.59l7.78-7.78 2.81-2.81c.8-.78.8-2.07 0-2.86zM5.41 20L4 18.59l7.72-7.72 1.47 1.35L5.41 20z\"/>\n",
              "  </svg>\n",
              "      </button>\n",
              "      \n",
              "  <style>\n",
              "    .colab-df-container {\n",
              "      display:flex;\n",
              "      flex-wrap:wrap;\n",
              "      gap: 12px;\n",
              "    }\n",
              "\n",
              "    .colab-df-convert {\n",
              "      background-color: #E8F0FE;\n",
              "      border: none;\n",
              "      border-radius: 50%;\n",
              "      cursor: pointer;\n",
              "      display: none;\n",
              "      fill: #1967D2;\n",
              "      height: 32px;\n",
              "      padding: 0 0 0 0;\n",
              "      width: 32px;\n",
              "    }\n",
              "\n",
              "    .colab-df-convert:hover {\n",
              "      background-color: #E2EBFA;\n",
              "      box-shadow: 0px 1px 2px rgba(60, 64, 67, 0.3), 0px 1px 3px 1px rgba(60, 64, 67, 0.15);\n",
              "      fill: #174EA6;\n",
              "    }\n",
              "\n",
              "    [theme=dark] .colab-df-convert {\n",
              "      background-color: #3B4455;\n",
              "      fill: #D2E3FC;\n",
              "    }\n",
              "\n",
              "    [theme=dark] .colab-df-convert:hover {\n",
              "      background-color: #434B5C;\n",
              "      box-shadow: 0px 1px 3px 1px rgba(0, 0, 0, 0.15);\n",
              "      filter: drop-shadow(0px 1px 2px rgba(0, 0, 0, 0.3));\n",
              "      fill: #FFFFFF;\n",
              "    }\n",
              "  </style>\n",
              "\n",
              "      <script>\n",
              "        const buttonEl =\n",
              "          document.querySelector('#df-f1857ddc-95a0-4b33-8050-41a88be77af6 button.colab-df-convert');\n",
              "        buttonEl.style.display =\n",
              "          google.colab.kernel.accessAllowed ? 'block' : 'none';\n",
              "\n",
              "        async function convertToInteractive(key) {\n",
              "          const element = document.querySelector('#df-f1857ddc-95a0-4b33-8050-41a88be77af6');\n",
              "          const dataTable =\n",
              "            await google.colab.kernel.invokeFunction('convertToInteractive',\n",
              "                                                     [key], {});\n",
              "          if (!dataTable) return;\n",
              "\n",
              "          const docLinkHtml = 'Like what you see? Visit the ' +\n",
              "            '<a target=\"_blank\" href=https://colab.research.google.com/notebooks/data_table.ipynb>data table notebook</a>'\n",
              "            + ' to learn more about interactive tables.';\n",
              "          element.innerHTML = '';\n",
              "          dataTable['output_type'] = 'display_data';\n",
              "          await google.colab.output.renderOutput(dataTable, element);\n",
              "          const docLink = document.createElement('div');\n",
              "          docLink.innerHTML = docLinkHtml;\n",
              "          element.appendChild(docLink);\n",
              "        }\n",
              "      </script>\n",
              "    </div>\n",
              "  </div>\n",
              "  "
            ]
          },
          "metadata": {},
          "execution_count": 18
        }
      ]
    },
    {
      "cell_type": "code",
      "source": [
        "df.columns"
      ],
      "metadata": {
        "colab": {
          "base_uri": "https://localhost:8080/"
        },
        "id": "BXmHIBGjT4Jm",
        "outputId": "4b67245a-921e-4f99-f52e-4c7b25ff20d5"
      },
      "execution_count": 19,
      "outputs": [
        {
          "output_type": "execute_result",
          "data": {
            "text/plain": [
              "Index(['ID', 'Severity', 'Start_Time', 'End_Time', 'Start_Lat', 'Start_Lng',\n",
              "       'End_Lat', 'End_Lng', 'Distance(mi)', 'Description', 'Number', 'Street',\n",
              "       'Side', 'City', 'County', 'State', 'Zipcode', 'Country', 'Timezone',\n",
              "       'Airport_Code', 'Weather_Timestamp', 'Temperature(F)', 'Wind_Chill(F)',\n",
              "       'Humidity(%)', 'Pressure(in)', 'Visibility(mi)', 'Wind_Direction',\n",
              "       'Wind_Speed(mph)', 'Precipitation(in)', 'Weather_Condition', 'Amenity',\n",
              "       'Bump', 'Crossing', 'Give_Way', 'Junction', 'No_Exit', 'Railway',\n",
              "       'Roundabout', 'Station', 'Stop', 'Traffic_Calming', 'Traffic_Signal',\n",
              "       'Turning_Loop', 'Sunrise_Sunset', 'Civil_Twilight', 'Nautical_Twilight',\n",
              "       'Astronomical_Twilight'],\n",
              "      dtype='object')"
            ]
          },
          "metadata": {},
          "execution_count": 19
        }
      ]
    },
    {
      "cell_type": "code",
      "source": [
        "df.info()"
      ],
      "metadata": {
        "colab": {
          "base_uri": "https://localhost:8080/"
        },
        "id": "ejz_QFrVUXqu",
        "outputId": "a94ef5ec-716a-4dae-a0b6-6903b12e8a5d"
      },
      "execution_count": 20,
      "outputs": [
        {
          "output_type": "stream",
          "name": "stdout",
          "text": [
            "<class 'pandas.core.frame.DataFrame'>\n",
            "RangeIndex: 2845342 entries, 0 to 2845341\n",
            "Data columns (total 47 columns):\n",
            " #   Column                 Dtype  \n",
            "---  ------                 -----  \n",
            " 0   ID                     object \n",
            " 1   Severity               int64  \n",
            " 2   Start_Time             object \n",
            " 3   End_Time               object \n",
            " 4   Start_Lat              float64\n",
            " 5   Start_Lng              float64\n",
            " 6   End_Lat                float64\n",
            " 7   End_Lng                float64\n",
            " 8   Distance(mi)           float64\n",
            " 9   Description            object \n",
            " 10  Number                 float64\n",
            " 11  Street                 object \n",
            " 12  Side                   object \n",
            " 13  City                   object \n",
            " 14  County                 object \n",
            " 15  State                  object \n",
            " 16  Zipcode                object \n",
            " 17  Country                object \n",
            " 18  Timezone               object \n",
            " 19  Airport_Code           object \n",
            " 20  Weather_Timestamp      object \n",
            " 21  Temperature(F)         float64\n",
            " 22  Wind_Chill(F)          float64\n",
            " 23  Humidity(%)            float64\n",
            " 24  Pressure(in)           float64\n",
            " 25  Visibility(mi)         float64\n",
            " 26  Wind_Direction         object \n",
            " 27  Wind_Speed(mph)        float64\n",
            " 28  Precipitation(in)      float64\n",
            " 29  Weather_Condition      object \n",
            " 30  Amenity                bool   \n",
            " 31  Bump                   bool   \n",
            " 32  Crossing               bool   \n",
            " 33  Give_Way               bool   \n",
            " 34  Junction               bool   \n",
            " 35  No_Exit                bool   \n",
            " 36  Railway                bool   \n",
            " 37  Roundabout             bool   \n",
            " 38  Station                bool   \n",
            " 39  Stop                   bool   \n",
            " 40  Traffic_Calming        bool   \n",
            " 41  Traffic_Signal         bool   \n",
            " 42  Turning_Loop           bool   \n",
            " 43  Sunrise_Sunset         object \n",
            " 44  Civil_Twilight         object \n",
            " 45  Nautical_Twilight      object \n",
            " 46  Astronomical_Twilight  object \n",
            "dtypes: bool(13), float64(13), int64(1), object(20)\n",
            "memory usage: 773.4+ MB\n"
          ]
        }
      ]
    },
    {
      "cell_type": "code",
      "source": [
        "df.describe()"
      ],
      "metadata": {
        "colab": {
          "base_uri": "https://localhost:8080/",
          "height": 0
        },
        "id": "BCnQx2ifUXnW",
        "outputId": "6d187730-215f-4e82-8404-5ee2e2147a41"
      },
      "execution_count": 21,
      "outputs": [
        {
          "output_type": "execute_result",
          "data": {
            "text/plain": [
              "           Severity     Start_Lat     Start_Lng       End_Lat       End_Lng  \\\n",
              "count  2.845342e+06  2.845342e+06  2.845342e+06  2.845342e+06  2.845342e+06   \n",
              "mean   2.137572e+00  3.624520e+01 -9.711463e+01  3.624532e+01 -9.711439e+01   \n",
              "std    4.787216e-01  5.363797e+00  1.831782e+01  5.363873e+00  1.831763e+01   \n",
              "min    1.000000e+00  2.456603e+01 -1.245481e+02  2.456601e+01 -1.245457e+02   \n",
              "25%    2.000000e+00  3.344517e+01 -1.180331e+02  3.344628e+01 -1.180333e+02   \n",
              "50%    2.000000e+00  3.609861e+01 -9.241808e+01  3.609799e+01 -9.241772e+01   \n",
              "75%    2.000000e+00  4.016024e+01 -8.037243e+01  4.016105e+01 -8.037338e+01   \n",
              "max    4.000000e+00  4.900058e+01 -6.711317e+01  4.907500e+01 -6.710924e+01   \n",
              "\n",
              "       Distance(mi)        Number  Temperature(F)  Wind_Chill(F)  \\\n",
              "count  2.845342e+06  1.101431e+06    2.776068e+06   2.375699e+06   \n",
              "mean   7.026779e-01  8.089408e+03    6.179356e+01   5.965823e+01   \n",
              "std    1.560361e+00  1.836009e+04    1.862263e+01   2.116097e+01   \n",
              "min    0.000000e+00  0.000000e+00   -8.900000e+01  -8.900000e+01   \n",
              "25%    5.200000e-02  1.270000e+03    5.000000e+01   4.600000e+01   \n",
              "50%    2.440000e-01  4.007000e+03    6.400000e+01   6.300000e+01   \n",
              "75%    7.640000e-01  9.567000e+03    7.600000e+01   7.600000e+01   \n",
              "max    1.551860e+02  9.999997e+06    1.960000e+02   1.960000e+02   \n",
              "\n",
              "        Humidity(%)  Pressure(in)  Visibility(mi)  Wind_Speed(mph)  \\\n",
              "count  2.772250e+06  2.786142e+06    2.774796e+06     2.687398e+06   \n",
              "mean   6.436545e+01  2.947234e+01    9.099391e+00     7.395044e+00   \n",
              "std    2.287457e+01  1.045286e+00    2.717546e+00     5.527454e+00   \n",
              "min    1.000000e+00  0.000000e+00    0.000000e+00     0.000000e+00   \n",
              "25%    4.800000e+01  2.931000e+01    1.000000e+01     3.500000e+00   \n",
              "50%    6.700000e+01  2.982000e+01    1.000000e+01     7.000000e+00   \n",
              "75%    8.300000e+01  3.001000e+01    1.000000e+01     1.000000e+01   \n",
              "max    1.000000e+02  5.890000e+01    1.400000e+02     1.087000e+03   \n",
              "\n",
              "       Precipitation(in)  \n",
              "count       2.295884e+06  \n",
              "mean        7.016940e-03  \n",
              "std         9.348831e-02  \n",
              "min         0.000000e+00  \n",
              "25%         0.000000e+00  \n",
              "50%         0.000000e+00  \n",
              "75%         0.000000e+00  \n",
              "max         2.400000e+01  "
            ],
            "text/html": [
              "\n",
              "  <div id=\"df-942a0f72-1854-44a2-8149-96067f327dbb\">\n",
              "    <div class=\"colab-df-container\">\n",
              "      <div>\n",
              "<style scoped>\n",
              "    .dataframe tbody tr th:only-of-type {\n",
              "        vertical-align: middle;\n",
              "    }\n",
              "\n",
              "    .dataframe tbody tr th {\n",
              "        vertical-align: top;\n",
              "    }\n",
              "\n",
              "    .dataframe thead th {\n",
              "        text-align: right;\n",
              "    }\n",
              "</style>\n",
              "<table border=\"1\" class=\"dataframe\">\n",
              "  <thead>\n",
              "    <tr style=\"text-align: right;\">\n",
              "      <th></th>\n",
              "      <th>Severity</th>\n",
              "      <th>Start_Lat</th>\n",
              "      <th>Start_Lng</th>\n",
              "      <th>End_Lat</th>\n",
              "      <th>End_Lng</th>\n",
              "      <th>Distance(mi)</th>\n",
              "      <th>Number</th>\n",
              "      <th>Temperature(F)</th>\n",
              "      <th>Wind_Chill(F)</th>\n",
              "      <th>Humidity(%)</th>\n",
              "      <th>Pressure(in)</th>\n",
              "      <th>Visibility(mi)</th>\n",
              "      <th>Wind_Speed(mph)</th>\n",
              "      <th>Precipitation(in)</th>\n",
              "    </tr>\n",
              "  </thead>\n",
              "  <tbody>\n",
              "    <tr>\n",
              "      <th>count</th>\n",
              "      <td>2.845342e+06</td>\n",
              "      <td>2.845342e+06</td>\n",
              "      <td>2.845342e+06</td>\n",
              "      <td>2.845342e+06</td>\n",
              "      <td>2.845342e+06</td>\n",
              "      <td>2.845342e+06</td>\n",
              "      <td>1.101431e+06</td>\n",
              "      <td>2.776068e+06</td>\n",
              "      <td>2.375699e+06</td>\n",
              "      <td>2.772250e+06</td>\n",
              "      <td>2.786142e+06</td>\n",
              "      <td>2.774796e+06</td>\n",
              "      <td>2.687398e+06</td>\n",
              "      <td>2.295884e+06</td>\n",
              "    </tr>\n",
              "    <tr>\n",
              "      <th>mean</th>\n",
              "      <td>2.137572e+00</td>\n",
              "      <td>3.624520e+01</td>\n",
              "      <td>-9.711463e+01</td>\n",
              "      <td>3.624532e+01</td>\n",
              "      <td>-9.711439e+01</td>\n",
              "      <td>7.026779e-01</td>\n",
              "      <td>8.089408e+03</td>\n",
              "      <td>6.179356e+01</td>\n",
              "      <td>5.965823e+01</td>\n",
              "      <td>6.436545e+01</td>\n",
              "      <td>2.947234e+01</td>\n",
              "      <td>9.099391e+00</td>\n",
              "      <td>7.395044e+00</td>\n",
              "      <td>7.016940e-03</td>\n",
              "    </tr>\n",
              "    <tr>\n",
              "      <th>std</th>\n",
              "      <td>4.787216e-01</td>\n",
              "      <td>5.363797e+00</td>\n",
              "      <td>1.831782e+01</td>\n",
              "      <td>5.363873e+00</td>\n",
              "      <td>1.831763e+01</td>\n",
              "      <td>1.560361e+00</td>\n",
              "      <td>1.836009e+04</td>\n",
              "      <td>1.862263e+01</td>\n",
              "      <td>2.116097e+01</td>\n",
              "      <td>2.287457e+01</td>\n",
              "      <td>1.045286e+00</td>\n",
              "      <td>2.717546e+00</td>\n",
              "      <td>5.527454e+00</td>\n",
              "      <td>9.348831e-02</td>\n",
              "    </tr>\n",
              "    <tr>\n",
              "      <th>min</th>\n",
              "      <td>1.000000e+00</td>\n",
              "      <td>2.456603e+01</td>\n",
              "      <td>-1.245481e+02</td>\n",
              "      <td>2.456601e+01</td>\n",
              "      <td>-1.245457e+02</td>\n",
              "      <td>0.000000e+00</td>\n",
              "      <td>0.000000e+00</td>\n",
              "      <td>-8.900000e+01</td>\n",
              "      <td>-8.900000e+01</td>\n",
              "      <td>1.000000e+00</td>\n",
              "      <td>0.000000e+00</td>\n",
              "      <td>0.000000e+00</td>\n",
              "      <td>0.000000e+00</td>\n",
              "      <td>0.000000e+00</td>\n",
              "    </tr>\n",
              "    <tr>\n",
              "      <th>25%</th>\n",
              "      <td>2.000000e+00</td>\n",
              "      <td>3.344517e+01</td>\n",
              "      <td>-1.180331e+02</td>\n",
              "      <td>3.344628e+01</td>\n",
              "      <td>-1.180333e+02</td>\n",
              "      <td>5.200000e-02</td>\n",
              "      <td>1.270000e+03</td>\n",
              "      <td>5.000000e+01</td>\n",
              "      <td>4.600000e+01</td>\n",
              "      <td>4.800000e+01</td>\n",
              "      <td>2.931000e+01</td>\n",
              "      <td>1.000000e+01</td>\n",
              "      <td>3.500000e+00</td>\n",
              "      <td>0.000000e+00</td>\n",
              "    </tr>\n",
              "    <tr>\n",
              "      <th>50%</th>\n",
              "      <td>2.000000e+00</td>\n",
              "      <td>3.609861e+01</td>\n",
              "      <td>-9.241808e+01</td>\n",
              "      <td>3.609799e+01</td>\n",
              "      <td>-9.241772e+01</td>\n",
              "      <td>2.440000e-01</td>\n",
              "      <td>4.007000e+03</td>\n",
              "      <td>6.400000e+01</td>\n",
              "      <td>6.300000e+01</td>\n",
              "      <td>6.700000e+01</td>\n",
              "      <td>2.982000e+01</td>\n",
              "      <td>1.000000e+01</td>\n",
              "      <td>7.000000e+00</td>\n",
              "      <td>0.000000e+00</td>\n",
              "    </tr>\n",
              "    <tr>\n",
              "      <th>75%</th>\n",
              "      <td>2.000000e+00</td>\n",
              "      <td>4.016024e+01</td>\n",
              "      <td>-8.037243e+01</td>\n",
              "      <td>4.016105e+01</td>\n",
              "      <td>-8.037338e+01</td>\n",
              "      <td>7.640000e-01</td>\n",
              "      <td>9.567000e+03</td>\n",
              "      <td>7.600000e+01</td>\n",
              "      <td>7.600000e+01</td>\n",
              "      <td>8.300000e+01</td>\n",
              "      <td>3.001000e+01</td>\n",
              "      <td>1.000000e+01</td>\n",
              "      <td>1.000000e+01</td>\n",
              "      <td>0.000000e+00</td>\n",
              "    </tr>\n",
              "    <tr>\n",
              "      <th>max</th>\n",
              "      <td>4.000000e+00</td>\n",
              "      <td>4.900058e+01</td>\n",
              "      <td>-6.711317e+01</td>\n",
              "      <td>4.907500e+01</td>\n",
              "      <td>-6.710924e+01</td>\n",
              "      <td>1.551860e+02</td>\n",
              "      <td>9.999997e+06</td>\n",
              "      <td>1.960000e+02</td>\n",
              "      <td>1.960000e+02</td>\n",
              "      <td>1.000000e+02</td>\n",
              "      <td>5.890000e+01</td>\n",
              "      <td>1.400000e+02</td>\n",
              "      <td>1.087000e+03</td>\n",
              "      <td>2.400000e+01</td>\n",
              "    </tr>\n",
              "  </tbody>\n",
              "</table>\n",
              "</div>\n",
              "      <button class=\"colab-df-convert\" onclick=\"convertToInteractive('df-942a0f72-1854-44a2-8149-96067f327dbb')\"\n",
              "              title=\"Convert this dataframe to an interactive table.\"\n",
              "              style=\"display:none;\">\n",
              "        \n",
              "  <svg xmlns=\"http://www.w3.org/2000/svg\" height=\"24px\"viewBox=\"0 0 24 24\"\n",
              "       width=\"24px\">\n",
              "    <path d=\"M0 0h24v24H0V0z\" fill=\"none\"/>\n",
              "    <path d=\"M18.56 5.44l.94 2.06.94-2.06 2.06-.94-2.06-.94-.94-2.06-.94 2.06-2.06.94zm-11 1L8.5 8.5l.94-2.06 2.06-.94-2.06-.94L8.5 2.5l-.94 2.06-2.06.94zm10 10l.94 2.06.94-2.06 2.06-.94-2.06-.94-.94-2.06-.94 2.06-2.06.94z\"/><path d=\"M17.41 7.96l-1.37-1.37c-.4-.4-.92-.59-1.43-.59-.52 0-1.04.2-1.43.59L10.3 9.45l-7.72 7.72c-.78.78-.78 2.05 0 2.83L4 21.41c.39.39.9.59 1.41.59.51 0 1.02-.2 1.41-.59l7.78-7.78 2.81-2.81c.8-.78.8-2.07 0-2.86zM5.41 20L4 18.59l7.72-7.72 1.47 1.35L5.41 20z\"/>\n",
              "  </svg>\n",
              "      </button>\n",
              "      \n",
              "  <style>\n",
              "    .colab-df-container {\n",
              "      display:flex;\n",
              "      flex-wrap:wrap;\n",
              "      gap: 12px;\n",
              "    }\n",
              "\n",
              "    .colab-df-convert {\n",
              "      background-color: #E8F0FE;\n",
              "      border: none;\n",
              "      border-radius: 50%;\n",
              "      cursor: pointer;\n",
              "      display: none;\n",
              "      fill: #1967D2;\n",
              "      height: 32px;\n",
              "      padding: 0 0 0 0;\n",
              "      width: 32px;\n",
              "    }\n",
              "\n",
              "    .colab-df-convert:hover {\n",
              "      background-color: #E2EBFA;\n",
              "      box-shadow: 0px 1px 2px rgba(60, 64, 67, 0.3), 0px 1px 3px 1px rgba(60, 64, 67, 0.15);\n",
              "      fill: #174EA6;\n",
              "    }\n",
              "\n",
              "    [theme=dark] .colab-df-convert {\n",
              "      background-color: #3B4455;\n",
              "      fill: #D2E3FC;\n",
              "    }\n",
              "\n",
              "    [theme=dark] .colab-df-convert:hover {\n",
              "      background-color: #434B5C;\n",
              "      box-shadow: 0px 1px 3px 1px rgba(0, 0, 0, 0.15);\n",
              "      filter: drop-shadow(0px 1px 2px rgba(0, 0, 0, 0.3));\n",
              "      fill: #FFFFFF;\n",
              "    }\n",
              "  </style>\n",
              "\n",
              "      <script>\n",
              "        const buttonEl =\n",
              "          document.querySelector('#df-942a0f72-1854-44a2-8149-96067f327dbb button.colab-df-convert');\n",
              "        buttonEl.style.display =\n",
              "          google.colab.kernel.accessAllowed ? 'block' : 'none';\n",
              "\n",
              "        async function convertToInteractive(key) {\n",
              "          const element = document.querySelector('#df-942a0f72-1854-44a2-8149-96067f327dbb');\n",
              "          const dataTable =\n",
              "            await google.colab.kernel.invokeFunction('convertToInteractive',\n",
              "                                                     [key], {});\n",
              "          if (!dataTable) return;\n",
              "\n",
              "          const docLinkHtml = 'Like what you see? Visit the ' +\n",
              "            '<a target=\"_blank\" href=https://colab.research.google.com/notebooks/data_table.ipynb>data table notebook</a>'\n",
              "            + ' to learn more about interactive tables.';\n",
              "          element.innerHTML = '';\n",
              "          dataTable['output_type'] = 'display_data';\n",
              "          await google.colab.output.renderOutput(dataTable, element);\n",
              "          const docLink = document.createElement('div');\n",
              "          docLink.innerHTML = docLinkHtml;\n",
              "          element.appendChild(docLink);\n",
              "        }\n",
              "      </script>\n",
              "    </div>\n",
              "  </div>\n",
              "  "
            ]
          },
          "metadata": {},
          "execution_count": 21
        }
      ]
    },
    {
      "cell_type": "code",
      "source": [
        "numerics = ['int16', 'int32', 'int64', 'float16', 'float32', 'float64']\n",
        "\n",
        "numeric_df = df.select_dtypes(include=numerics)\n",
        "len(numeric_df.columns)"
      ],
      "metadata": {
        "colab": {
          "base_uri": "https://localhost:8080/"
        },
        "id": "VNgpzvoJUXj1",
        "outputId": "57749f30-8469-4dd0-8301-79ab172cb6ff"
      },
      "execution_count": 22,
      "outputs": [
        {
          "output_type": "execute_result",
          "data": {
            "text/plain": [
              "14"
            ]
          },
          "metadata": {},
          "execution_count": 22
        }
      ]
    },
    {
      "cell_type": "markdown",
      "source": [
        "##Percentage of missing value coulmns\n"
      ],
      "metadata": {
        "id": "pu8QwitgXNgV"
      }
    },
    {
      "cell_type": "code",
      "source": [
        "missing_percentage=round((df.isna().sum().sort_values(ascending=False)/len(df))*100,2)\n",
        "missing_percentage"
      ],
      "metadata": {
        "colab": {
          "base_uri": "https://localhost:8080/"
        },
        "id": "uoXXHmDWUXgu",
        "outputId": "ccd976d8-1ded-47f1-c370-640bf1685339"
      },
      "execution_count": 14,
      "outputs": [
        {
          "output_type": "execute_result",
          "data": {
            "text/plain": [
              "Number                   61.29\n",
              "Precipitation(in)        19.31\n",
              "Wind_Chill(F)            16.51\n",
              "Wind_Speed(mph)           5.55\n",
              "Wind_Direction            2.59\n",
              "Humidity(%)               2.57\n",
              "Weather_Condition         2.48\n",
              "Visibility(mi)            2.48\n",
              "Temperature(F)            2.43\n",
              "Pressure(in)              2.08\n",
              "Weather_Timestamp         1.78\n",
              "Airport_Code              0.34\n",
              "Timezone                  0.13\n",
              "Nautical_Twilight         0.10\n",
              "Civil_Twilight            0.10\n",
              "Sunrise_Sunset            0.10\n",
              "Astronomical_Twilight     0.10\n",
              "Zipcode                   0.05\n",
              "City                      0.00\n",
              "Street                    0.00\n",
              "Country                   0.00\n",
              "Junction                  0.00\n",
              "Start_Time                0.00\n",
              "End_Time                  0.00\n",
              "Start_Lat                 0.00\n",
              "Turning_Loop              0.00\n",
              "Traffic_Signal            0.00\n",
              "Traffic_Calming           0.00\n",
              "Stop                      0.00\n",
              "Station                   0.00\n",
              "Roundabout                0.00\n",
              "Railway                   0.00\n",
              "No_Exit                   0.00\n",
              "Crossing                  0.00\n",
              "Give_Way                  0.00\n",
              "Bump                      0.00\n",
              "Amenity                   0.00\n",
              "Start_Lng                 0.00\n",
              "End_Lat                   0.00\n",
              "End_Lng                   0.00\n",
              "Distance(mi)              0.00\n",
              "Description               0.00\n",
              "Severity                  0.00\n",
              "Side                      0.00\n",
              "County                    0.00\n",
              "State                     0.00\n",
              "ID                        0.00\n",
              "dtype: float64"
            ]
          },
          "metadata": {},
          "execution_count": 14
        }
      ]
    },
    {
      "cell_type": "code",
      "source": [
        "missing_percentage.plot(kind='barh')"
      ],
      "metadata": {
        "colab": {
          "base_uri": "https://localhost:8080/",
          "height": 0
        },
        "id": "d2_d3kUFYXHP",
        "outputId": "073560f2-3cb4-49a4-ee67-095eb30d073c"
      },
      "execution_count": 15,
      "outputs": [
        {
          "output_type": "execute_result",
          "data": {
            "text/plain": [
              "<matplotlib.axes._subplots.AxesSubplot at 0x7f9cf72931c0>"
            ]
          },
          "metadata": {},
          "execution_count": 15
        },
        {
          "output_type": "display_data",
          "data": {
            "text/plain": [
              "<Figure size 432x288 with 1 Axes>"
            ],
            "image/png": "[encoded data removed]"
          },
          "metadata": {
            "needs_background": "light"
          }
        }
      ]
    },
    {
      "cell_type": "code",
      "source": [
        "missing_percentage[missing_percentage!=0]"
      ],
      "metadata": {
        "colab": {
          "base_uri": "https://localhost:8080/"
        },
        "id": "E0Ga7m_oY5kU",
        "outputId": "fec1cf76-a7f0-4ccb-b32b-d049b44855c8"
      },
      "execution_count": 16,
      "outputs": [
        {
          "output_type": "execute_result",
          "data": {
            "text/plain": [
              "Number                   61.29\n",
              "Precipitation(in)        19.31\n",
              "Wind_Chill(F)            16.51\n",
              "Wind_Speed(mph)           5.55\n",
              "Wind_Direction            2.59\n",
              "Humidity(%)               2.57\n",
              "Weather_Condition         2.48\n",
              "Visibility(mi)            2.48\n",
              "Temperature(F)            2.43\n",
              "Pressure(in)              2.08\n",
              "Weather_Timestamp         1.78\n",
              "Airport_Code              0.34\n",
              "Timezone                  0.13\n",
              "Nautical_Twilight         0.10\n",
              "Civil_Twilight            0.10\n",
              "Sunrise_Sunset            0.10\n",
              "Astronomical_Twilight     0.10\n",
              "Zipcode                   0.05\n",
              "dtype: float64"
            ]
          },
          "metadata": {},
          "execution_count": 16
        }
      ]
    },
    {
      "cell_type": "code",
      "source": [
        "missing_percentage[missing_percentage!=0].plot(kind='barh')"
      ],
      "metadata": {
        "colab": {
          "base_uri": "https://localhost:8080/",
          "height": 0
        },
        "id": "XVT4NeIRZKUM",
        "outputId": "a528d248-8afe-4f2f-9f6d-7395b71060bf"
      },
      "execution_count": 17,
      "outputs": [
        {
          "output_type": "execute_result",
          "data": {
            "text/plain": [
              "<matplotlib.axes._subplots.AxesSubplot at 0x7f9cf7181490>"
            ]
          },
          "metadata": {},
          "execution_count": 17
        },
        {
          "output_type": "display_data",
          "data": {
            "text/plain": [
              "<Figure size 432x288 with 1 Axes>"
            ],
            "image/png": "[encoded data removed]"
          },
          "metadata": {
            "needs_background": "light"
          }
        }
      ]
    },
    {
      "cell_type": "markdown",
      "source": [
        "**Remove colums you don't want use**"
      ],
      "metadata": {
        "id": "5_uMYdbDZYLc"
      }
    },
    {
      "cell_type": "markdown",
      "source": [
        "#**EDA**\n",
        "columns we ananlyze\n",
        " 1.city\n",
        " 2.start_lat\n",
        " 3.End_lng\n",
        " 4.tempeature\n",
        " 5.weather_condition"
      ],
      "metadata": {
        "id": "NL1BJGm4ZnBd"
      }
    },
    {
      "cell_type": "code",
      "source": [
        "df.columns"
      ],
      "metadata": {
        "colab": {
          "base_uri": "https://localhost:8080/"
        },
        "id": "gVcjrl38UXdm",
        "outputId": "7de90a52-f913-4082-b185-43a96544eb70"
      },
      "execution_count": 13,
      "outputs": [
        {
          "output_type": "execute_result",
          "data": {
            "text/plain": [
              "Index(['ID', 'Severity', 'Start_Time', 'End_Time', 'Start_Lat', 'Start_Lng',\n",
              "       'End_Lat', 'End_Lng', 'Distance(mi)', 'Description', 'Number', 'Street',\n",
              "       'Side', 'City', 'County', 'State', 'Zipcode', 'Country', 'Timezone',\n",
              "       'Airport_Code', 'Weather_Timestamp', 'Temperature(F)', 'Wind_Chill(F)',\n",
              "       'Humidity(%)', 'Pressure(in)', 'Visibility(mi)', 'Wind_Direction',\n",
              "       'Wind_Speed(mph)', 'Precipitation(in)', 'Weather_Condition', 'Amenity',\n",
              "       'Bump', 'Crossing', 'Give_Way', 'Junction', 'No_Exit', 'Railway',\n",
              "       'Roundabout', 'Station', 'Stop', 'Traffic_Calming', 'Traffic_Signal',\n",
              "       'Turning_Loop', 'Sunrise_Sunset', 'Civil_Twilight', 'Nautical_Twilight',\n",
              "       'Astronomical_Twilight'],\n",
              "      dtype='object')"
            ]
          },
          "metadata": {},
          "execution_count": 13
        }
      ]
    },
    {
      "cell_type": "markdown",
      "source": [
        "###City"
      ],
      "metadata": {
        "id": "8kG4lVl_wg0o"
      }
    },
    {
      "cell_type": "code",
      "source": [
        "df.City"
      ],
      "metadata": {
        "colab": {
          "base_uri": "https://localhost:8080/"
        },
        "id": "YrR9YSaMZmx-",
        "outputId": "f1e6a309-67f4-41e4-cab2-45009ea60cb3"
      },
      "execution_count": 25,
      "outputs": [
        {
          "output_type": "execute_result",
          "data": {
            "text/plain": [
              "0               Dublin\n",
              "1               Dayton\n",
              "2           Cincinnati\n",
              "3                Akron\n",
              "4           Cincinnati\n",
              "              ...     \n",
              "2845337      Riverside\n",
              "2845338      San Diego\n",
              "2845339         Orange\n",
              "2845340    Culver City\n",
              "2845341       Highland\n",
              "Name: City, Length: 2845342, dtype: object"
            ]
          },
          "metadata": {},
          "execution_count": 25
        }
      ]
    },
    {
      "cell_type": "code",
      "source": [
        "unique_city=df.City.unique()\n",
        "len(unique_city)"
      ],
      "metadata": {
        "colab": {
          "base_uri": "https://localhost:8080/"
        },
        "id": "w1V10RW2apbu",
        "outputId": "a5465536-0375-4d19-9826-41cfb972cb6d"
      },
      "execution_count": 24,
      "outputs": [
        {
          "output_type": "execute_result",
          "data": {
            "text/plain": [
              "11682"
            ]
          },
          "metadata": {},
          "execution_count": 24
        }
      ]
    },
    {
      "cell_type": "code",
      "source": [
        "state_by_accident=df.State.value_counts()\n",
        "state_by_accident[10]"
      ],
      "metadata": {
        "colab": {
          "base_uri": "https://localhost:8080/"
        },
        "id": "9uxoMuZwpogH",
        "outputId": "abd052a7-ba5e-4c3b-ddae-fae5e3b9c00e"
      },
      "execution_count": 30,
      "outputs": [
        {
          "output_type": "execute_result",
          "data": {
            "text/plain": [
              "65085"
            ]
          },
          "metadata": {},
          "execution_count": 30
        }
      ]
    },
    {
      "cell_type": "code",
      "source": [
        "cities_by_accident=df.City.value_counts()\n",
        "cities_by_accident"
      ],
      "metadata": {
        "colab": {
          "base_uri": "https://localhost:8080/"
        },
        "id": "kUZY2wLCb3-B",
        "outputId": "037fba8b-98b5-4410-d2ff-1050b0158855"
      },
      "execution_count": 28,
      "outputs": [
        {
          "output_type": "execute_result",
          "data": {
            "text/plain": [
              "Miami                           106966\n",
              "Los Angeles                      68956\n",
              "Orlando                          54691\n",
              "Dallas                           41979\n",
              "Houston                          39448\n",
              "                                 ...  \n",
              "Ridgedale                            1\n",
              "Sekiu                                1\n",
              "Wooldridge                           1\n",
              "Bullock                              1\n",
              "American Fork-Pleasant Grove         1\n",
              "Name: City, Length: 11681, dtype: int64"
            ]
          },
          "metadata": {},
          "execution_count": 28
        }
      ]
    },
    {
      "cell_type": "code",
      "source": [
        "len(cities_by_accident)"
      ],
      "metadata": {
        "colab": {
          "base_uri": "https://localhost:8080/"
        },
        "id": "zdM38YtDgXza",
        "outputId": "34908c0d-a673-4827-d1da-81d08450f879"
      },
      "execution_count": 19,
      "outputs": [
        {
          "output_type": "execute_result",
          "data": {
            "text/plain": [
              "11681"
            ]
          },
          "metadata": {},
          "execution_count": 19
        }
      ]
    },
    {
      "cell_type": "code",
      "source": [
        "'New York' in df.City"
      ],
      "metadata": {
        "colab": {
          "base_uri": "https://localhost:8080/"
        },
        "id": "qiFwNdakb37m",
        "outputId": "094f1fa8-0837-4112-f806-255fba497303"
      },
      "execution_count": 20,
      "outputs": [
        {
          "output_type": "execute_result",
          "data": {
            "text/plain": [
              "False"
            ]
          },
          "metadata": {},
          "execution_count": 20
        }
      ]
    },
    {
      "cell_type": "code",
      "source": [
        "'New York' in df.State"
      ],
      "metadata": {
        "colab": {
          "base_uri": "https://localhost:8080/"
        },
        "id": "aSSQUc5Sb348",
        "outputId": "d8c939e9-5169-4533-d118-dae52809bd35"
      },
      "execution_count": 21,
      "outputs": [
        {
          "output_type": "execute_result",
          "data": {
            "text/plain": [
              "False"
            ]
          },
          "metadata": {},
          "execution_count": 21
        }
      ]
    },
    {
      "cell_type": "code",
      "source": [
        "cities_by_accident[:20].plot(kind=\"barh\")"
      ],
      "metadata": {
        "colab": {
          "base_uri": "https://localhost:8080/",
          "height": 282
        },
        "id": "mzzt4FPeeus8",
        "outputId": "683229f9-b6c3-4502-9343-403b17e06bf1"
      },
      "execution_count": 22,
      "outputs": [
        {
          "output_type": "execute_result",
          "data": {
            "text/plain": [
              "<matplotlib.axes._subplots.AxesSubplot at 0x7f22f5aa9700>"
            ]
          },
          "metadata": {},
          "execution_count": 22
        },
        {
          "output_type": "display_data",
          "data": {
            "text/plain": [
              "<Figure size 432x288 with 1 Axes>"
            ],
            "image/png": "[encoded data removed]"
          },
          "metadata": {
            "needs_background": "light"
          }
        }
      ]
    },
    {
      "cell_type": "code",
      "source": [
        "sns.set_style(\"darkgrid\")\n"
      ],
      "metadata": {
        "id": "Q4JTP9Bvb32L"
      },
      "execution_count": 23,
      "outputs": []
    },
    {
      "cell_type": "code",
      "source": [
        "sns.distplot(cities_by_accident)"
      ],
      "metadata": {
        "colab": {
          "base_uri": "https://localhost:8080/",
          "height": 351
        },
        "id": "nqu_Uow8T2oV",
        "outputId": "be0e581e-9097-4626-8e55-70e292ccf507"
      },
      "execution_count": 24,
      "outputs": [
        {
          "output_type": "stream",
          "name": "stderr",
          "text": [
            "/usr/local/lib/python3.8/dist-packages/seaborn/distributions.py:2619: FutureWarning: `distplot` is a deprecated function and will be removed in a future version. Please adapt your code to use either `displot` (a figure-level function with similar flexibility) or `histplot` (an axes-level function for histograms).\n",
            "  warnings.warn(msg, FutureWarning)\n"
          ]
        },
        {
          "output_type": "execute_result",
          "data": {
            "text/plain": [
              "<matplotlib.axes._subplots.AxesSubplot at 0x7f22f6651d30>"
            ]
          },
          "metadata": {},
          "execution_count": 24
        },
        {
          "output_type": "display_data",
          "data": {
            "text/plain": [
              "<Figure size 432x288 with 1 Axes>"
            ],
            "image/png": "[encoded data removed]"
          },
          "metadata": {}
        }
      ]
    },
    {
      "cell_type": "code",
      "source": [
        "high_accident_cities= cities_by_accident[cities_by_accident >= 1000]\n",
        "low_accident_cities= cities_by_accident[cities_by_accident < 1000]"
      ],
      "metadata": {
        "id": "EoZuM9OIb3zN"
      },
      "execution_count": 25,
      "outputs": []
    },
    {
      "cell_type": "code",
      "source": [
        "sns.histplot(cities_by_accident,log_scale=True)"
      ],
      "metadata": {
        "colab": {
          "base_uri": "https://localhost:8080/",
          "height": 300
        },
        "id": "1dRDDCEsgO77",
        "outputId": "0ccf2795-308b-4734-d647-171de7a70b5c"
      },
      "execution_count": 26,
      "outputs": [
        {
          "output_type": "execute_result",
          "data": {
            "text/plain": [
              "<matplotlib.axes._subplots.AxesSubplot at 0x7f22f445ca90>"
            ]
          },
          "metadata": {},
          "execution_count": 26
        },
        {
          "output_type": "display_data",
          "data": {
            "text/plain": [
              "<Figure size 432x288 with 1 Axes>"
            ],
            "image/png": "[encoded data removed]"
          },
          "metadata": {}
        }
      ]
    },
    {
      "cell_type": "code",
      "source": [
        "len(high_accident_cities)"
      ],
      "metadata": {
        "colab": {
          "base_uri": "https://localhost:8080/"
        },
        "id": "sjWM5ZQPtVLp",
        "outputId": "c07d4442-0482-4925-fb3b-f25a9dff0c46"
      },
      "execution_count": 27,
      "outputs": [
        {
          "output_type": "execute_result",
          "data": {
            "text/plain": [
              "496"
            ]
          },
          "metadata": {},
          "execution_count": 27
        }
      ]
    },
    {
      "cell_type": "code",
      "source": [
        "(len(high_accident_cities)/len(unique_city))*100"
      ],
      "metadata": {
        "colab": {
          "base_uri": "https://localhost:8080/"
        },
        "id": "AV9XTNdQheV1",
        "outputId": "3b18b9fd-b1e8-4a11-a82f-ad9bed2e2a33"
      },
      "execution_count": 28,
      "outputs": [
        {
          "output_type": "execute_result",
          "data": {
            "text/plain": [
              "4.245848313644924"
            ]
          },
          "metadata": {},
          "execution_count": 28
        }
      ]
    },
    {
      "cell_type": "code",
      "source": [
        "len(low_accident_cities)\n"
      ],
      "metadata": {
        "colab": {
          "base_uri": "https://localhost:8080/"
        },
        "id": "CZeEk1hbiDLT",
        "outputId": "77b7fa9a-b1a3-41c7-e65a-a55341377b7b"
      },
      "execution_count": 29,
      "outputs": [
        {
          "output_type": "execute_result",
          "data": {
            "text/plain": [
              "11185"
            ]
          },
          "metadata": {},
          "execution_count": 29
        }
      ]
    },
    {
      "cell_type": "code",
      "source": [
        "sns.distplot(low_accident_cities)"
      ],
      "metadata": {
        "colab": {
          "base_uri": "https://localhost:8080/",
          "height": 351
        },
        "id": "pcAArRZ1trZf",
        "outputId": "a1a2aef8-6dc6-4307-ceb0-f3f6ed6570b0"
      },
      "execution_count": 30,
      "outputs": [
        {
          "output_type": "stream",
          "name": "stderr",
          "text": [
            "/usr/local/lib/python3.8/dist-packages/seaborn/distributions.py:2619: FutureWarning: `distplot` is a deprecated function and will be removed in a future version. Please adapt your code to use either `displot` (a figure-level function with similar flexibility) or `histplot` (an axes-level function for histograms).\n",
            "  warnings.warn(msg, FutureWarning)\n"
          ]
        },
        {
          "output_type": "execute_result",
          "data": {
            "text/plain": [
              "<matplotlib.axes._subplots.AxesSubplot at 0x7f22f42a3b80>"
            ]
          },
          "metadata": {},
          "execution_count": 30
        },
        {
          "output_type": "display_data",
          "data": {
            "text/plain": [
              "<Figure size 432x288 with 1 Axes>"
            ],
            "image/png": "[encoded data removed]"
          },
          "metadata": {}
        }
      ]
    },
    {
      "cell_type": "code",
      "source": [
        "sns.histplot(cities_by_accident,log_scale=True)"
      ],
      "metadata": {
        "colab": {
          "base_uri": "https://localhost:8080/",
          "height": 300
        },
        "id": "Rq1dkPWjViqq",
        "outputId": "70ba04cb-ff06-4e23-ab0d-662968968bf9"
      },
      "execution_count": 31,
      "outputs": [
        {
          "output_type": "execute_result",
          "data": {
            "text/plain": [
              "<matplotlib.axes._subplots.AxesSubplot at 0x7f22f4108ac0>"
            ]
          },
          "metadata": {},
          "execution_count": 31
        },
        {
          "output_type": "display_data",
          "data": {
            "text/plain": [
              "<Figure size 432x288 with 1 Axes>"
            ],
            "image/png": "[encoded data removed]"
          },
          "metadata": {}
        }
      ]
    },
    {
      "cell_type": "code",
      "source": [
        "cities_by_accident[cities_by_accident==1]"
      ],
      "metadata": {
        "colab": {
          "base_uri": "https://localhost:8080/"
        },
        "id": "Iv5XFAGRvZjp",
        "outputId": "602a521f-4b14-4690-fc37-56e86a3861ec"
      },
      "execution_count": 32,
      "outputs": [
        {
          "output_type": "execute_result",
          "data": {
            "text/plain": [
              "Carney                          1\n",
              "Waverly Hall                    1\n",
              "Center Sandwich                 1\n",
              "Glen Flora                      1\n",
              "Sulphur Springs                 1\n",
              "                               ..\n",
              "Ridgedale                       1\n",
              "Sekiu                           1\n",
              "Wooldridge                      1\n",
              "Bullock                         1\n",
              "American Fork-Pleasant Grove    1\n",
              "Name: City, Length: 1110, dtype: int64"
            ]
          },
          "metadata": {},
          "execution_count": 32
        }
      ]
    },
    {
      "cell_type": "markdown",
      "source": [
        "### Start Time"
      ],
      "metadata": {
        "id": "NDGF77CgwUwX"
      }
    },
    {
      "cell_type": "code",
      "source": [
        "type(df.Start_Time[0])"
      ],
      "metadata": {
        "colab": {
          "base_uri": "https://localhost:8080/"
        },
        "id": "f9sTpIUXwlUH",
        "outputId": "91a6915b-01ed-429b-8f54-af9aa914e767"
      },
      "execution_count": 33,
      "outputs": [
        {
          "output_type": "execute_result",
          "data": {
            "text/plain": [
              "str"
            ]
          },
          "metadata": {},
          "execution_count": 33
        }
      ]
    },
    {
      "cell_type": "code",
      "source": [
        "df.Start_Time=pd.to_datetime(df.Start_Time)\n",
        "df.Start_Time"
      ],
      "metadata": {
        "colab": {
          "base_uri": "https://localhost:8080/"
        },
        "id": "dzRbsuJXwoEV",
        "outputId": "8efec2cf-8995-4e3e-8b93-c685b3cbae47"
      },
      "execution_count": 34,
      "outputs": [
        {
          "output_type": "execute_result",
          "data": {
            "text/plain": [
              "0         2016-02-08 00:37:08\n",
              "1         2016-02-08 05:56:20\n",
              "2         2016-02-08 06:15:39\n",
              "3         2016-02-08 06:51:45\n",
              "4         2016-02-08 07:53:43\n",
              "                  ...        \n",
              "2845337   2019-08-23 18:03:25\n",
              "2845338   2019-08-23 19:11:30\n",
              "2845339   2019-08-23 19:00:21\n",
              "2845340   2019-08-23 19:00:21\n",
              "2845341   2019-08-23 18:52:06\n",
              "Name: Start_Time, Length: 2845342, dtype: datetime64[ns]"
            ]
          },
          "metadata": {},
          "execution_count": 34
        }
      ]
    },
    {
      "cell_type": "code",
      "source": [
        "sns.distplot(df.Start_Time.dt.hour,bins=24,kde=False,norm_hist=True)  # to get hour from start time"
      ],
      "metadata": {
        "colab": {
          "base_uri": "https://localhost:8080/",
          "height": 352
        },
        "id": "GY9saATtwoBY",
        "outputId": "f0a37e5a-14da-4edb-d612-848ae763ceba"
      },
      "execution_count": 35,
      "outputs": [
        {
          "output_type": "stream",
          "name": "stderr",
          "text": [
            "/usr/local/lib/python3.8/dist-packages/seaborn/distributions.py:2619: FutureWarning: `distplot` is a deprecated function and will be removed in a future version. Please adapt your code to use either `displot` (a figure-level function with similar flexibility) or `histplot` (an axes-level function for histograms).\n",
            "  warnings.warn(msg, FutureWarning)\n"
          ]
        },
        {
          "output_type": "execute_result",
          "data": {
            "text/plain": [
              "<matplotlib.axes._subplots.AxesSubplot at 0x7f22f5e9b8b0>"
            ]
          },
          "metadata": {},
          "execution_count": 35
        },
        {
          "output_type": "display_data",
          "data": {
            "text/plain": [
              "<Figure size 432x288 with 1 Axes>"
            ],
            "image/png": "[encoded data removed]"
          },
          "metadata": {}
        }
      ]
    },
    {
      "cell_type": "markdown",
      "source": [
        "-Most accidents happening in between 1 pm to 8 pm\n",
        "\n",
        "-next highest percentage is between 6 am to 10 am(probably people hurry to get to work) "
      ],
      "metadata": {
        "id": "vdMH0gl50-c2"
      }
    },
    {
      "cell_type": "code",
      "source": [
        "sns.distplot(df.Start_Time.dt.dayofweek,bins=7,kde=False,norm_hist=True)  # to get day from start time\n"
      ],
      "metadata": {
        "id": "daEGD2o1wn-t",
        "colab": {
          "base_uri": "https://localhost:8080/",
          "height": 297
        },
        "outputId": "6eb67f49-5d5a-47ef-8a46-bcc4258cb584"
      },
      "execution_count": 36,
      "outputs": [
        {
          "output_type": "execute_result",
          "data": {
            "text/plain": [
              "<matplotlib.axes._subplots.AxesSubplot at 0x7f22f40016d0>"
            ]
          },
          "metadata": {},
          "execution_count": 36
        },
        {
          "output_type": "display_data",
          "data": {
            "text/plain": [
              "<Figure size 432x288 with 1 Axes>"
            ],
            "image/png": "[encoded data removed]"
          },
          "metadata": {}
        }
      ]
    },
    {
      "cell_type": "markdown",
      "source": [
        "is distribution of accidents by hour the same on weekend as on weekdays\n",
        "  "
      ],
      "metadata": {
        "id": "JTvWanbWAzyG"
      }
    },
    {
      "cell_type": "code",
      "source": [
        "sundays_start_time=df.Start_Time[df.Start_Time.dt.dayofweek==6]\n",
        "sns.distplot(sundays_start_time.dt.hour,bins=24,kde=False,norm_hist=True)  "
      ],
      "metadata": {
        "id": "YL9zEl0nwn72",
        "colab": {
          "base_uri": "https://localhost:8080/",
          "height": 297
        },
        "outputId": "95f156e1-8f7e-4f21-b8da-7cd5cf9dd1de"
      },
      "execution_count": 37,
      "outputs": [
        {
          "output_type": "execute_result",
          "data": {
            "text/plain": [
              "<matplotlib.axes._subplots.AxesSubplot at 0x7f22f3f579a0>"
            ]
          },
          "metadata": {},
          "execution_count": 37
        },
        {
          "output_type": "display_data",
          "data": {
            "text/plain": [
              "<Figure size 432x288 with 1 Axes>"
            ],
            "image/png": "[encoded data removed]"
          },
          "metadata": {}
        }
      ]
    },
    {
      "cell_type": "markdown",
      "source": [
        "**on sunday, accident occurs 1 am  to 3am\n",
        "and 11 am to 12 pm**\n"
      ],
      "metadata": {
        "id": "nWGS2jpSCuL2"
      }
    },
    {
      "cell_type": "code",
      "source": [
        "monday_start_time=df.Start_Time[df.Start_Time.dt.dayofweek==0]\n",
        "sns.distplot(monday_start_time.dt.hour,bins=24,kde=False,norm_hist=True)  "
      ],
      "metadata": {
        "id": "W5r7ANhWwn5G",
        "colab": {
          "base_uri": "https://localhost:8080/",
          "height": 297
        },
        "outputId": "b5da9648-4757-4623-a7ed-9729a924a3f2"
      },
      "execution_count": 38,
      "outputs": [
        {
          "output_type": "execute_result",
          "data": {
            "text/plain": [
              "<matplotlib.axes._subplots.AxesSubplot at 0x7f22f3efd340>"
            ]
          },
          "metadata": {},
          "execution_count": 38
        },
        {
          "output_type": "display_data",
          "data": {
            "text/plain": [
              "<Figure size 432x288 with 1 Axes>"
            ],
            "image/png": "[encoded data removed]"
          },
          "metadata": {}
        }
      ]
    },
    {
      "cell_type": "code",
      "source": [
        "sns.distplot(df.Start_Time.dt.month,bins=12,kde=False,norm_hist=True)  "
      ],
      "metadata": {
        "colab": {
          "base_uri": "https://localhost:8080/",
          "height": 297
        },
        "id": "eADvOT0ADaUe",
        "outputId": "e544dcd7-46ed-43cb-f16e-73ddd89e94d5"
      },
      "execution_count": 39,
      "outputs": [
        {
          "output_type": "execute_result",
          "data": {
            "text/plain": [
              "<matplotlib.axes._subplots.AxesSubplot at 0x7f22f3e07070>"
            ]
          },
          "metadata": {},
          "execution_count": 39
        },
        {
          "output_type": "display_data",
          "data": {
            "text/plain": [
              "<Figure size 432x288 with 1 Axes>"
            ],
            "image/png": "[encoded data removed]"
          },
          "metadata": {}
        }
      ]
    },
    {
      "cell_type": "markdown",
      "source": [
        "**Most of accidents occurs in month of october, november and december**"
      ],
      "metadata": {
        "id": "0mNFftVbEEnf"
      }
    },
    {
      "cell_type": "code",
      "source": [
        "df.Start_Time.dt.year"
      ],
      "metadata": {
        "colab": {
          "base_uri": "https://localhost:8080/"
        },
        "id": "lHFwetnkXYus",
        "outputId": "77cb77d5-1958-4624-9c2f-7aa668a19fc8"
      },
      "execution_count": 40,
      "outputs": [
        {
          "output_type": "execute_result",
          "data": {
            "text/plain": [
              "0          2016\n",
              "1          2016\n",
              "2          2016\n",
              "3          2016\n",
              "4          2016\n",
              "           ... \n",
              "2845337    2019\n",
              "2845338    2019\n",
              "2845339    2019\n",
              "2845340    2019\n",
              "2845341    2019\n",
              "Name: Start_Time, Length: 2845342, dtype: int64"
            ]
          },
          "metadata": {},
          "execution_count": 40
        }
      ]
    },
    {
      "cell_type": "code",
      "source": [
        "df_2019 = df[df.Start_Time.dt.year == 2017]\n",
        "len(df_2019)"
      ],
      "metadata": {
        "colab": {
          "base_uri": "https://localhost:8080/",
          "height": 294
        },
        "id": "nvcgnXJWIU9B",
        "outputId": "bcab71fb-418b-40e3-ee4e-baf242fb9a03"
      },
      "execution_count": 33,
      "outputs": [
        {
          "output_type": "error",
          "ename": "AttributeError",
          "evalue": "ignored",
          "traceback": [
            "\u001b[0;31m---------------------------------------------------------------------------\u001b[0m",
            "\u001b[0;31mAttributeError\u001b[0m                            Traceback (most recent call last)",
            "\u001b[0;32m<ipython-input-33-7fe475e4ae4a>\u001b[0m in \u001b[0;36m<module>\u001b[0;34m\u001b[0m\n\u001b[0;32m----> 1\u001b[0;31m \u001b[0mdf_2019\u001b[0m \u001b[0;34m=\u001b[0m \u001b[0mdf\u001b[0m\u001b[0;34m[\u001b[0m\u001b[0mdf\u001b[0m\u001b[0;34m.\u001b[0m\u001b[0mStart_Time\u001b[0m\u001b[0;34m.\u001b[0m\u001b[0mdt\u001b[0m\u001b[0;34m.\u001b[0m\u001b[0myear\u001b[0m \u001b[0;34m==\u001b[0m \u001b[0;36m2017\u001b[0m\u001b[0;34m]\u001b[0m\u001b[0;34m\u001b[0m\u001b[0;34m\u001b[0m\u001b[0m\n\u001b[0m\u001b[1;32m      2\u001b[0m \u001b[0mlen\u001b[0m\u001b[0;34m(\u001b[0m\u001b[0mdf_2019\u001b[0m\u001b[0;34m)\u001b[0m\u001b[0;34m\u001b[0m\u001b[0;34m\u001b[0m\u001b[0m\n",
            "\u001b[0;32m/usr/local/lib/python3.8/dist-packages/pandas/core/generic.py\u001b[0m in \u001b[0;36m__getattr__\u001b[0;34m(self, name)\u001b[0m\n\u001b[1;32m   5485\u001b[0m         ):\n\u001b[1;32m   5486\u001b[0m             \u001b[0;32mreturn\u001b[0m \u001b[0mself\u001b[0m\u001b[0;34m[\u001b[0m\u001b[0mname\u001b[0m\u001b[0;34m]\u001b[0m\u001b[0;34m\u001b[0m\u001b[0;34m\u001b[0m\u001b[0m\n\u001b[0;32m-> 5487\u001b[0;31m         \u001b[0;32mreturn\u001b[0m \u001b[0mobject\u001b[0m\u001b[0;34m.\u001b[0m\u001b[0m__getattribute__\u001b[0m\u001b[0;34m(\u001b[0m\u001b[0mself\u001b[0m\u001b[0;34m,\u001b[0m \u001b[0mname\u001b[0m\u001b[0;34m)\u001b[0m\u001b[0;34m\u001b[0m\u001b[0;34m\u001b[0m\u001b[0m\n\u001b[0m\u001b[1;32m   5488\u001b[0m \u001b[0;34m\u001b[0m\u001b[0m\n\u001b[1;32m   5489\u001b[0m     \u001b[0;32mdef\u001b[0m \u001b[0m__setattr__\u001b[0m\u001b[0;34m(\u001b[0m\u001b[0mself\u001b[0m\u001b[0;34m,\u001b[0m \u001b[0mname\u001b[0m\u001b[0;34m:\u001b[0m \u001b[0mstr\u001b[0m\u001b[0;34m,\u001b[0m \u001b[0mvalue\u001b[0m\u001b[0;34m)\u001b[0m \u001b[0;34m->\u001b[0m \u001b[0;32mNone\u001b[0m\u001b[0;34m:\u001b[0m\u001b[0;34m\u001b[0m\u001b[0;34m\u001b[0m\u001b[0m\n",
            "\u001b[0;32m/usr/local/lib/python3.8/dist-packages/pandas/core/accessor.py\u001b[0m in \u001b[0;36m__get__\u001b[0;34m(self, obj, cls)\u001b[0m\n\u001b[1;32m    179\u001b[0m             \u001b[0;31m# we're accessing the attribute of the class, i.e., Dataset.geo\u001b[0m\u001b[0;34m\u001b[0m\u001b[0;34m\u001b[0m\u001b[0;34m\u001b[0m\u001b[0m\n\u001b[1;32m    180\u001b[0m             \u001b[0;32mreturn\u001b[0m \u001b[0mself\u001b[0m\u001b[0;34m.\u001b[0m\u001b[0m_accessor\u001b[0m\u001b[0;34m\u001b[0m\u001b[0;34m\u001b[0m\u001b[0m\n\u001b[0;32m--> 181\u001b[0;31m         \u001b[0maccessor_obj\u001b[0m \u001b[0;34m=\u001b[0m \u001b[0mself\u001b[0m\u001b[0;34m.\u001b[0m\u001b[0m_accessor\u001b[0m\u001b[0;34m(\u001b[0m\u001b[0mobj\u001b[0m\u001b[0;34m)\u001b[0m\u001b[0;34m\u001b[0m\u001b[0;34m\u001b[0m\u001b[0m\n\u001b[0m\u001b[1;32m    182\u001b[0m         \u001b[0;31m# Replace the property with the accessor object. Inspired by:\u001b[0m\u001b[0;34m\u001b[0m\u001b[0;34m\u001b[0m\u001b[0;34m\u001b[0m\u001b[0m\n\u001b[1;32m    183\u001b[0m         \u001b[0;31m# https://www.pydanny.com/cached-property.html\u001b[0m\u001b[0;34m\u001b[0m\u001b[0;34m\u001b[0m\u001b[0;34m\u001b[0m\u001b[0m\n",
            "\u001b[0;32m/usr/local/lib/python3.8/dist-packages/pandas/core/indexes/accessors.py\u001b[0m in \u001b[0;36m__new__\u001b[0;34m(cls, data)\u001b[0m\n\u001b[1;32m    504\u001b[0m             \u001b[0;32mreturn\u001b[0m \u001b[0mPeriodProperties\u001b[0m\u001b[0;34m(\u001b[0m\u001b[0mdata\u001b[0m\u001b[0;34m,\u001b[0m \u001b[0morig\u001b[0m\u001b[0;34m)\u001b[0m\u001b[0;34m\u001b[0m\u001b[0;34m\u001b[0m\u001b[0m\n\u001b[1;32m    505\u001b[0m \u001b[0;34m\u001b[0m\u001b[0m\n\u001b[0;32m--> 506\u001b[0;31m         \u001b[0;32mraise\u001b[0m \u001b[0mAttributeError\u001b[0m\u001b[0;34m(\u001b[0m\u001b[0;34m\"Can only use .dt accessor with datetimelike values\"\u001b[0m\u001b[0;34m)\u001b[0m\u001b[0;34m\u001b[0m\u001b[0;34m\u001b[0m\u001b[0m\n\u001b[0m",
            "\u001b[0;31mAttributeError\u001b[0m: Can only use .dt accessor with datetimelike values"
          ]
        }
      ]
    },
    {
      "cell_type": "code",
      "source": [
        "sns.distplot(df_2019.Start_Time.dt.month,bins=12,kde=False,norm_hist=True)  "
      ],
      "metadata": {
        "colab": {
          "base_uri": "https://localhost:8080/",
          "height": 165
        },
        "id": "ciSHF4VIFJ7J",
        "outputId": "39681b32-7ffc-4dea-ee0b-1ad2aafb474e"
      },
      "execution_count": 34,
      "outputs": [
        {
          "output_type": "error",
          "ename": "NameError",
          "evalue": "ignored",
          "traceback": [
            "\u001b[0;31m---------------------------------------------------------------------------\u001b[0m",
            "\u001b[0;31mNameError\u001b[0m                                 Traceback (most recent call last)",
            "\u001b[0;32m<ipython-input-34-b9db74858aa9>\u001b[0m in \u001b[0;36m<module>\u001b[0;34m\u001b[0m\n\u001b[0;32m----> 1\u001b[0;31m \u001b[0msns\u001b[0m\u001b[0;34m.\u001b[0m\u001b[0mdistplot\u001b[0m\u001b[0;34m(\u001b[0m\u001b[0mdf_2019\u001b[0m\u001b[0;34m.\u001b[0m\u001b[0mStart_Time\u001b[0m\u001b[0;34m.\u001b[0m\u001b[0mdt\u001b[0m\u001b[0;34m.\u001b[0m\u001b[0mmonth\u001b[0m\u001b[0;34m,\u001b[0m\u001b[0mbins\u001b[0m\u001b[0;34m=\u001b[0m\u001b[0;36m12\u001b[0m\u001b[0;34m,\u001b[0m\u001b[0mkde\u001b[0m\u001b[0;34m=\u001b[0m\u001b[0;32mFalse\u001b[0m\u001b[0;34m,\u001b[0m\u001b[0mnorm_hist\u001b[0m\u001b[0;34m=\u001b[0m\u001b[0;32mTrue\u001b[0m\u001b[0;34m)\u001b[0m\u001b[0;34m\u001b[0m\u001b[0;34m\u001b[0m\u001b[0m\n\u001b[0m",
            "\u001b[0;31mNameError\u001b[0m: name 'df_2019' is not defined"
          ]
        }
      ]
    },
    {
      "cell_type": "markdown",
      "source": [
        "- we have less data from year 2016\n",
        "-there seems to be some issue with bing data\n",
        "-2017 accidents is kind of similar in  2017 months\n",
        "- greater in sep,oct,nov and dec 2018\n",
        "- greater in sep,oct and dec 2019\n",
        "-greater in sep,oct,nov and dec 2020\n",
        "-greater in nov and dec 2021\n",
        "**overall accidents are most happening in oct ,nov and dec **\n"
      ],
      "metadata": {
        "id": "wFXWVGz4YEEs"
      }
    },
    {
      "cell_type": "code",
      "source": [
        "df.columns"
      ],
      "metadata": {
        "colab": {
          "base_uri": "https://localhost:8080/"
        },
        "id": "nuWiRs95b9Zv",
        "outputId": "d6108676-b480-4f84-b789-4fa9ba067aca"
      },
      "execution_count": 43,
      "outputs": [
        {
          "output_type": "execute_result",
          "data": {
            "text/plain": [
              "Index(['ID', 'Severity', 'Start_Time', 'End_Time', 'Start_Lat', 'Start_Lng',\n",
              "       'End_Lat', 'End_Lng', 'Distance(mi)', 'Description', 'Number', 'Street',\n",
              "       'Side', 'City', 'County', 'State', 'Zipcode', 'Country', 'Timezone',\n",
              "       'Airport_Code', 'Weather_Timestamp', 'Temperature(F)', 'Wind_Chill(F)',\n",
              "       'Humidity(%)', 'Pressure(in)', 'Visibility(mi)', 'Wind_Direction',\n",
              "       'Wind_Speed(mph)', 'Precipitation(in)', 'Weather_Condition', 'Amenity',\n",
              "       'Bump', 'Crossing', 'Give_Way', 'Junction', 'No_Exit', 'Railway',\n",
              "       'Roundabout', 'Station', 'Stop', 'Traffic_Calming', 'Traffic_Signal',\n",
              "       'Turning_Loop', 'Sunrise_Sunset', 'Civil_Twilight', 'Nautical_Twilight',\n",
              "       'Astronomical_Twilight'],\n",
              "      dtype='object')"
            ]
          },
          "metadata": {},
          "execution_count": 43
        }
      ]
    },
    {
      "cell_type": "code",
      "source": [
        "df.info()\n",
        "df.describe()"
      ],
      "metadata": {
        "id": "Gbzm4UaUDaRx",
        "colab": {
          "base_uri": "https://localhost:8080/",
          "height": 1000
        },
        "outputId": "a1e1eeec-5571-45fa-a252-471d8e0a7d60"
      },
      "execution_count": 44,
      "outputs": [
        {
          "output_type": "stream",
          "name": "stdout",
          "text": [
            "<class 'pandas.core.frame.DataFrame'>\n",
            "RangeIndex: 2845342 entries, 0 to 2845341\n",
            "Data columns (total 47 columns):\n",
            " #   Column                 Dtype         \n",
            "---  ------                 -----         \n",
            " 0   ID                     object        \n",
            " 1   Severity               int64         \n",
            " 2   Start_Time             datetime64[ns]\n",
            " 3   End_Time               object        \n",
            " 4   Start_Lat              float64       \n",
            " 5   Start_Lng              float64       \n",
            " 6   End_Lat                float64       \n",
            " 7   End_Lng                float64       \n",
            " 8   Distance(mi)           float64       \n",
            " 9   Description            object        \n",
            " 10  Number                 float64       \n",
            " 11  Street                 object        \n",
            " 12  Side                   object        \n",
            " 13  City                   object        \n",
            " 14  County                 object        \n",
            " 15  State                  object        \n",
            " 16  Zipcode                object        \n",
            " 17  Country                object        \n",
            " 18  Timezone               object        \n",
            " 19  Airport_Code           object        \n",
            " 20  Weather_Timestamp      object        \n",
            " 21  Temperature(F)         float64       \n",
            " 22  Wind_Chill(F)          float64       \n",
            " 23  Humidity(%)            float64       \n",
            " 24  Pressure(in)           float64       \n",
            " 25  Visibility(mi)         float64       \n",
            " 26  Wind_Direction         object        \n",
            " 27  Wind_Speed(mph)        float64       \n",
            " 28  Precipitation(in)      float64       \n",
            " 29  Weather_Condition      object        \n",
            " 30  Amenity                bool          \n",
            " 31  Bump                   bool          \n",
            " 32  Crossing               bool          \n",
            " 33  Give_Way               bool          \n",
            " 34  Junction               bool          \n",
            " 35  No_Exit                bool          \n",
            " 36  Railway                bool          \n",
            " 37  Roundabout             bool          \n",
            " 38  Station                bool          \n",
            " 39  Stop                   bool          \n",
            " 40  Traffic_Calming        bool          \n",
            " 41  Traffic_Signal         bool          \n",
            " 42  Turning_Loop           bool          \n",
            " 43  Sunrise_Sunset         object        \n",
            " 44  Civil_Twilight         object        \n",
            " 45  Nautical_Twilight      object        \n",
            " 46  Astronomical_Twilight  object        \n",
            "dtypes: bool(13), datetime64[ns](1), float64(13), int64(1), object(19)\n",
            "memory usage: 773.4+ MB\n"
          ]
        },
        {
          "output_type": "execute_result",
          "data": {
            "text/plain": [
              "           Severity     Start_Lat     Start_Lng       End_Lat       End_Lng  \\\n",
              "count  2.845342e+06  2.845342e+06  2.845342e+06  2.845342e+06  2.845342e+06   \n",
              "mean   2.137572e+00  3.624520e+01 -9.711463e+01  3.624532e+01 -9.711439e+01   \n",
              "std    4.787216e-01  5.363797e+00  1.831782e+01  5.363873e+00  1.831763e+01   \n",
              "min    1.000000e+00  2.456603e+01 -1.245481e+02  2.456601e+01 -1.245457e+02   \n",
              "25%    2.000000e+00  3.344517e+01 -1.180331e+02  3.344628e+01 -1.180333e+02   \n",
              "50%    2.000000e+00  3.609861e+01 -9.241808e+01  3.609799e+01 -9.241772e+01   \n",
              "75%    2.000000e+00  4.016024e+01 -8.037243e+01  4.016105e+01 -8.037338e+01   \n",
              "max    4.000000e+00  4.900058e+01 -6.711317e+01  4.907500e+01 -6.710924e+01   \n",
              "\n",
              "       Distance(mi)        Number  Temperature(F)  Wind_Chill(F)  \\\n",
              "count  2.845342e+06  1.101431e+06    2.776068e+06   2.375699e+06   \n",
              "mean   7.026779e-01  8.089408e+03    6.179356e+01   5.965823e+01   \n",
              "std    1.560361e+00  1.836009e+04    1.862263e+01   2.116097e+01   \n",
              "min    0.000000e+00  0.000000e+00   -8.900000e+01  -8.900000e+01   \n",
              "25%    5.200000e-02  1.270000e+03    5.000000e+01   4.600000e+01   \n",
              "50%    2.440000e-01  4.007000e+03    6.400000e+01   6.300000e+01   \n",
              "75%    7.640000e-01  9.567000e+03    7.600000e+01   7.600000e+01   \n",
              "max    1.551860e+02  9.999997e+06    1.960000e+02   1.960000e+02   \n",
              "\n",
              "        Humidity(%)  Pressure(in)  Visibility(mi)  Wind_Speed(mph)  \\\n",
              "count  2.772250e+06  2.786142e+06    2.774796e+06     2.687398e+06   \n",
              "mean   6.436545e+01  2.947234e+01    9.099391e+00     7.395044e+00   \n",
              "std    2.287457e+01  1.045286e+00    2.717546e+00     5.527454e+00   \n",
              "min    1.000000e+00  0.000000e+00    0.000000e+00     0.000000e+00   \n",
              "25%    4.800000e+01  2.931000e+01    1.000000e+01     3.500000e+00   \n",
              "50%    6.700000e+01  2.982000e+01    1.000000e+01     7.000000e+00   \n",
              "75%    8.300000e+01  3.001000e+01    1.000000e+01     1.000000e+01   \n",
              "max    1.000000e+02  5.890000e+01    1.400000e+02     1.087000e+03   \n",
              "\n",
              "       Precipitation(in)  \n",
              "count       2.295884e+06  \n",
              "mean        7.016940e-03  \n",
              "std         9.348831e-02  \n",
              "min         0.000000e+00  \n",
              "25%         0.000000e+00  \n",
              "50%         0.000000e+00  \n",
              "75%         0.000000e+00  \n",
              "max         2.400000e+01  "
            ],
            "text/html": [
              "\n",
              "  <div id=\"df-6bcd69c8-7ae7-4256-a469-de92cb131db0\">\n",
              "    <div class=\"colab-df-container\">\n",
              "      <div>\n",
              "<style scoped>\n",
              "    .dataframe tbody tr th:only-of-type {\n",
              "        vertical-align: middle;\n",
              "    }\n",
              "\n",
              "    .dataframe tbody tr th {\n",
              "        vertical-align: top;\n",
              "    }\n",
              "\n",
              "    .dataframe thead th {\n",
              "        text-align: right;\n",
              "    }\n",
              "</style>\n",
              "<table border=\"1\" class=\"dataframe\">\n",
              "  <thead>\n",
              "    <tr style=\"text-align: right;\">\n",
              "      <th></th>\n",
              "      <th>Severity</th>\n",
              "      <th>Start_Lat</th>\n",
              "      <th>Start_Lng</th>\n",
              "      <th>End_Lat</th>\n",
              "      <th>End_Lng</th>\n",
              "      <th>Distance(mi)</th>\n",
              "      <th>Number</th>\n",
              "      <th>Temperature(F)</th>\n",
              "      <th>Wind_Chill(F)</th>\n",
              "      <th>Humidity(%)</th>\n",
              "      <th>Pressure(in)</th>\n",
              "      <th>Visibility(mi)</th>\n",
              "      <th>Wind_Speed(mph)</th>\n",
              "      <th>Precipitation(in)</th>\n",
              "    </tr>\n",
              "  </thead>\n",
              "  <tbody>\n",
              "    <tr>\n",
              "      <th>count</th>\n",
              "      <td>2.845342e+06</td>\n",
              "      <td>2.845342e+06</td>\n",
              "      <td>2.845342e+06</td>\n",
              "      <td>2.845342e+06</td>\n",
              "      <td>2.845342e+06</td>\n",
              "      <td>2.845342e+06</td>\n",
              "      <td>1.101431e+06</td>\n",
              "      <td>2.776068e+06</td>\n",
              "      <td>2.375699e+06</td>\n",
              "      <td>2.772250e+06</td>\n",
              "      <td>2.786142e+06</td>\n",
              "      <td>2.774796e+06</td>\n",
              "      <td>2.687398e+06</td>\n",
              "      <td>2.295884e+06</td>\n",
              "    </tr>\n",
              "    <tr>\n",
              "      <th>mean</th>\n",
              "      <td>2.137572e+00</td>\n",
              "      <td>3.624520e+01</td>\n",
              "      <td>-9.711463e+01</td>\n",
              "      <td>3.624532e+01</td>\n",
              "      <td>-9.711439e+01</td>\n",
              "      <td>7.026779e-01</td>\n",
              "      <td>8.089408e+03</td>\n",
              "      <td>6.179356e+01</td>\n",
              "      <td>5.965823e+01</td>\n",
              "      <td>6.436545e+01</td>\n",
              "      <td>2.947234e+01</td>\n",
              "      <td>9.099391e+00</td>\n",
              "      <td>7.395044e+00</td>\n",
              "      <td>7.016940e-03</td>\n",
              "    </tr>\n",
              "    <tr>\n",
              "      <th>std</th>\n",
              "      <td>4.787216e-01</td>\n",
              "      <td>5.363797e+00</td>\n",
              "      <td>1.831782e+01</td>\n",
              "      <td>5.363873e+00</td>\n",
              "      <td>1.831763e+01</td>\n",
              "      <td>1.560361e+00</td>\n",
              "      <td>1.836009e+04</td>\n",
              "      <td>1.862263e+01</td>\n",
              "      <td>2.116097e+01</td>\n",
              "      <td>2.287457e+01</td>\n",
              "      <td>1.045286e+00</td>\n",
              "      <td>2.717546e+00</td>\n",
              "      <td>5.527454e+00</td>\n",
              "      <td>9.348831e-02</td>\n",
              "    </tr>\n",
              "    <tr>\n",
              "      <th>min</th>\n",
              "      <td>1.000000e+00</td>\n",
              "      <td>2.456603e+01</td>\n",
              "      <td>-1.245481e+02</td>\n",
              "      <td>2.456601e+01</td>\n",
              "      <td>-1.245457e+02</td>\n",
              "      <td>0.000000e+00</td>\n",
              "      <td>0.000000e+00</td>\n",
              "      <td>-8.900000e+01</td>\n",
              "      <td>-8.900000e+01</td>\n",
              "      <td>1.000000e+00</td>\n",
              "      <td>0.000000e+00</td>\n",
              "      <td>0.000000e+00</td>\n",
              "      <td>0.000000e+00</td>\n",
              "      <td>0.000000e+00</td>\n",
              "    </tr>\n",
              "    <tr>\n",
              "      <th>25%</th>\n",
              "      <td>2.000000e+00</td>\n",
              "      <td>3.344517e+01</td>\n",
              "      <td>-1.180331e+02</td>\n",
              "      <td>3.344628e+01</td>\n",
              "      <td>-1.180333e+02</td>\n",
              "      <td>5.200000e-02</td>\n",
              "      <td>1.270000e+03</td>\n",
              "      <td>5.000000e+01</td>\n",
              "      <td>4.600000e+01</td>\n",
              "      <td>4.800000e+01</td>\n",
              "      <td>2.931000e+01</td>\n",
              "      <td>1.000000e+01</td>\n",
              "      <td>3.500000e+00</td>\n",
              "      <td>0.000000e+00</td>\n",
              "    </tr>\n",
              "    <tr>\n",
              "      <th>50%</th>\n",
              "      <td>2.000000e+00</td>\n",
              "      <td>3.609861e+01</td>\n",
              "      <td>-9.241808e+01</td>\n",
              "      <td>3.609799e+01</td>\n",
              "      <td>-9.241772e+01</td>\n",
              "      <td>2.440000e-01</td>\n",
              "      <td>4.007000e+03</td>\n",
              "      <td>6.400000e+01</td>\n",
              "      <td>6.300000e+01</td>\n",
              "      <td>6.700000e+01</td>\n",
              "      <td>2.982000e+01</td>\n",
              "      <td>1.000000e+01</td>\n",
              "      <td>7.000000e+00</td>\n",
              "      <td>0.000000e+00</td>\n",
              "    </tr>\n",
              "    <tr>\n",
              "      <th>75%</th>\n",
              "      <td>2.000000e+00</td>\n",
              "      <td>4.016024e+01</td>\n",
              "      <td>-8.037243e+01</td>\n",
              "      <td>4.016105e+01</td>\n",
              "      <td>-8.037338e+01</td>\n",
              "      <td>7.640000e-01</td>\n",
              "      <td>9.567000e+03</td>\n",
              "      <td>7.600000e+01</td>\n",
              "      <td>7.600000e+01</td>\n",
              "      <td>8.300000e+01</td>\n",
              "      <td>3.001000e+01</td>\n",
              "      <td>1.000000e+01</td>\n",
              "      <td>1.000000e+01</td>\n",
              "      <td>0.000000e+00</td>\n",
              "    </tr>\n",
              "    <tr>\n",
              "      <th>max</th>\n",
              "      <td>4.000000e+00</td>\n",
              "      <td>4.900058e+01</td>\n",
              "      <td>-6.711317e+01</td>\n",
              "      <td>4.907500e+01</td>\n",
              "      <td>-6.710924e+01</td>\n",
              "      <td>1.551860e+02</td>\n",
              "      <td>9.999997e+06</td>\n",
              "      <td>1.960000e+02</td>\n",
              "      <td>1.960000e+02</td>\n",
              "      <td>1.000000e+02</td>\n",
              "      <td>5.890000e+01</td>\n",
              "      <td>1.400000e+02</td>\n",
              "      <td>1.087000e+03</td>\n",
              "      <td>2.400000e+01</td>\n",
              "    </tr>\n",
              "  </tbody>\n",
              "</table>\n",
              "</div>\n",
              "      <button class=\"colab-df-convert\" onclick=\"convertToInteractive('df-6bcd69c8-7ae7-4256-a469-de92cb131db0')\"\n",
              "              title=\"Convert this dataframe to an interactive table.\"\n",
              "              style=\"display:none;\">\n",
              "        \n",
              "  <svg xmlns=\"http://www.w3.org/2000/svg\" height=\"24px\"viewBox=\"0 0 24 24\"\n",
              "       width=\"24px\">\n",
              "    <path d=\"M0 0h24v24H0V0z\" fill=\"none\"/>\n",
              "    <path d=\"M18.56 5.44l.94 2.06.94-2.06 2.06-.94-2.06-.94-.94-2.06-.94 2.06-2.06.94zm-11 1L8.5 8.5l.94-2.06 2.06-.94-2.06-.94L8.5 2.5l-.94 2.06-2.06.94zm10 10l.94 2.06.94-2.06 2.06-.94-2.06-.94-.94-2.06-.94 2.06-2.06.94z\"/><path d=\"M17.41 7.96l-1.37-1.37c-.4-.4-.92-.59-1.43-.59-.52 0-1.04.2-1.43.59L10.3 9.45l-7.72 7.72c-.78.78-.78 2.05 0 2.83L4 21.41c.39.39.9.59 1.41.59.51 0 1.02-.2 1.41-.59l7.78-7.78 2.81-2.81c.8-.78.8-2.07 0-2.86zM5.41 20L4 18.59l7.72-7.72 1.47 1.35L5.41 20z\"/>\n",
              "  </svg>\n",
              "      </button>\n",
              "      \n",
              "  <style>\n",
              "    .colab-df-container {\n",
              "      display:flex;\n",
              "      flex-wrap:wrap;\n",
              "      gap: 12px;\n",
              "    }\n",
              "\n",
              "    .colab-df-convert {\n",
              "      background-color: #E8F0FE;\n",
              "      border: none;\n",
              "      border-radius: 50%;\n",
              "      cursor: pointer;\n",
              "      display: none;\n",
              "      fill: #1967D2;\n",
              "      height: 32px;\n",
              "      padding: 0 0 0 0;\n",
              "      width: 32px;\n",
              "    }\n",
              "\n",
              "    .colab-df-convert:hover {\n",
              "      background-color: #E2EBFA;\n",
              "      box-shadow: 0px 1px 2px rgba(60, 64, 67, 0.3), 0px 1px 3px 1px rgba(60, 64, 67, 0.15);\n",
              "      fill: #174EA6;\n",
              "    }\n",
              "\n",
              "    [theme=dark] .colab-df-convert {\n",
              "      background-color: #3B4455;\n",
              "      fill: #D2E3FC;\n",
              "    }\n",
              "\n",
              "    [theme=dark] .colab-df-convert:hover {\n",
              "      background-color: #434B5C;\n",
              "      box-shadow: 0px 1px 3px 1px rgba(0, 0, 0, 0.15);\n",
              "      filter: drop-shadow(0px 1px 2px rgba(0, 0, 0, 0.3));\n",
              "      fill: #FFFFFF;\n",
              "    }\n",
              "  </style>\n",
              "\n",
              "      <script>\n",
              "        const buttonEl =\n",
              "          document.querySelector('#df-6bcd69c8-7ae7-4256-a469-de92cb131db0 button.colab-df-convert');\n",
              "        buttonEl.style.display =\n",
              "          google.colab.kernel.accessAllowed ? 'block' : 'none';\n",
              "\n",
              "        async function convertToInteractive(key) {\n",
              "          const element = document.querySelector('#df-6bcd69c8-7ae7-4256-a469-de92cb131db0');\n",
              "          const dataTable =\n",
              "            await google.colab.kernel.invokeFunction('convertToInteractive',\n",
              "                                                     [key], {});\n",
              "          if (!dataTable) return;\n",
              "\n",
              "          const docLinkHtml = 'Like what you see? Visit the ' +\n",
              "            '<a target=\"_blank\" href=https://colab.research.google.com/notebooks/data_table.ipynb>data table notebook</a>'\n",
              "            + ' to learn more about interactive tables.';\n",
              "          element.innerHTML = '';\n",
              "          dataTable['output_type'] = 'display_data';\n",
              "          await google.colab.output.renderOutput(dataTable, element);\n",
              "          const docLink = document.createElement('div');\n",
              "          docLink.innerHTML = docLinkHtml;\n",
              "          element.appendChild(docLink);\n",
              "        }\n",
              "      </script>\n",
              "    </div>\n",
              "  </div>\n",
              "  "
            ]
          },
          "metadata": {},
          "execution_count": 44
        }
      ]
    },
    {
      "cell_type": "markdown",
      "source": [
        "##Start_lat and start_lng"
      ],
      "metadata": {
        "id": "0zq4aw4_dBMa"
      }
    },
    {
      "cell_type": "code",
      "source": [
        "df.Start_Lat"
      ],
      "metadata": {
        "id": "rnteJKGiDaPJ",
        "colab": {
          "base_uri": "https://localhost:8080/"
        },
        "outputId": "6d3f2d09-ca0e-4465-a7ce-067d45b6114f"
      },
      "execution_count": 45,
      "outputs": [
        {
          "output_type": "execute_result",
          "data": {
            "text/plain": [
              "0          40.108910\n",
              "1          39.865420\n",
              "2          39.102660\n",
              "3          41.062130\n",
              "4          39.172393\n",
              "             ...    \n",
              "2845337    34.002480\n",
              "2845338    32.766960\n",
              "2845339    33.775450\n",
              "2845340    33.992460\n",
              "2845341    34.133930\n",
              "Name: Start_Lat, Length: 2845342, dtype: float64"
            ]
          },
          "metadata": {},
          "execution_count": 45
        }
      ]
    },
    {
      "cell_type": "code",
      "source": [
        "df.Start_Lng"
      ],
      "metadata": {
        "id": "agAvbrYiDaMZ",
        "colab": {
          "base_uri": "https://localhost:8080/"
        },
        "outputId": "6a68212d-43a8-427d-f01c-c3d9156e9b54"
      },
      "execution_count": 46,
      "outputs": [
        {
          "output_type": "execute_result",
          "data": {
            "text/plain": [
              "0          -83.092860\n",
              "1          -84.062800\n",
              "2          -84.524680\n",
              "3          -81.537840\n",
              "4          -84.492792\n",
              "              ...    \n",
              "2845337   -117.379360\n",
              "2845338   -117.148060\n",
              "2845339   -117.847790\n",
              "2845340   -118.403020\n",
              "2845341   -117.230920\n",
              "Name: Start_Lng, Length: 2845342, dtype: float64"
            ]
          },
          "metadata": {},
          "execution_count": 46
        }
      ]
    },
    {
      "cell_type": "code",
      "source": [
        "sns.scatterplot(x=df.Start_Lng,y=df.Start_Lat)"
      ],
      "metadata": {
        "colab": {
          "base_uri": "https://localhost:8080/",
          "height": 299
        },
        "id": "HhnBuKXPdY9b",
        "outputId": "9462cc5d-6c61-43a8-82e4-18754e505b82"
      },
      "execution_count": 47,
      "outputs": [
        {
          "output_type": "execute_result",
          "data": {
            "text/plain": [
              "<matplotlib.axes._subplots.AxesSubplot at 0x7f22f3d1f0d0>"
            ]
          },
          "metadata": {},
          "execution_count": 47
        },
        {
          "output_type": "display_data",
          "data": {
            "text/plain": [
              "<Figure size 432x288 with 1 Axes>"
            ],
            "image/png": "[encoded data removed]"
          },
          "metadata": {}
        }
      ]
    },
    {
      "cell_type": "code",
      "source": [
        "sample_df=df.sample(int(0.1*len(df)))"
      ],
      "metadata": {
        "id": "Ka2tlt8tdY6F"
      },
      "execution_count": 48,
      "outputs": []
    },
    {
      "cell_type": "code",
      "source": [
        "sns.scatterplot(x=sample_df.Start_Lng,y=sample_df.Start_Lat,size=0.001)"
      ],
      "metadata": {
        "colab": {
          "base_uri": "https://localhost:8080/",
          "height": 299
        },
        "id": "gXFG16aTdY25",
        "outputId": "1a1f4376-b189-4fde-eaa8-2bcce5e8f53e"
      },
      "execution_count": 49,
      "outputs": [
        {
          "output_type": "execute_result",
          "data": {
            "text/plain": [
              "<matplotlib.axes._subplots.AxesSubplot at 0x7f22f3d16f40>"
            ]
          },
          "metadata": {},
          "execution_count": 49
        },
        {
          "output_type": "display_data",
          "data": {
            "text/plain": [
              "<Figure size 432x288 with 1 Axes>"
            ],
            "image/png": "[encoded data removed]"
          },
          "metadata": {}
        }
      ]
    },
    {
      "cell_type": "code",
      "source": [
        "import folium"
      ],
      "metadata": {
        "id": "Kqyt7K2MdY0L"
      },
      "execution_count": 50,
      "outputs": []
    },
    {
      "cell_type": "code",
      "source": [
        "lat,lng=df.Start_Lat[0],df.Start_Lng[0]\n",
        "lat,lng"
      ],
      "metadata": {
        "colab": {
          "base_uri": "https://localhost:8080/"
        },
        "id": "ueT_UM-nb4xr",
        "outputId": "79f26f09-3b99-4a22-d60f-09eef235c10a"
      },
      "execution_count": 57,
      "outputs": [
        {
          "output_type": "execute_result",
          "data": {
            "text/plain": [
              "(40.10891, -83.09286)"
            ]
          },
          "metadata": {},
          "execution_count": 57
        }
      ]
    },
    {
      "cell_type": "code",
      "source": [
        "map=folium.Map()\n",
        "marker=folium.Marker((lat,lng))\n",
        "marker.add_to(map)\n",
        "map"
      ],
      "metadata": {
        "id": "rY7v4XyjdYxw",
        "colab": {
          "base_uri": "https://localhost:8080/",
          "height": 782
        },
        "outputId": "472374c6-1064-4ecd-96ec-5580699da1c5"
      },
      "execution_count": 61,
      "outputs": [
        {
          "output_type": "execute_result",
          "data": {
            "text/plain": [
              "<folium.folium.Map at 0x7f2230ba1c70>"
            ],
            "text/html": [
              "<div style=\"width:100%;\"><div style=\"position:relative;width:100%;height:0;padding-bottom:60%;\"><span style=\"color:#565656\">Make this Notebook Trusted to load map: File -> Trust Notebook</span><iframe srcdoc=\"&lt;!DOCTYPE html&gt;\n",
              "&lt;html&gt;\n",
              "&lt;head&gt;\n",
              "    \n",
              "    &lt;meta http-equiv=&quot;content-type&quot; content=&quot;text/html; charset=UTF-8&quot; /&gt;\n",
              "    \n",
              "        &lt;script&gt;\n",
              "            L_NO_TOUCH = false;\n",
              "            L_DISABLE_3D = false;\n",
              "        &lt;/script&gt;\n",
              "    \n",
              "    &lt;style&gt;html, body {width: 100%;height: 100%;margin: 0;padding: 0;}&lt;/style&gt;\n",
              "    &lt;style&gt;#map {position:absolute;top:0;bottom:0;right:0;left:0;}&lt;/style&gt;\n",
              "    &lt;script src=&quot;https://cdn.jsdelivr.net/npm/leaflet@1.6.0/dist/leaflet.js&quot;&gt;&lt;/script&gt;\n",
              "    &lt;script src=&quot;https://code.jquery.com/jquery-1.12.4.min.js&quot;&gt;&lt;/script&gt;\n",
              "    &lt;script src=&quot;https://maxcdn.bootstrapcdn.com/bootstrap/3.2.0/js/bootstrap.min.js&quot;&gt;&lt;/script&gt;\n",
              "    &lt;script src=&quot;https://cdnjs.cloudflare.com/ajax/libs/Leaflet.awesome-markers/2.0.2/leaflet.awesome-markers.js&quot;&gt;&lt;/script&gt;\n",
              "    &lt;link rel=&quot;stylesheet&quot; href=&quot;https://cdn.jsdelivr.net/npm/leaflet@1.6.0/dist/leaflet.css&quot;/&gt;\n",
              "    &lt;link rel=&quot;stylesheet&quot; href=&quot;https://maxcdn.bootstrapcdn.com/bootstrap/3.2.0/css/bootstrap.min.css&quot;/&gt;\n",
              "    &lt;link rel=&quot;stylesheet&quot; href=&quot;https://maxcdn.bootstrapcdn.com/bootstrap/3.2.0/css/bootstrap-theme.min.css&quot;/&gt;\n",
              "    &lt;link rel=&quot;stylesheet&quot; href=&quot;https://maxcdn.bootstrapcdn.com/font-awesome/4.6.3/css/font-awesome.min.css&quot;/&gt;\n",
              "    &lt;link rel=&quot;stylesheet&quot; href=&quot;https://cdnjs.cloudflare.com/ajax/libs/Leaflet.awesome-markers/2.0.2/leaflet.awesome-markers.css&quot;/&gt;\n",
              "    &lt;link rel=&quot;stylesheet&quot; href=&quot;https://cdn.jsdelivr.net/gh/python-visualization/folium/folium/templates/leaflet.awesome.rotate.min.css&quot;/&gt;\n",
              "    \n",
              "            &lt;meta name=&quot;viewport&quot; content=&quot;width=device-width,\n",
              "                initial-scale=1.0, maximum-scale=1.0, user-scalable=no&quot; /&gt;\n",
              "            &lt;style&gt;\n",
              "                #map_e4457a8ad588d24b3d55b286fa2810e5 {\n",
              "                    position: relative;\n",
              "                    width: 100.0%;\n",
              "                    height: 100.0%;\n",
              "                    left: 0.0%;\n",
              "                    top: 0.0%;\n",
              "                }\n",
              "            &lt;/style&gt;\n",
              "        \n",
              "&lt;/head&gt;\n",
              "&lt;body&gt;\n",
              "    \n",
              "    \n",
              "            &lt;div class=&quot;folium-map&quot; id=&quot;map_e4457a8ad588d24b3d55b286fa2810e5&quot; &gt;&lt;/div&gt;\n",
              "        \n",
              "&lt;/body&gt;\n",
              "&lt;script&gt;\n",
              "    \n",
              "    \n",
              "            var map_e4457a8ad588d24b3d55b286fa2810e5 = L.map(\n",
              "                &quot;map_e4457a8ad588d24b3d55b286fa2810e5&quot;,\n",
              "                {\n",
              "                    center: [0, 0],\n",
              "                    crs: L.CRS.EPSG3857,\n",
              "                    zoom: 1,\n",
              "                    zoomControl: true,\n",
              "                    preferCanvas: false,\n",
              "                }\n",
              "            );\n",
              "\n",
              "            \n",
              "\n",
              "        \n",
              "    \n",
              "            var tile_layer_a472973e3aa7a2f3c11e6da7d07cf0fd = L.tileLayer(\n",
              "                &quot;https://{s}.tile.openstreetmap.org/{z}/{x}/{y}.png&quot;,\n",
              "                {&quot;attribution&quot;: &quot;Data by \\u0026copy; \\u003ca href=\\&quot;http://openstreetmap.org\\&quot;\\u003eOpenStreetMap\\u003c/a\\u003e, under \\u003ca href=\\&quot;http://www.openstreetmap.org/copyright\\&quot;\\u003eODbL\\u003c/a\\u003e.&quot;, &quot;detectRetina&quot;: false, &quot;maxNativeZoom&quot;: 18, &quot;maxZoom&quot;: 18, &quot;minZoom&quot;: 0, &quot;noWrap&quot;: false, &quot;opacity&quot;: 1, &quot;subdomains&quot;: &quot;abc&quot;, &quot;tms&quot;: false}\n",
              "            ).addTo(map_e4457a8ad588d24b3d55b286fa2810e5);\n",
              "        \n",
              "    \n",
              "            var marker_c6409c4a276d2b902f871f5f6c2c87e4 = L.marker(\n",
              "                [40.10891, -83.09286],\n",
              "                {}\n",
              "            ).addTo(map_e4457a8ad588d24b3d55b286fa2810e5);\n",
              "        \n",
              "&lt;/script&gt;\n",
              "&lt;/html&gt;\" style=\"position:absolute;width:100%;height:100%;left:0;top:0;border:none !important;\" allowfullscreen webkitallowfullscreen mozallowfullscreen></iframe></div></div>"
            ]
          },
          "metadata": {},
          "execution_count": 61
        }
      ]
    },
    {
      "cell_type": "code",
      "source": [
        "for x in df[['Start_Lat','Start_Lng']].sample(100).iteritems():\n",
        "  print(x[1])"
      ],
      "metadata": {
        "colab": {
          "base_uri": "https://localhost:8080/"
        },
        "id": "iW0_i9fbe0Kl",
        "outputId": "79fc2f1b-e579-44eb-994e-271acfaaa6bd"
      },
      "execution_count": 64,
      "outputs": [
        {
          "output_type": "stream",
          "name": "stdout",
          "text": [
            "1629337    33.083452\n",
            "573247     37.371526\n",
            "1866587    42.933932\n",
            "2427232    39.431920\n",
            "1583494    40.914393\n",
            "             ...    \n",
            "2774394    40.248446\n",
            "128752     34.018300\n",
            "492944     28.067485\n",
            "2602484    43.103830\n",
            "1831019    40.540624\n",
            "Name: Start_Lat, Length: 100, dtype: float64\n",
            "1629337    -80.210100\n",
            "573247    -121.901816\n",
            "1866587    -74.320699\n",
            "2427232    -76.528370\n",
            "1583494    -73.812420\n",
            "              ...    \n",
            "2774394   -111.695120\n",
            "128752    -117.518290\n",
            "492944     -82.749083\n",
            "2602484    -84.563290\n",
            "1831019    -79.840453\n",
            "Name: Start_Lng, Length: 100, dtype: float64\n"
          ]
        }
      ]
    },
    {
      "cell_type": "code",
      "source": [
        "#for folium heatmap we need to gives value in set of lat and lan\n",
        "list(zip(list(df.Start_Lat),list(df.Start_Lng))) "
      ],
      "metadata": {
        "colab": {
          "base_uri": "https://localhost:8080/"
        },
        "id": "kQKO8Bfqe0He",
        "outputId": "4a6e26bd-b99f-446b-d6c1-765e9616ec66"
      },
      "execution_count": 72,
      "outputs": [
        {
          "output_type": "execute_result",
          "data": {
            "text/plain": [
              "[(40.10891, -83.09286),\n",
              " (39.86542, -84.0628),\n",
              " (39.10266, -84.52468),\n",
              " (41.06213, -81.53784),\n",
              " (39.172393, -84.49279200000002),\n",
              " (39.06324, -84.03243),\n",
              " (39.77565, -84.18603),\n",
              " (41.37531, -81.82016999999998),\n",
              " (40.702247, -84.075887),\n",
              " (40.10931, -82.96849),\n",
              " (39.19288, -84.47723),\n",
              " (39.13877, -84.53394),\n",
              " (41.4739, -81.704233),\n",
              " (39.582242, -83.677814),\n",
              " (40.151785, -81.312635),\n",
              " (40.151747, -81.312682),\n",
              " (39.97241, -82.84695),\n",
              " (39.9838, -82.85656999999998),\n",
              " (40.02664, -82.9944),\n",
              " (41.679361, -83.573037),\n",
              " (40.99613, -85.26613),\n",
              " (39.0381, -84.59243000000002),\n",
              " (40.03386, -82.99601),\n",
              " (39.85798, -84.28181),\n",
              " (39.15267, -84.5395),\n",
              " (39.30732, -85.95982),\n",
              " (39.77572, -84.04815),\n",
              " (39.97643, -83.12306),\n",
              " (39.58595, -85.82518),\n",
              " (39.3638, -85.51659000000002),\n",
              " (39.45132, -85.62516),\n",
              " (39.75067, -84.14148),\n",
              " (39.2675, -81.49929),\n",
              " (39.86025, -85.96623000000002),\n",
              " (41.95677, -83.67214),\n",
              " (38.27401, -85.74844),\n",
              " (41.95677, -83.67214),\n",
              " (40.52225, -80.06666),\n",
              " (40.487814, -80.009439),\n",
              " (40.156298, -83.018431),\n",
              " (41.47461, -81.71181999999997),\n",
              " (41.0618, -81.54608),\n",
              " (40.45112, -85.15048),\n",
              " (40.35429, -85.14993),\n",
              " (39.75855, -85.13715),\n",
              " (39.74408, -85.13749),\n",
              " (39.965148, -83.020499),\n",
              " (40.72813, -84.78965),\n",
              " (39.85223, -85.25846999999997),\n",
              " (41.46747, -81.75909),\n",
              " (41.83193, -80.10143000000002),\n",
              " (39.744287, -84.204939),\n",
              " (39.71548, -84.22033),\n",
              " (39.7504, -84.20561),\n",
              " (41.72316, -84.96444),\n",
              " (40.04376, -82.99708000000003),\n",
              " (38.1781, -85.71946),\n",
              " (38.18577, -85.80678),\n",
              " (38.27191, -85.80838),\n",
              " (39.923905, -82.87008),\n",
              " (41.035566, -81.569917),\n",
              " (39.9239, -83.68767),\n",
              " (41.851914, -80.175232),\n",
              " (39.93849, -82.84849),\n",
              " (38.96943, -80.1096),\n",
              " (41.66805, -83.57063000000002),\n",
              " (41.48339, -81.66297),\n",
              " (41.50127, -81.4804),\n",
              " (39.789093, -82.989106),\n",
              " (41.67073, -81.24561),\n",
              " (41.70846, -81.17636),\n",
              " (41.44246, -81.78485),\n",
              " (39.77128, -84.1923),\n",
              " (41.50499, -81.47417),\n",
              " (40.109653, -80.2029),\n",
              " (38.38852, -81.7687),\n",
              " (41.03572, -81.57809),\n",
              " (41.47487, -81.72095),\n",
              " (41.62845, -84.80559000000002),\n",
              " (41.62894, -84.80373),\n",
              " (41.16102, -81.78573),\n",
              " (41.628232, -84.808858),\n",
              " (41.62986, -84.76619000000002),\n",
              " (39.74729, -84.21426),\n",
              " (41.42099, -81.69051999999998),\n",
              " (41.42318, -81.84674),\n",
              " (38.79691, -84.48273),\n",
              " (38.80878, -84.49638),\n",
              " (38.30155, -85.85499),\n",
              " (38.33667, -81.65623000000002),\n",
              " (38.33614, -81.65623000000002),\n",
              " (41.0961, -81.58593),\n",
              " (41.12155, -85.18715999999998),\n",
              " (38.829993, -80.667067),\n",
              " (40.05642, -83.03097),\n",
              " (41.37717, -81.5139),\n",
              " (39.17397, -84.49031),\n",
              " (39.75513, -84.16614),\n",
              " (39.17397, -84.49031),\n",
              " (41.12624, -81.65299),\n",
              " (38.33667, -81.65623000000002),\n",
              " (41.10389, -81.5),\n",
              " (39.16417, -84.45275),\n",
              " (40.11184, -83.00883),\n",
              " (38.31922, -85.75301999999998),\n",
              " (39.09881, -84.50801),\n",
              " (41.473859, -81.708409),\n",
              " (41.039988, -81.565332),\n",
              " (41.73565, -84.99082),\n",
              " (39.26566, -84.43965),\n",
              " (41.46981, -81.81104),\n",
              " (41.25666, -81.63157),\n",
              " (40.58919, -80.09885),\n",
              " (41.06356, -81.49078),\n",
              " (41.06218, -81.50595),\n",
              " (39.17736, -84.4873),\n",
              " (38.33956, -81.60991999999997),\n",
              " (41.47889, -81.6934),\n",
              " (40.58919, -80.09885),\n",
              " (41.41119000000001, -81.64414000000002),\n",
              " (39.24907, -84.44561999999998),\n",
              " (39.28775, -84.40073000000002),\n",
              " (41.47379, -81.89631),\n",
              " (41.54941, -81.60676),\n",
              " (39.03347, -84.603),\n",
              " (39.74903, -84.20106),\n",
              " (39.89473, -83.044),\n",
              " (39.19641, -84.47331),\n",
              " (39.22461, -84.45364000000002),\n",
              " (39.15306, -84.44283),\n",
              " (39.97262, -82.98368),\n",
              " (40.535447, -80.03596),\n",
              " (40.529455, -80.03506999999998),\n",
              " (41.49647, -81.67733),\n",
              " (41.0634, -81.49079),\n",
              " (39.74284, -84.20479),\n",
              " (41.46822, -81.9476),\n",
              " (41.92479, -83.36026),\n",
              " (41.184738, -80.432713),\n",
              " (40.27317, -85.5577),\n",
              " (39.98264, -85.14301999999998),\n",
              " (40.27317, -85.5577),\n",
              " (40.42667, -85.54968000000002),\n",
              " (39.97527, -85.14018),\n",
              " (39.09889, -84.52118),\n",
              " (38.88012, -84.62527),\n",
              " (38.79256, -84.60423),\n",
              " (39.74284, -84.20479),\n",
              " (40.484222, -80.13755400000002),\n",
              " (41.20104, -80.06859),\n",
              " (39.05528, -84.39072),\n",
              " (41.623325, -83.692226),\n",
              " (40.53024, -80.00957),\n",
              " (40.06527, -82.99591),\n",
              " (40.43954, -80.00971),\n",
              " (41.422004, -81.730092),\n",
              " (39.3638, -85.51659000000002),\n",
              " (39.82083, -85.7749),\n",
              " (40.0366, -85.72561999999998),\n",
              " (39.855691, -84.29079200000002),\n",
              " (40.049152, -85.682047),\n",
              " (39.83939, -85.55752),\n",
              " (40.13386, -80.00666),\n",
              " (40.43954, -80.00971),\n",
              " (40.13386, -80.00666),\n",
              " (40.13386, -80.00666),\n",
              " (39.97859, -82.9763),\n",
              " (39.95459, -83.04255),\n",
              " (39.68291, -85.97372),\n",
              " (38.49304, -85.77156),\n",
              " (38.33428, -85.82177),\n",
              " (39.99921, -83.02875),\n",
              " (38.53844, -85.77702),\n",
              " (38.1781, -85.71946),\n",
              " (39.87433, -82.99882),\n",
              " (41.39546, -85.32855),\n",
              " (41.39469, -85.28893000000002),\n",
              " (41.90473, -83.36986),\n",
              " (40.77137000000001, -84.62203000000002),\n",
              " (40.80059, -84.61374),\n",
              " (39.87433, -82.99882),\n",
              " (40.78593, -84.61787),\n",
              " (40.80059, -84.61374),\n",
              " (41.67487, -83.57266),\n",
              " (41.47376, -81.86113),\n",
              " (38.33465, -85.75389),\n",
              " (39.14014, -84.53495),\n",
              " (41.80143, -85.34888000000002),\n",
              " (41.35761, -81.81988),\n",
              " (39.34392, -84.39043000000002),\n",
              " (39.816154, -83.18010500000003),\n",
              " (38.824929, -85.47449499999998),\n",
              " (38.82415, -85.63794),\n",
              " (40.593244, -85.150017),\n",
              " (40.600487, -85.150502),\n",
              " (41.19362, -80.2374),\n",
              " (40.55267, -85.14974000000002),\n",
              " (40.56744000000001, -85.14993),\n",
              " (40.14212, -81.55153),\n",
              " (39.94397, -82.41127),\n",
              " (39.96893, -83.11922),\n",
              " (40.6126, -80.09494000000002),\n",
              " (40.11184, -83.00883),\n",
              " (41.06347, -81.50372),\n",
              " (39.972931, -85.965783),\n",
              " (39.95459, -83.04255),\n",
              " (40.11184, -83.00883),\n",
              " (39.97241, -82.84695),\n",
              " (39.9912, -85.9188),\n",
              " (41.34965, -81.51146),\n",
              " (41.11987, -80.69004),\n",
              " (41.11851, -80.69242),\n",
              " (40.05642, -83.03097),\n",
              " (38.117487, -85.760397),\n",
              " (41.44134, -81.65055),\n",
              " (38.61531, -80.76034),\n",
              " (41.124052, -80.677589),\n",
              " (39.95085, -82.94428),\n",
              " (41.06257, -81.52228000000002),\n",
              " (40.11212, -83.03905999999998),\n",
              " (39.887033, -83.043909),\n",
              " (40.04916, -83.03336),\n",
              " (41.12906, -85.1612),\n",
              " (41.17798, -85.10323000000002),\n",
              " (38.08783, -83.90263),\n",
              " (41.63316, -83.54203000000003),\n",
              " (39.149639, -84.539381),\n",
              " (40.9605, -85.3528),\n",
              " (40.96051, -85.34522),\n",
              " (41.08204, -80.64846999999997),\n",
              " (41.61791, -83.54106999999998),\n",
              " (38.41592, -82.3465),\n",
              " (41.67571, -83.69385),\n",
              " (39.08272, -84.52264),\n",
              " (39.280947, -80.278075),\n",
              " (38.36387, -81.73867),\n",
              " (40.0187, -82.90465999999998),\n",
              " (41.53757, -81.64083000000002),\n",
              " (41.16522, -81.47454),\n",
              " (39.52352, -82.02360999999998),\n",
              " (39.517216, -82.025802),\n",
              " (40.322818, -83.071034),\n",
              " (41.73565, -84.99082),\n",
              " (39.14648, -84.45455),\n",
              " (39.82122, -85.76482),\n",
              " (41.11889, -81.65406999999998),\n",
              " (40.121557, -83.151457),\n",
              " (40.11017, -83.15876999999998),\n",
              " (41.57777, -81.54987),\n",
              " (40.121557, -83.151457),\n",
              " (40.11017, -83.15876999999998),\n",
              " (41.04592, -81.69463),\n",
              " (41.42099, -81.69051999999998),\n",
              " (39.27486, -84.346),\n",
              " (39.28266, -84.56742),\n",
              " (39.9467, -82.22232),\n",
              " (39.17397, -84.49031),\n",
              " (39.17736, -84.4873),\n",
              " (39.9467, -82.22232),\n",
              " (39.9467, -82.22232),\n",
              " (41.68518, -83.5678),\n",
              " (41.66572, -83.5652),\n",
              " (39.27125, -84.35176),\n",
              " (41.47395, -81.69931),\n",
              " (39.98505, -80.74006),\n",
              " (39.95813, -80.76219),\n",
              " (41.56544, -81.5835),\n",
              " (38.32587, -83.11389),\n",
              " (38.25869, -85.7622),\n",
              " (38.29322, -85.654625),\n",
              " (39.78609, -83.24606999999997),\n",
              " (41.53968, -81.62795),\n",
              " (39.08927, -84.5227),\n",
              " (38.25922, -85.76632),\n",
              " (41.55264, -81.60032),\n",
              " (39.02187, -84.50492),\n",
              " (41.06755, -81.57421),\n",
              " (40.49223, -80.01029),\n",
              " (41.48836, -81.66471),\n",
              " (39.95085, -82.94428),\n",
              " (41.42063, -81.80859),\n",
              " (41.06755, -81.57421),\n",
              " (40.82949, -81.39732),\n",
              " (41.40091, -81.81724),\n",
              " (41.13355, -85.13584),\n",
              " (38.870386, -84.624429),\n",
              " (41.47974, -81.6667),\n",
              " (40.30095, -80.16651999999998),\n",
              " (39.11543, -84.50003000000002),\n",
              " (41.1419, -81.47694),\n",
              " (39.14917, -84.44711),\n",
              " (39.81979000000001, -84.18908),\n",
              " (39.84509, -84.1899),\n",
              " (41.47461, -81.71181999999997),\n",
              " (39.17304, -84.47589),\n",
              " (39.1021, -84.49754),\n",
              " (41.49873, -81.67260999999998),\n",
              " (39.12627, -84.53509),\n",
              " (41.47394600000001, -81.699011),\n",
              " (39.9745, -83.09654),\n",
              " (39.85911, -84.2808),\n",
              " (39.24943, -84.36541),\n",
              " (38.31179, -85.58773000000002),\n",
              " (39.27486, -84.346),\n",
              " (39.29287, -84.31981),\n",
              " (39.15267, -84.5395),\n",
              " (41.4675, -81.49014),\n",
              " (39.26661, -84.35605),\n",
              " (39.27125, -84.35176),\n",
              " (38.20674, -85.74846),\n",
              " (40.13804, -82.97112),\n",
              " (41.47965, -81.66758),\n",
              " (39.08887, -84.52271),\n",
              " (41.6882, -83.64064),\n",
              " (40.06527, -82.99591),\n",
              " (39.86536, -84.05238),\n",
              " (38.420223, -82.293065),\n",
              " (41.47414000000001, -81.69893),\n",
              " (41.47542, -81.68721),\n",
              " (40.07297, -83.1347),\n",
              " (40.05609000000001, -80.679211),\n",
              " (38.19105, -85.71902),\n",
              " (38.25454000000001, -85.71969),\n",
              " (39.171694, -84.494399),\n",
              " (41.06239, -81.52229),\n",
              " (39.259254, -84.440978),\n",
              " (39.905178, -82.895471),\n",
              " (40.0988, -83.13331),\n",
              " (41.33991, -81.81739),\n",
              " (40.0999, -82.92089),\n",
              " (39.4728, -80.11963),\n",
              " (41.46631, -81.77065999999998),\n",
              " (38.34109, -81.70017),\n",
              " (41.160072, -85.232647),\n",
              " (41.163626, -85.24482900000002),\n",
              " (39.14014, -84.53495),\n",
              " (40.94537, -81.15473),\n",
              " (41.68591, -83.911307),\n",
              " (41.704523, -83.9136),\n",
              " (40.945772, -81.17219399999998),\n",
              " (38.82445, -82.98299),\n",
              " (38.84111, -82.98432),\n",
              " (39.00079, -84.42043000000002),\n",
              " (39.96071, -85.35383),\n",
              " (39.2675, -81.49929),\n",
              " (40.27317, -85.5577),\n",
              " (40.42667, -85.54968000000002),\n",
              " (38.130782, -81.388878),\n",
              " (38.545195, -85.778613),\n",
              " (38.362427, -81.714434),\n",
              " (38.39115, -81.58664),\n",
              " (40.08978, -82.98725999999998),\n",
              " (40.0122, -82.99188000000002),\n",
              " (41.68918, -83.53681999999998),\n",
              " (39.3781, -84.365),\n",
              " (39.11919, -84.53539),\n",
              " (39.05029, -83.77673),\n",
              " (39.04827, -83.77199),\n",
              " (40.0717, -82.90821),\n",
              " (39.09655, -84.48312),\n",
              " (40.43077, -80.02638),\n",
              " (41.443708, -85.19285),\n",
              " (41.438119, -85.15969399999999),\n",
              " (41.46747, -81.75909),\n",
              " (39.044435, -84.465864),\n",
              " (39.22461, -84.45364000000002),\n",
              " (41.104217, -81.499987),\n",
              " (41.1003, -81.4999),\n",
              " (39.1021, -84.49754),\n",
              " (41.46375, -81.69353000000002),\n",
              " (41.52134, -83.45642),\n",
              " (41.52549000000001, -83.46344),\n",
              " (41.43166, -81.68160999999998),\n",
              " (38.22363, -85.50532),\n",
              " (40.85466, -81.41646999999998),\n",
              " (38.22272, -85.50111),\n",
              " (39.12424, -84.53501),\n",
              " (39.09858, -84.51974),\n",
              " (39.63551, -84.19519),\n",
              " (40.39715, -80.10368000000003),\n",
              " (41.56709, -81.57816),\n",
              " (41.18225, -84.94275999999998),\n",
              " (39.10148, -84.52341),\n",
              " (41.55245, -83.60061999999998),\n",
              " (38.52006, -81.35221),\n",
              " (41.3513, -83.62276),\n",
              " (39.25015, -81.30566),\n",
              " (41.345031, -82.285379),\n",
              " (41.351335, -82.26144599999998),\n",
              " (38.38457, -81.804429),\n",
              " (40.41528, -80.01234000000002),\n",
              " (40.03598, -83.12479),\n",
              " (41.03669, -81.50492),\n",
              " (41.68971, -83.53045999999998),\n",
              " (39.587784, -83.723939),\n",
              " (39.626237, -83.73105),\n",
              " (41.06243, -81.49904000000002),\n",
              " (39.97262, -82.98368),\n",
              " (39.93658, -83.00941999999998),\n",
              " (41.208579, -82.807829),\n",
              " (41.4051, -81.8184),\n",
              " (39.29035, -84.39078),\n",
              " (39.90524, -82.89541),\n",
              " (40.04376, -82.99708000000003),\n",
              " (39.98793, -82.98568),\n",
              " (41.874915, -85.409527),\n",
              " (41.890234, -85.409642),\n",
              " (39.9335, -82.78939),\n",
              " (40.04916, -83.03336),\n",
              " (39.99493, -82.93332),\n",
              " (39.83727, -83.09326999999998),\n",
              " (40.98954000000001, -81.49372),\n",
              " (38.53844, -85.77702),\n",
              " (41.10389, -81.5),\n",
              " (38.577894, -85.77896),\n",
              " (41.42099, -81.69051999999998),\n",
              " (38.58054600000001, -85.77866),\n",
              " (39.833935, -84.061832),\n",
              " (38.30344, -85.88893),\n",
              " (39.93654, -83.40048),\n",
              " (39.95612, -83.37499),\n",
              " (39.17766, -84.39780999999998),\n",
              " (40.02155, -83.0354),\n",
              " (39.97518, -85.63374),\n",
              " (39.94576, -85.63454),\n",
              " (40.27744000000001, -85.72518000000002),\n",
              " (39.17304, -84.47589),\n",
              " (41.68648, -83.5669),\n",
              " (41.66267, -85.03312),\n",
              " (41.68976, -83.666),\n",
              " (39.94594, -82.9432),\n",
              " (41.4758, -81.66036),\n",
              " (41.628312, -84.812135),\n",
              " (39.96724, -83.02459),\n",
              " (41.96429000000001, -83.35018000000002),\n",
              " (41.282993, -83.638931),\n",
              " (41.63126, -83.48336),\n",
              " (41.427584, -85.8495),\n",
              " (41.471378, -85.839527),\n",
              " (41.46747, -81.75909),\n",
              " (39.18364, -84.48373000000002),\n",
              " (41.94495, -80.40234),\n",
              " (39.53078, -84.310264),\n",
              " (41.438774, -81.80341999999997),\n",
              " (39.9838, -82.85656999999998),\n",
              " (40.44413400000001, -80.028261),\n",
              " (39.97727, -83.15445),\n",
              " (39.9745, -83.09654),\n",
              " (39.97865, -83.11698),\n",
              " (39.97327, -83.12002),\n",
              " (39.22571, -84.36832),\n",
              " (39.986342, -83.118881),\n",
              " (39.73629, -84.20489),\n",
              " (41.4051, -81.8184),\n",
              " (41.41101, -81.66634),\n",
              " (39.24464, -84.44835),\n",
              " (40.11212, -83.03905999999998),\n",
              " (40.30095, -80.16651999999998),\n",
              " (41.49243, -81.67554),\n",
              " (40.1827, -80.26148),\n",
              " (39.95459, -83.04255),\n",
              " (39.97527, -85.14018),\n",
              " (39.98511, -85.14406),\n",
              " (38.29514, -85.75655),\n",
              " (39.93654, -83.40048),\n",
              " (39.11543, -84.50003000000002),\n",
              " (41.030684, -81.885739),\n",
              " (41.43166, -81.68160999999998),\n",
              " (40.6664, -80.227514),\n",
              " (40.67137, -80.22581),\n",
              " (41.305199, -81.438626),\n",
              " (40.354252, -85.843032),\n",
              " (40.402251, -85.842969),\n",
              " (41.26752000000001, -85.85673),\n",
              " (39.97307, -82.98405),\n",
              " (39.9672, -81.28699999999998),\n",
              " (39.96392, -81.27197),\n",
              " (41.52631, -83.62123000000003),\n",
              " (39.93292, -82.83025),\n",
              " (39.08272, -84.52264),\n",
              " (39.8552, -84.32502),\n",
              " (41.65404, -85.70526),\n",
              " (41.39465, -81.65326),\n",
              " (41.06211, -81.53053),\n",
              " (41.09598, -81.49976),\n",
              " (41.85222, -85.67843),\n",
              " (38.148808, -80.929665),\n",
              " (41.52447, -85.57791),\n",
              " (41.5105, -85.57781),\n",
              " (39.90524, -82.89541),\n",
              " (41.23598, -81.49325999999998),\n",
              " (38.70101, -80.66483000000002),\n",
              " (39.22498, -84.38094),\n",
              " (40.776023, -80.12718100000002),\n",
              " (38.86027, -80.65729),\n",
              " (39.88203, -83.04748000000002),\n",
              " (39.89253400000001, -83.038786),\n",
              " (39.89698, -83.03428000000002),\n",
              " (41.67439, -83.693727),\n",
              " (41.12999, -85.15503000000002),\n",
              " (39.09889, -84.52118),\n",
              " (41.52631, -83.62123000000003),\n",
              " (39.088552, -84.522724),\n",
              " (39.95423, -82.98879000000002),\n",
              " (39.21018, -84.46345),\n",
              " (39.95369, -82.96403000000002),\n",
              " (40.40934, -80.19247),\n",
              " (40.44126, -80.19314),\n",
              " (39.16161, -84.51375),\n",
              " (39.16161, -84.51375),\n",
              " (39.15141, -84.54061),\n",
              " (39.75855, -85.13715),\n",
              " (41.67571, -83.69385),\n",
              " (41.67571, -83.69385),\n",
              " (39.28805, -84.37462),\n",
              " (41.53618, -83.6176),\n",
              " (39.07202, -84.51907),\n",
              " (38.259133, -85.752672),\n",
              " (40.44425, -80.02821),\n",
              " (40.44278, -80.02468),\n",
              " (38.30155, -85.85499),\n",
              " (40.35405, -80.13756),\n",
              " (40.35449000000001, -80.13835999999998),\n",
              " (38.30344, -85.88893),\n",
              " (41.08789, -83.66011),\n",
              " (41.02454, -80.92163000000002),\n",
              " (41.02413, -80.90579),\n",
              " (39.08168, -84.7069),\n",
              " (38.18539000000001, -85.81793),\n",
              " (39.27734, -84.86438000000003),\n",
              " (39.16437, -84.43731),\n",
              " (39.748585, -84.226084),\n",
              " (39.4728, -80.11963),\n",
              " (41.187807, -80.149019),\n",
              " (41.19242, -80.15860500000002),\n",
              " (38.233483, -85.62671800000003),\n",
              " (38.33954, -81.609895),\n",
              " (40.07297, -83.1347),\n",
              " (40.08402, -83.13046),\n",
              " (38.34631, -83.40449),\n",
              " (38.35382, -83.40553),\n",
              " (39.04416, -84.46656),\n",
              " (38.41807, -81.54525),\n",
              " (38.309401, -85.847643),\n",
              " (41.64679, -83.54913),\n",
              " (38.198748, -85.733953),\n",
              " (39.97401, -82.99355),\n",
              " (39.17397, -84.49031),\n",
              " (41.68843, -83.56258000000003),\n",
              " (41.67904, -83.5732),\n",
              " (39.25249, -84.36493),\n",
              " (38.310736, -85.590395),\n",
              " (41.46941, -81.80535),\n",
              " (38.20674, -85.74846),\n",
              " (39.226317, -84.37107900000002),\n",
              " (41.68721, -83.55579),\n",
              " (40.09775, -84.22926),\n",
              " (41.42147, -81.70682),\n",
              " (38.29414600000001, -85.756847),\n",
              " (39.17304, -84.47589),\n",
              " (38.15982, -84.67308),\n",
              " (39.11675, -84.53355),\n",
              " (39.24943, -84.36541),\n",
              " (41.06146, -81.5049),\n",
              " (39.18364, -84.48373000000002),\n",
              " (39.98793, -82.98568),\n",
              " (39.95971, -83.04811),\n",
              " (39.1479, -84.53929000000002),\n",
              " (39.89555, -83.84997),\n",
              " (39.99226, -82.98517),\n",
              " (39.40983, -82.97548),\n",
              " (40.6126, -80.09494000000002),\n",
              " (39.22479000000001, -84.27783000000002),\n",
              " (39.11675, -84.53355),\n",
              " (41.43869, -81.80554000000002),\n",
              " (40.016819, -82.90411),\n",
              " (39.09757000000001, -84.51666),\n",
              " (41.06247000000001, -81.52405),\n",
              " (39.13219, -84.49464),\n",
              " (39.097654, -84.516019),\n",
              " (41.34965, -81.51146),\n",
              " (41.37717, -81.5139),\n",
              " (40.12589000000001, -80.13661),\n",
              " (40.13189000000001, -80.132407),\n",
              " (40.00507, -83.1186),\n",
              " (39.43794000000001, -82.53893000000002),\n",
              " (39.12627, -84.53509),\n",
              " (38.07759, -84.45711999999997),\n",
              " (40.09079000000001, -82.90783),\n",
              " (39.64731, -85.91696999999998),\n",
              " (39.08927, -84.5227),\n",
              " (38.26109, -85.73695),\n",
              " (38.19785, -85.70445),\n",
              " (39.05654000000001, -84.54283000000002),\n",
              " (41.42413, -81.64519),\n",
              " (39.28638, -84.42706),\n",
              " (41.37499, -83.61635),\n",
              " (41.06228, -81.50986999999998),\n",
              " (41.53907, -81.63354),\n",
              " (40.04916, -83.03336),\n",
              " (41.13613, -81.72196),\n",
              " (39.09891, -84.49181999999998),\n",
              " (39.96268, -82.84305),\n",
              " (39.17397, -84.49031),\n",
              " (39.16911, -84.42104),\n",
              " (39.003821, -80.391285),\n",
              " (39.17736, -84.4873),\n",
              " (39.14316, -84.47069),\n",
              " (39.2696, -84.34894),\n",
              " (40.521732, -81.64755),\n",
              " (40.513361, -81.651599),\n",
              " (41.52631, -83.62123000000003),\n",
              " (38.992607, -80.195782),\n",
              " (38.839151, -82.152877),\n",
              " (40.27675, -85.49916),\n",
              " (40.52168, -80.13163),\n",
              " (39.83711, -84.54392),\n",
              " (39.02296, -84.51784),\n",
              " (38.455787, -81.88205),\n",
              " (39.02397, -84.48039),\n",
              " (38.22433, -85.751),\n",
              " (39.05973, -84.42438),\n",
              " (39.27734, -84.86438000000003),\n",
              " (41.47965, -81.66758),\n",
              " (39.02257, -84.48631),\n",
              " (40.44846, -80.00755),\n",
              " (39.09891, -84.28556999999998),\n",
              " (41.06026, -81.55485999999998),\n",
              " (41.802758, -83.684687),\n",
              " (38.0791, -83.94591),\n",
              " (38.01846, -84.15159),\n",
              " (38.30344, -85.88893),\n",
              " (38.84109, -85.81618),\n",
              " (41.14181, -80.72015999999998),\n",
              " (39.14648, -84.45455),\n",
              " (41.04263, -81.50543),\n",
              " (38.21089, -85.82606),\n",
              " (39.75067, -84.14148),\n",
              " (38.28581, -85.50792),\n",
              " (39.15273300000001, -84.541403),\n",
              " (38.23585, -85.658849),\n",
              " (38.20249, -85.68697),\n",
              " (40.53491, -83.10678),\n",
              " (40.52035, -83.10043),\n",
              " (39.12965, -84.49555),\n",
              " (38.22811, -85.7514),\n",
              " (40.41233, -80.07815),\n",
              " (39.7504, -84.20561),\n",
              " (39.08272, -84.52264),\n",
              " (39.781457, -85.839651),\n",
              " (39.781457, -85.839651),\n",
              " (41.06076, -81.45923),\n",
              " (39.688148, -83.88431),\n",
              " (39.693164, -83.882745),\n",
              " (39.9488, -83.02845),\n",
              " (41.11584000000001, -81.61428000000002),\n",
              " (39.797697, -84.189677),\n",
              " (39.20326, -85.95763000000002),\n",
              " (39.24464, -84.44835),\n",
              " (39.73733, -84.25733000000002),\n",
              " (39.969853, -85.972976),\n",
              " (41.11889, -81.65406999999998),\n",
              " (39.13219, -84.49464),\n",
              " (41.458, -83.62201999999998),\n",
              " (40.09268, -83.03726),\n",
              " (40.066965, -83.289888),\n",
              " (40.045608, -83.29660799999998),\n",
              " (39.97307, -82.98405),\n",
              " (39.98248, -85.123922),\n",
              " (39.981095, -85.11027299999998),\n",
              " (40.43021, -80.02554),\n",
              " (40.43219000000001, -80.02781999999998),\n",
              " (39.976567, -83.128639),\n",
              " (41.256658, -85.363439),\n",
              " (41.37499, -83.61635),\n",
              " (41.252653, -85.347328),\n",
              " (39.93658, -83.00941999999998),\n",
              " (39.14014, -84.53495),\n",
              " (40.153014, -82.970316),\n",
              " (39.90524, -82.89541),\n",
              " (39.13219, -84.49464),\n",
              " (40.42581, -80.4294),\n",
              " (41.08789, -83.65977),\n",
              " (39.9488, -83.02845),\n",
              " (41.47585, -81.87980999999998),\n",
              " (39.1079, -84.50284),\n",
              " (38.340803, -81.680728),\n",
              " (40.96473, -85.28862),\n",
              " (38.441, -82.12679),\n",
              " (38.4413, -82.01529000000002),\n",
              " (38.441, -82.12679),\n",
              " (38.18977, -83.48379),\n",
              " (41.194131, -80.201982),\n",
              " (40.09601, -83.13626),\n",
              " (41.23632, -83.65401999999997),\n",
              " (38.1737, -84.81473000000003),\n",
              " (38.19016, -85.7616),\n",
              " (39.25249, -84.36493),\n",
              " (39.137217, -84.04718299999998),\n",
              " (39.141454, -84.016543),\n",
              " (38.344424, -81.613662),\n",
              " (41.93113, -83.35857),\n",
              " (40.89268, -84.61808),\n",
              " (40.46013, -80.19126),\n",
              " (41.119342, -80.698025),\n",
              " (41.117872, -80.693898),\n",
              " (39.15267, -84.5395),\n",
              " (38.27362, -85.80906),\n",
              " (41.458, -83.62201999999998),\n",
              " (39.35655, -84.26419),\n",
              " (38.4062, -81.54054000000002),\n",
              " (41.02525900000001, -81.5042),\n",
              " (38.27362, -85.80906),\n",
              " (38.11969000000001, -85.77235),\n",
              " (38.275406, -85.81314300000003),\n",
              " (38.27508, -85.81517099999998),\n",
              " (41.39769, -81.939),\n",
              " (39.46513, -80.13559000000002),\n",
              " (38.217994, -81.426024),\n",
              " (38.215401, -81.42437199999998),\n",
              " (39.042851, -84.612615),\n",
              " (38.26109, -85.73695),\n",
              " (39.05654000000001, -84.54283000000002),\n",
              " (41.840758, -84.361657),\n",
              " (41.841123, -84.361652),\n",
              " (41.63316, -83.54203000000003),\n",
              " (40.02874, -81.04368000000002),\n",
              " (41.43891, -81.80258),\n",
              " (41.0811, -81.50348000000002),\n",
              " (38.35575, -81.65420999999998),\n",
              " (39.94585, -82.94293),\n",
              " (41.69017, -83.5181),\n",
              " (40.11212, -83.03905999999998),\n",
              " (41.50259000000001, -81.66974),\n",
              " (39.989994, -83.02512),\n",
              " (41.480458, -81.692932),\n",
              " (39.22461, -84.45364000000002),\n",
              " (40.04376, -82.99708000000003),\n",
              " (39.93621, -82.88318000000002),\n",
              " (39.167788, -82.524172),\n",
              " (39.20655, -82.48212),\n",
              " (41.36576, -81.51602),\n",
              " (39.977322, -81.183327),\n",
              " (39.961933, -81.175436),\n",
              " (39.68292, -84.23004),\n",
              " (40.02664, -82.9944),\n",
              " (38.583372, -81.994824),\n",
              " (38.58119600000001, -82.004356),\n",
              " (40.07297, -83.1347),\n",
              " (41.58689, -83.56234),\n",
              " (38.31714, -85.57677),\n",
              " (40.07297, -83.1347),\n",
              " (39.07202, -84.51907),\n",
              " (41.46747, -81.75909),\n",
              " (40.82645, -81.39675),\n",
              " (40.82645, -81.39675),\n",
              " (39.05654000000001, -84.54283000000002),\n",
              " (39.06272, -84.65728),\n",
              " (39.03368, -84.59527),\n",
              " (40.02121, -82.99503),\n",
              " (39.866695, -84.9305),\n",
              " (39.05654000000001, -84.54283000000002),\n",
              " (39.03232, -84.59137),\n",
              " (41.04058, -81.61256999999998),\n",
              " (40.98884, -83.64875),\n",
              " (39.95658, -83.37075),\n",
              " (39.89857, -83.72139),\n",
              " (39.896448, -83.72312099999998),\n",
              " (41.47965, -81.66758),\n",
              " (39.71548, -84.22033),\n",
              " (40.0389, -85.71828000000002),\n",
              " (41.17516, -81.23116999999998),\n",
              " (41.15107, -81.21375),\n",
              " (40.0389, -85.71828000000002),\n",
              " (39.99336, -85.83861999999998),\n",
              " (40.46013, -80.19126),\n",
              " (41.68976, -83.666),\n",
              " (39.97326, -83.00690999999998),\n",
              " (39.48572, -83.94191),\n",
              " (39.83355, -85.99635),\n",
              " (39.79721, -85.97153),\n",
              " (39.98056, -83.11924),\n",
              " (41.458, -83.62243000000002),\n",
              " (39.905352, -82.995352),\n",
              " (39.99921, -83.02875),\n",
              " (40.869049, -81.95845600000001),\n",
              " (41.419021, -81.519515),\n",
              " (39.34392, -84.39043000000002),\n",
              " (39.9454, -82.60271),\n",
              " (38.353957, -81.73513100000002),\n",
              " (38.354505, -81.731585),\n",
              " (41.501623, -81.479519),\n",
              " (39.86477, -83.99871),\n",
              " (38.737813, -85.250959),\n",
              " (40.00507, -83.1186),\n",
              " (39.91978, -82.93149),\n",
              " (39.09757000000001, -84.51666),\n",
              " (41.07995, -81.50389),\n",
              " (41.63316, -83.54203000000003),\n",
              " (39.82529, -83.03175999999998),\n",
              " (39.83209, -82.99884),\n",
              " (39.83208, -83.000447),\n",
              " (38.416631, -84.861968),\n",
              " (40.55549, -80.11634000000002),\n",
              " (39.17736, -84.4873),\n",
              " (41.484589, -81.691778),\n",
              " (41.22734000000001, -81.62705),\n",
              " (39.04695, -84.57498000000002),\n",
              " (39.25595, -84.44287),\n",
              " (39.8888, -82.88181999999998),\n",
              " (39.74729, -84.21426),\n",
              " (39.97415, -83.09486),\n",
              " (39.08272, -84.52264),\n",
              " (39.949808, -83.02289300000002),\n",
              " (39.95141, -83.0137),\n",
              " (38.7056, -80.66107),\n",
              " (39.1479, -84.53929000000002),\n",
              " (41.7573, -83.48075),\n",
              " (39.98946, -85.9299),\n",
              " (39.98894, -83.025012),\n",
              " (41.110996, -80.82384),\n",
              " (41.68685900000001, -83.554005),\n",
              " (41.53907, -81.63354),\n",
              " (39.300562, -84.518869),\n",
              " (41.202543, -85.7011),\n",
              " (39.19288, -84.47723),\n",
              " (40.07297, -83.1347),\n",
              " (39.140991, -84.483618),\n",
              " (41.121599, -80.789503),\n",
              " (41.31438, -81.51286),\n",
              " (39.85922, -84.27762),\n",
              " (40.42005, -80.03531),\n",
              " (39.9589, -82.98257),\n",
              " (39.89087, -83.85382),\n",
              " (39.89862, -83.85353),\n",
              " (40.03938, -83.050567),\n",
              " (41.41218, -81.61371),\n",
              " (38.306159, -80.833765),\n",
              " (40.104, -82.94154),\n",
              " (38.24178, -85.62212),\n",
              " (41.55264, -81.60032),\n",
              " (39.99226, -82.98517),\n",
              " (38.31553, -85.58313000000003),\n",
              " (38.400331, -85.371049),\n",
              " (38.31251, -85.57741999999998),\n",
              " (38.400331, -85.371049),\n",
              " (39.88938, -82.88316),\n",
              " (38.15873, -80.90504),\n",
              " (39.9745, -83.09654),\n",
              " (41.47487, -81.72095),\n",
              " (39.26931, -84.4307),\n",
              " (38.2201, -85.82223),\n",
              " (41.48339, -81.66297),\n",
              " (39.16161, -84.51375),\n",
              " (41.42734, -82.08322),\n",
              " (41.52631, -83.62123000000003),\n",
              " (39.91732, -83.012335),\n",
              " (41.60867, -81.48891),\n",
              " (41.20554, -85.17116),\n",
              " (41.507189, -81.67124),\n",
              " (39.97415, -83.09486),\n",
              " (39.97043, -83.01961999999997),\n",
              " (39.93849, -82.84849),\n",
              " (39.89698, -83.03428000000002),\n",
              " (39.71452, -84.22281),\n",
              " (40.11468, -83.01644),\n",
              " (38.34244, -85.80447),\n",
              " (41.47036, -81.65984),\n",
              " (38.30056, -85.84703),\n",
              " (39.169389, -84.50389),\n",
              " (39.936838, -83.042661),\n",
              " (39.937567, -83.04209200000003),\n",
              " (39.9425, -82.53536),\n",
              " (39.27125, -84.35176),\n",
              " (41.398877, -83.616108),\n",
              " (39.24422, -84.30224),\n",
              " (40.412997, -80.07973299999998),\n",
              " (39.021521, -84.50784300000002),\n",
              " (41.12367, -80.76913),\n",
              " (41.073876, -83.66091999999998),\n",
              " (39.01992, -83.65886),\n",
              " (38.97914, -83.65465),\n",
              " (40.09927, -83.15793000000002),\n",
              " (39.93658, -83.00941999999998),\n",
              " (39.11543, -84.50003000000002),\n",
              " (41.474552, -81.711522),\n",
              " (39.78517, -84.18457),\n",
              " (41.47974, -81.6667),\n",
              " (38.27719, -85.69383),\n",
              " (38.495124, -85.771118),\n",
              " (39.73277, -84.20522),\n",
              " (41.458, -83.62243000000002),\n",
              " (39.045381, -84.462312),\n",
              " (41.526, -81.65974),\n",
              " (40.78725, -81.38592),\n",
              " (38.3657, -85.75495),\n",
              " (39.02575, -84.61272),\n",
              " (40.90923, -81.79765),\n",
              " (40.91649, -81.78869),\n",
              " (39.10051, -80.39199),\n",
              " (40.082643, -82.91367199999998),\n",
              " (41.47162, -81.90626),\n",
              " (40.08155, -82.91859000000002),\n",
              " (40.07976, -82.92689),\n",
              " (38.27511, -85.81238),\n",
              " (39.02908, -84.53565),\n",
              " (39.04455, -84.57798000000003),\n",
              " (39.83026, -81.45434),\n",
              " (39.81436, -81.46898),\n",
              " (38.41336, -82.3483),\n",
              " (38.20674, -85.74846),\n",
              " (38.10937, -85.70123000000002),\n",
              " (40.26758, -82.92745),\n",
              " (38.22285, -85.57436),\n",
              " (40.43827, -80.00527),\n",
              " (39.08272, -84.52264),\n",
              " (40.046599, -85.99359),\n",
              " (41.67904, -83.5732),\n",
              " (40.52225, -80.06666),\n",
              " (41.041763, -81.3932),\n",
              " (39.02541, -85.88784),\n",
              " (39.887572, -84.047499),\n",
              " (39.90803, -84.03969000000002),\n",
              " (39.8181, -81.45925),\n",
              " (39.8181, -81.45925),\n",
              " (39.81447, -81.46769),\n",
              " (41.47307, -80.36586),\n",
              " (41.460561, -80.366376),\n",
              " (39.75022, -84.19668),\n",
              " (39.16161, -84.51375),\n",
              " (39.82329, -84.166569),\n",
              " (39.818751, -84.167637),\n",
              " (39.15267, -84.5395),\n",
              " (40.480209, -85.719799),\n",
              " (39.02676, -84.61421),\n",
              " (40.480209, -85.719799),\n",
              " (40.48013, -85.72942900000002),\n",
              " (38.24863, -85.70467),\n",
              " (39.24907, -84.44561999999998),\n",
              " (39.18364, -84.48373000000002),\n",
              " (41.420898, -81.69322),\n",
              " (39.18976, -84.26285),\n",
              " (40.00921, -83.03149),\n",
              " (41.12369, -80.75595),\n",
              " (41.09705, -81.50012),\n",
              " (41.03011, -81.40292099999998),\n",
              " (39.9533, -83.0032),\n",
              " (39.91404, -83.01729),\n",
              " (39.11811, -84.49975),\n",
              " (39.73277, -84.20522),\n",
              " (41.47379, -81.69592),\n",
              " (41.47395, -81.69931),\n",
              " (39.62334, -81.83577),\n",
              " (39.98233, -82.98449000000002),\n",
              " (40.15106, -80.03243),\n",
              " (41.66332, -83.56385999999998),\n",
              " (39.35245, -84.37507),\n",
              " (41.67178, -83.6939),\n",
              " (38.38018, -82.60993),\n",
              " (39.03347, -84.603),\n",
              " (40.42116, -80.0438),\n",
              " (41.341147, -83.347543),\n",
              " (41.34131, -83.376561),\n",
              " (40.26758, -82.92745),\n",
              " (40.432459, -80.023538),\n",
              " (39.9912, -85.9188),\n",
              " (39.05654000000001, -84.54283000000002),\n",
              " (38.39328, -85.76223),\n",
              " (39.97165800000001, -80.017133),\n",
              " (39.98381, -80.01011),\n",
              " (39.84457, -85.51639399999998),\n",
              " (38.399528, -85.76430500000002),\n",
              " (38.38981, -81.76937),\n",
              " (41.47965, -81.66758),\n",
              " (39.97859, -82.9763),\n",
              " (40.68109000000001, -80.24616999999998),\n",
              " (41.47487, -81.72095),\n",
              " (40.68109000000001, -80.24616999999998),\n",
              " (40.1412, -82.97121),\n",
              " (39.85942, -84.27778),\n",
              " (39.10838, -84.50296999999998),\n",
              " (39.32662, -84.42002),\n",
              " (39.24907, -84.44561999999998),\n",
              " (41.11959, -81.64568),\n",
              " (39.04455, -84.57798000000003),\n",
              " (38.26109, -85.73695),\n",
              " (38.21911, -85.50582),\n",
              " (39.94976, -83.04032),\n",
              " (38.82584, -120.029214),\n",
              " (37.358209, -121.840017),\n",
              " (37.881943, -122.307987),\n",
              " (37.881038, -122.307788),\n",
              " (38.518811, -121.101664),\n",
              " (38.518811, -121.101664),\n",
              " (36.9903, -119.71146),\n",
              " (37.42592, -122.09879),\n",
              " (37.75745, -122.21131),\n",
              " (37.31648, -121.96746),\n",
              " (37.44415, -122.2688),\n",
              " (37.71981, -121.65943),\n",
              " ...]"
            ]
          },
          "metadata": {},
          "execution_count": 72
        }
      ]
    },
    {
      "cell_type": "code",
      "source": [
        "from folium import plugins\n",
        "from folium.plugins import HeatMap"
      ],
      "metadata": {
        "id": "TWGOB1GsgcZH"
      },
      "execution_count": 81,
      "outputs": []
    },
    {
      "cell_type": "code",
      "source": [
        "sample_df=df.sample(int(0.001*len(df)))\n",
        "lat_lng_pairs=list(zip(list(sample_df.Start_Lat),list(sample_df.Start_Lng)))"
      ],
      "metadata": {
        "id": "hZ8rvCMFhZV8"
      },
      "execution_count": 88,
      "outputs": []
    },
    {
      "cell_type": "code",
      "source": [
        "map=folium.Map()\n",
        "HeatMap(lat_lng_pairs).add_to(map)\n",
        "map"
      ],
      "metadata": {
        "colab": {
          "base_uri": "https://localhost:8080/",
          "height": 782
        },
        "id": "FQiaq7-ce0Ei",
        "outputId": "f08545cb-7e1a-4de1-c59b-c3c9e926337f"
      },
      "execution_count": 89,
      "outputs": [
        {
          "output_type": "execute_result",
          "data": {
            "text/plain": [
              "<folium.folium.Map at 0x7f21da64fd00>"
            ],
            "text/html": [
              "<div style=\"width:100%;\"><div style=\"position:relative;width:100%;height:0;padding-bottom:60%;\"><span style=\"color:#565656\">Make this Notebook Trusted to load map: File -> Trust Notebook</span><iframe srcdoc=\"&lt;!DOCTYPE html&gt;\n",
              "&lt;html&gt;\n",
              "&lt;head&gt;\n",
              "    \n",
              "    &lt;meta http-equiv=&quot;content-type&quot; content=&quot;text/html; charset=UTF-8&quot; /&gt;\n",
              "    \n",
              "        &lt;script&gt;\n",
              "            L_NO_TOUCH = false;\n",
              "            L_DISABLE_3D = false;\n",
              "        &lt;/script&gt;\n",
              "    \n",
              "    &lt;style&gt;html, body {width: 100%;height: 100%;margin: 0;padding: 0;}&lt;/style&gt;\n",
              "    &lt;style&gt;#map {position:absolute;top:0;bottom:0;right:0;left:0;}&lt;/style&gt;\n",
              "    &lt;script src=&quot;https://cdn.jsdelivr.net/npm/leaflet@1.6.0/dist/leaflet.js&quot;&gt;&lt;/script&gt;\n",
              "    &lt;script src=&quot;https://code.jquery.com/jquery-1.12.4.min.js&quot;&gt;&lt;/script&gt;\n",
              "    &lt;script src=&quot;https://maxcdn.bootstrapcdn.com/bootstrap/3.2.0/js/bootstrap.min.js&quot;&gt;&lt;/script&gt;\n",
              "    &lt;script src=&quot;https://cdnjs.cloudflare.com/ajax/libs/Leaflet.awesome-markers/2.0.2/leaflet.awesome-markers.js&quot;&gt;&lt;/script&gt;\n",
              "    &lt;link rel=&quot;stylesheet&quot; href=&quot;https://cdn.jsdelivr.net/npm/leaflet@1.6.0/dist/leaflet.css&quot;/&gt;\n",
              "    &lt;link rel=&quot;stylesheet&quot; href=&quot;https://maxcdn.bootstrapcdn.com/bootstrap/3.2.0/css/bootstrap.min.css&quot;/&gt;\n",
              "    &lt;link rel=&quot;stylesheet&quot; href=&quot;https://maxcdn.bootstrapcdn.com/bootstrap/3.2.0/css/bootstrap-theme.min.css&quot;/&gt;\n",
              "    &lt;link rel=&quot;stylesheet&quot; href=&quot;https://maxcdn.bootstrapcdn.com/font-awesome/4.6.3/css/font-awesome.min.css&quot;/&gt;\n",
              "    &lt;link rel=&quot;stylesheet&quot; href=&quot;https://cdnjs.cloudflare.com/ajax/libs/Leaflet.awesome-markers/2.0.2/leaflet.awesome-markers.css&quot;/&gt;\n",
              "    &lt;link rel=&quot;stylesheet&quot; href=&quot;https://cdn.jsdelivr.net/gh/python-visualization/folium/folium/templates/leaflet.awesome.rotate.min.css&quot;/&gt;\n",
              "    \n",
              "            &lt;meta name=&quot;viewport&quot; content=&quot;width=device-width,\n",
              "                initial-scale=1.0, maximum-scale=1.0, user-scalable=no&quot; /&gt;\n",
              "            &lt;style&gt;\n",
              "                #map_4152eb4065f2972e9c99aab100bafe55 {\n",
              "                    position: relative;\n",
              "                    width: 100.0%;\n",
              "                    height: 100.0%;\n",
              "                    left: 0.0%;\n",
              "                    top: 0.0%;\n",
              "                }\n",
              "            &lt;/style&gt;\n",
              "        \n",
              "    &lt;script src=&quot;https://cdn.jsdelivr.net/gh/python-visualization/folium@master/folium/templates/leaflet_heat.min.js&quot;&gt;&lt;/script&gt;\n",
              "&lt;/head&gt;\n",
              "&lt;body&gt;\n",
              "    \n",
              "    \n",
              "            &lt;div class=&quot;folium-map&quot; id=&quot;map_4152eb4065f2972e9c99aab100bafe55&quot; &gt;&lt;/div&gt;\n",
              "        \n",
              "&lt;/body&gt;\n",
              "&lt;script&gt;\n",
              "    \n",
              "    \n",
              "            var map_4152eb4065f2972e9c99aab100bafe55 = L.map(\n",
              "                &quot;map_4152eb4065f2972e9c99aab100bafe55&quot;,\n",
              "                {\n",
              "                    center: [0, 0],\n",
              "                    crs: L.CRS.EPSG3857,\n",
              "                    zoom: 1,\n",
              "                    zoomControl: true,\n",
              "                    preferCanvas: false,\n",
              "                }\n",
              "            );\n",
              "\n",
              "            \n",
              "\n",
              "        \n",
              "    \n",
              "            var tile_layer_78738e79130d21d76021ec45cdf680ad = L.tileLayer(\n",
              "                &quot;https://{s}.tile.openstreetmap.org/{z}/{x}/{y}.png&quot;,\n",
              "                {&quot;attribution&quot;: &quot;Data by \\u0026copy; \\u003ca href=\\&quot;http://openstreetmap.org\\&quot;\\u003eOpenStreetMap\\u003c/a\\u003e, under \\u003ca href=\\&quot;http://www.openstreetmap.org/copyright\\&quot;\\u003eODbL\\u003c/a\\u003e.&quot;, &quot;detectRetina&quot;: false, &quot;maxNativeZoom&quot;: 18, &quot;maxZoom&quot;: 18, &quot;minZoom&quot;: 0, &quot;noWrap&quot;: false, &quot;opacity&quot;: 1, &quot;subdomains&quot;: &quot;abc&quot;, &quot;tms&quot;: false}\n",
              "            ).addTo(map_4152eb4065f2972e9c99aab100bafe55);\n",
              "        \n",
              "    \n",
              "            var heat_map_c0c79032f0f96c6e0ebe723f833a1a10 = L.heatLayer(\n",
              "                [[36.220031, -86.774774], [29.64401, -95.57599], [32.922238, -117.115255], [32.312604, -80.975778], [25.946648, -80.147074], [28.449055, -81.470923], [48.092935, -122.184994], [33.888492, -118.203086], [32.92459, -96.78684], [30.340945, -97.702636], [30.404543, -97.640566], [34.036024, -118.37268], [40.960088, -111.428951], [32.68805, -114.57528], [45.651851, -120.954505], [33.810911, -118.290395], [39.169095, -121.438993], [44.06858, -92.50188], [44.40795, -71.087948], [40.555975, -80.116218], [41.425003, -76.494157], [40.64457, -111.94071], [32.91441, -96.89786], [33.731511, -117.812201], [29.80442, -95.29], [40.59056500000001, -123.011641], [37.002783, -76.319113], [33.14793, -117.19556], [32.800255, -86.57471], [35.921029, -78.777291], [30.434375, -84.309942], [32.9298, -83.73437], [32.833102000000004, -117.233079], [35.76201, -119.053226], [26.164843, -80.227007], [41.45126, -96.38658], [39.149285, -121.713237], [33.423171999999994, -80.88375], [39.025636, -94.690893], [30.406722, -91.100259], [28.233109, -82.737501], [40.73525, -73.91933], [40.554113, -123.181983], [40.919646, -74.067436], [44.70244, -95.543132], [33.989129, -118.238984], [38.025206, -121.095775], [38.66382700000001, -121.27318], [31.136640000000003, -83.39364], [38.417094, -76.692422], [37.188323, -120.333112], [40.0917, -75.37198599999998], [40.757395, -74.203728], [44.97346, -93.29317], [33.997066, -117.93118], [33.654268, -78.978284], [34.034718, -118.338308], [38.621336, -77.296739], [32.850011, -79.987431], [28.491466, -81.396739], [43.08769, -77.61701500000002], [40.389121, -122.331418], [40.272978, -76.816425], [34.04262, -84.03195], [37.552525, -77.47882800000002], [45.506529, -122.715388], [25.729909, -80.317988], [25.935124, -80.12176099999998], [37.258582, -122.121404], [40.46499, -74.2891], [33.679970000000004, -117.879147], [37.933183, -121.296647], [34.03029, -117.655388], [38.98237, -77.429204], [40.095029, -75.291764], [45.03231, -92.9674], [33.99429, -117.88468], [34.020934999999994, -117.814174], [33.476209999999995, -117.138923], [34.136549, -117.420855], [33.69206, -84.40299], [29.689124, -95.315353], [34.185561, -118.317558], [43.220165, -71.521213], [36.069177, -120.987721], [39.57008, -76.06949], [35.052555, -89.813436], [34.107331, -118.329593], [34.065282, -117.317173], [43.03370200000001, -83.655372], [40.75997, -73.83859], [34.15439, -118.38286], [33.884251, -118.029049], [28.077263, -82.70591800000003], [40.708869, -74.150063], [39.77919, -104.97909], [41.120429, -73.323317], [33.024349, -80.115675], [41.39167, -88.41722], [34.019011, -117.740072], [40.68274, -73.87535], [31.8702, -106.40711], [32.420356, -93.758046], [33.659253, -117.901627], [42.46269, -123.31834], [37.902379, -121.873881], [38.455656, -121.405335], [30.44261, -91.138447], [41.493311, -72.114861], [36.114126, -80.154849], [25.896783, -80.256345], [34.081485, -117.728209], [27.40495, -80.39881], [33.96001, -118.28053], [34.803689, -91.910159], [45.674941, -111.010514], [38.995664, -77.282909], [45.50479, -122.42106], [39.099399, -77.53543499999998], [38.508115, -121.45867], [40.429068, -79.99905600000002], [33.941309999999994, -117.87493899999998], [32.774809999999995, -96.77853], [45.00732, -123.3807], [45.068829, -93.263231], [43.286848, -77.714586], [37.826871, -122.286515], [32.792393, -96.686105], [28.196197, -82.464894], [38.061222, -122.225072], [33.982977000000005, -117.341791], [34.23085, -118.39868], [25.924908, -80.186082], [26.16483, -80.23935999999998], [39.884272, -74.833558], [45.486005, -117.42785], [38.885861, -77.024019], [41.535946, -75.738061], [39.76135900000001, -76.12875799999998], [38.664375, -120.974804], [33.890229999999995, -79.75568], [39.17777, -84.48708], [33.172509000000005, -84.554777], [39.291561, -76.53220999999998], [39.828564, -77.23329], [29.94496, -90.08995], [37.079882, -80.68269699999998], [36.660563, -121.622883], [29.704297, -95.513226], [28.662402, -81.3885], [45.456994, -93.367427], [46.431769, -95.107322], [28.562841, -81.207101], [29.965542, -90.110067], [28.554917, -81.285956], [25.700901, -80.293925], [29.99152, -90.05405], [46.14302, -123.92096], [33.908011, -84.23164799999998], [39.017558, -94.692803], [37.895418, -122.308123], [33.855882, -118.025168], [40.526129, -74.32591], [25.76088, -80.418865], [35.770093, -78.613683], [28.775993, -81.355873], [36.13381, -86.89585], [37.819035, -122.204975], [26.543492, -81.915071], [34.040439, -118.173594], [33.109611, -97.027897], [45.42539, -122.56823], [28.566762, -81.286012], [26.790043, -80.13197], [39.94908, -82.99812], [35.779461, -78.704938], [30.251058, -81.490627], [30.461422, -91.04332], [37.552988, -77.48010699999998], [28.043011, -82.67788399999998], [43.204821, -77.63867900000002], [38.140899, -121.259212], [42.880443, -78.771103], [43.343941, -124.197917], [42.984377, -73.746814], [39.024604, -121.782283], [34.201713, -118.473516], [41.107667, -76.898573], [29.72707, -82.253791], [33.617659, -85.726393], [47.593498, -122.312739], [36.83322, -77.4471], [38.411281, -121.239566], [34.615055, -81.020232], [43.66293, -123.31866], [34.03061, -117.62433], [40.501612, -80.023551], [40.193342, -74.864928], [32.9763, -117.25161], [35.859321, -86.573971], [38.411831, -122.716146], [25.713329, -80.414948], [34.37485, -118.49663], [37.040008, -120.11066], [34.109319, -117.528294], [42.26894, -84.45681], [32.80592, -117.15123], [28.451129, -81.353374], [41.755519, -72.700561], [25.73299500000001, -80.337037], [44.907479, -122.98631], [38.984155, -76.878679], [38.311075, -121.321283], [27.746893, -82.679234], [27.71216, -82.645473], [34.121559000000005, -117.696732], [42.915216, -85.678344], [33.797303, -117.877689], [34.042975, -118.217073], [33.665789000000004, -84.417797], [25.985467, -80.153459], [25.869187, -80.208939], [33.746383, -117.447763], [25.482534, -80.49332], [34.331377, -116.830175], [30.477371999999995, -81.644715], [32.271964000000004, -110.979525], [32.81839, -96.86989], [37.15944, -119.745762], [39.71121, -104.99918999999998], [30.391340000000003, -97.778411], [40.879687, -74.065414], [30.612984, -90.993822], [44.07926, -121.30476000000002], [35.588475, -82.996717], [41.41367, -81.64373], [38.508115, -121.45867], [34.924988, -82.194447], [25.972759, -80.24695200000002], [41.371501, -73.801019], [33.914019, -118.104678], [34.276843, -118.496203], [40.810781, -74.09174399999998], [47.710147, -122.182325], [36.229077, -94.177424], [35.16686, -111.319195], [29.785723, -81.317758], [32.601089, -81.157477], [38.026855, -122.538012], [47.016667, -114.230507], [38.67426, -121.349463], [35.171581, -89.904137], [46.126365, -122.89541], [34.034202, -117.324648], [39.020894, -94.501122], [35.06685, -85.368222], [38.287283, -90.402876], [27.755505, -82.676773], [39.021302, -76.945077], [35.030132, -81.159836], [25.843462, -80.24982], [30.10545, -95.43545], [32.757508, -97.318918], [37.85822, -121.21875], [37.808321, -122.36702], [37.609428, -120.993582], [34.053044, -118.228279], [44.19287, -69.84751], [29.45677, -98.4993], [28.27086, -82.674515], [37.698081, -122.078419], [29.71087, -95.21496], [25.580557, -80.429524], [34.040282, -118.440819], [39.375911, -76.452924], [36.805497, -119.74082], [38.35449000000001, -122.204322], [36.098424, -86.76350699999998], [33.797511, -118.085924], [43.245558, -78.51431], [38.90311, -94.37354], [35.79485, -121.344559], [38.93865, -94.60309], [40.79934, -74.07659], [37.000511, -76.31837], [26.547082, -81.809337], [37.458482, -121.118803], [32.744761, -96.918801], [33.79535, -117.893525], [26.234294, -80.13660300000002], [47.930962, -114.029014], [33.722522999999995, -84.932287], [47.46321500000001, -122.259769], [42.38525, -83.15781], [39.01855, -76.97125], [34.426305, -117.572553], [32.951147, -117.103732], [44.02241, -123.02733], [44.43106, -121.97427], [28.600523, -81.47624499999998], [35.441457, -119.198896], [43.472461, -124.22396], [33.596340000000005, -112.15136], [25.92958, -80.188317], [32.81759, -96.86857], [45.15939, -93.16343], [37.69703, -122.1051], [45.38605, -122.45556100000002], [34.05968, -118.0013], [34.073697, -117.544686], [38.615843, -76.87869], [35.26364500000001, -118.645801], [43.53763, -119.40226], [38.474307, -121.427099], [38.597076, -120.960178], [33.781011, -117.83083899999998], [35.148053000000004, -80.829296], [34.802941, -82.817803], [37.71463, -122.39759], [38.954836, -76.080801], [34.140051, -118.760937], [45.711727, -121.501571], [37.797163, -122.268251], [42.360845, -83.216511], [35.31525, -81.84538], [34.06871, -80.91776], [32.84129, -83.57476], [30.748597, -88.188725], [41.386259, -73.60001899999997], [44.985412, -93.241145], [38.544791, -81.309503], [34.773185, -82.465311], [40.144566, -75.11604399999997], [41.86851, -71.42520999999998], [39.28655, -76.765112], [41.65433400000001, -111.904426], [40.651448, -74.196946], [39.032172, -94.500287], [45.48633, -122.74815], [33.648268, -117.747249], [40.416883, -111.924192], [39.162239, -122.911462], [25.671111, -80.409187], [38.477007, -90.438777], [34.234565, -118.296206], [41.093208, -101.829351], [33.63943, -84.49426], [40.906444, -74.603894], [45.00528900000001, -122.996824], [25.831345, -80.237523], [30.421284000000004, -91.12477], [42.959209, -88.04784000000002], [37.148092, -93.429372], [35.17122, -80.80829], [34.426992, -117.620718], [25.901548, -80.210095], [33.942281, -118.171211], [37.265625, -93.322189], [25.782402, -80.30718399999998], [42.972622, -85.686992], [29.588831, -98.298679], [33.773671, -84.39004], [40.886725, -74.068182], [27.47157, -82.550164], [34.994539, -82.043373], [39.162021, -121.694365], [32.367793, -86.31169399999996], [39.575206, -76.132063], [38.555118, -121.403675], [33.49496, -112.16891], [33.509946, -80.446744], [37.81269, -122.2507], [39.386055, -123.267478], [40.036501, -120.991423], [35.444588, -119.090764], [24.661749, -81.45109599999998], [38.839572, -121.015312], [34.984541, -81.972998], [40.73208, -73.87064000000002], [32.828682, -96.827668], [38.784288, -77.606541], [32.715204, -117.124173], [33.917151000000004, -81.31636800000003], [41.972001, -78.598102], [39.307121, -76.788562], [34.433001000000004, -80.304309], [30.348092, -87.153463], [27.075286, -82.245964], [28.305658, -82.158863], [39.76413400000001, -75.780378], [34.803865, -120.444497], [34.134506, -117.660959], [25.945115, -80.205365], [44.77607, -93.22158], [34.087466, -117.647164], [46.757436, -92.131015], [33.690182, -81.615514], [25.811367, -80.192184], [33.8508, -117.84365], [32.865464, -96.786671], [34.073739, -81.003566], [40.662771, -112.32766200000002], [25.758601, -80.336003], [37.407798, -122.067561], [40.096138, -74.088717], [32.456482, -93.776604], [35.231019, -80.837627], [39.05167, -84.55689], [40.704786, -77.073672], [45.637535, -120.77932], [35.039124, -85.185038], [43.889039, -92.475324], [40.03518, -83.02844], [37.5872, -122.348374], [25.749454, -80.335813], [37.578381, -77.466713], [43.021998, -123.299722], [25.928112, -80.201385], [32.772806, -117.128924], [33.835201, -118.287253], [34.15955, -118.46169], [32.63336, -117.04626], [35.3652, -80.742143], [37.808042, -85.744374], [45.056787, -120.683494], [25.778011, -80.16484200000002], [41.567016, -78.690462], [41.14495, -96.13885], [48.119368, -123.672484], [37.256844, -121.956957], [39.346862, -75.598694], [42.548898, -73.671532], [29.361055, -98.632806], [38.666663, -90.208599], [36.88645, -113.93716], [26.703831, -81.844689], [36.807736, -119.979374], [39.994439, -74.20798], [40.798115, -74.077848], [37.36113, -79.164887], [27.394698, -82.450257], [34.035821, -118.797317], [29.725129, -95.350443], [37.89742, -122.08187], [30.403015000000003, -97.717235], [39.038323, -77.14588], [35.194448, -80.765945], [34.065913, -117.49218], [33.46041, -117.65957], [33.853704, -117.963773], [43.20061, -71.52944000000002], [38.452648, -121.371612], [41.726825, -72.76133399999998], [40.748697, -74.16871400000002], [34.353014, -119.306219], [32.624724, -83.709038], [46.167522, -123.59193], [33.580206, -79.003915], [38.482972, -78.809942], [32.230393, -111.071265], [34.3457, -117.46562], [43.805367, -121.436498], [34.756845, -86.721847], [34.34727, -80.596633], [33.75835, -84.49387], [37.509952, -122.333332], [36.086643, -80.058242], [42.228794, -121.766493], [28.577874, -81.452623], [38.010316, -78.3738], [43.24433300000001, -77.7515], [32.480835, -93.868919], [34.933779, -89.994339], [44.006992, -123.731621], [30.337964000000003, -81.66832], [34.137107, -80.923393], [32.83718, -97.1349], [30.428182, -91.078291], [39.99182, -74.87747], [48.04041, -122.17907], [25.92478, -80.154122], [34.058827, -117.396361], [37.966014, -121.73919], [39.957014, -75.15545], [38.744062, -121.266257], [34.000822, -117.724399], [38.82214000000001, -76.88781], [25.769715, -80.33499599999998], [30.01526, -95.42808], [38.747824, -121.268366], [37.65629000000001, -122.092582], [33.868352, -117.741848], [27.956125, -82.465014], [40.427436, -79.921752], [45.81649, -94.556044], [35.949188, -78.548353], [30.448338, -81.61314899999998], [25.94236, -80.207619], [40.52821, -74.354363], [41.311642, -76.173875], [36.934756, -76.297993], [25.963073, -80.159676], [36.481504, -82.544489], [32.91648, -96.74275], [34.20019, -82.159334], [41.87448, -87.64504000000002], [32.44342, -93.731956], [34.194796000000004, -82.18496400000002], [41.267384, -95.908402], [40.70351, -73.96003], [33.976174, -118.386601], [32.66339, -97.19981], [42.348705, -121.827651], [36.590577, -119.638432], [36.072554, -86.691873], [29.694782, -82.452003], [34.005035, -81.255689], [40.469644, -74.408548], [34.749873, -117.29556399999998], [45.61456, -95.547], [35.312287, -80.809657], [33.98468, -118.2807], [36.192254, -86.619958], [44.966336, -93.27029], [25.62699, -80.38799200000003], [33.87203, -117.66522], [38.640089, -121.429092], [33.51457, -112.26927], [28.547319, -81.258219], [44.247695, -121.038103], [47.19728, -93.53349], [38.154706, -121.675469], [39.882317, -75.056086], [26.06488, -80.236051], [41.12735900000001, -73.704148], [46.606718, -88.474305], [39.910899, -75.39583499999998], [41.73853, -74.605525], [33.928813, -81.238579], [33.845602, -117.296349], [32.99345, -96.94808], [28.551912, -81.491336], [28.02722, -82.18061], [41.73631, -87.62539], [41.60260200000001, -85.832215], [35.252384, -118.923253], [40.663625, -122.797157], [28.553617, -81.379198], [39.1085, -77.18513], [38.681109, -121.333243], [38.641133, -77.287727], [29.201819, -81.46409799999998], [27.99919, -82.45384], [25.898671, -80.21934499999998], [37.80714, -92.21784], [38.214497, -122.137949], [33.111381, -117.102917], [42.36377, -87.835658], [33.846528, -118.270567], [40.895004, -76.81073], [25.89991400000001, -80.16134100000002], [42.383067, -83.43675999999998], [44.062351, -123.049359], [33.745676, -117.842167], [43.13075, -77.4413], [36.80808, -119.672994], [36.158991, -95.925571], [41.214785, -111.970597], [34.971767, -81.924013], [34.89453, -85.07887], [42.571581, -123.372441], [34.054506, -118.202994], [25.810711, -80.337487], [37.334491, -122.02793], [37.799159, -122.277241], [33.903675, -118.185292], [33.85608, -118.02469], [33.504213, -117.152763], [39.91975, -75.57691], [45.66556, -121.544642], [34.188519, -114.574238], [34.331087, -118.506347], [38.28856500000001, -77.507826], [47.305402, -122.576398], [30.394072, -97.745659], [40.02982, -83.1228], [38.641618, -121.272364], [38.88366, -77.22654], [40.843394, -73.927763], [32.776833, -117.16245], [32.84365, -96.77463], [40.27406, -74.21976], [40.847765, -73.936154], [33.737672, -80.213123], [29.410840000000004, -98.64972], [44.339712, -93.948205], [37.776115, -120.817058], [25.961453, -80.229457], [42.988249, -85.665002], [30.06568, -95.43414], [33.673301, -81.67195699999998], [40.279586, -111.722757], [37.527758, -79.87340999999998], [43.85527, -117.60573], [37.922044, -122.061426], [43.230151, -77.50909300000002], [41.098748, -74.03745500000002], [32.992655, -117.083881], [37.534199, -122.365325], [38.59351, -121.50411], [47.55006, -122.665591], [28.021477, -82.334815], [40.041622, -76.36381899999998], [42.47483, -83.17324], [32.826471999999995, -96.783714], [29.77193, -95.264169], [39.874301, -75.058688], [28.548434000000004, -81.434327], [28.488157, -81.40515400000002], [33.98669, -117.869901], [37.932368, -122.394467], [43.19384, -77.63889], [42.362346, -73.431188], [28.452287, -81.47081800000002], [39.929745, -77.63834], [34.203819, -80.655344], [26.299842, -80.197266], [38.64356, -121.39427], [38.596377, -121.443656], [36.540985, -86.673802], [29.635826, -95.410748], [30.035268, -89.980259], [39.660175, -77.374672], [30.232071, -97.742062], [28.35741, -81.49181], [25.751, -80.319813], [43.26917, -73.674648], [32.801837, -96.744982], [45.722855, -92.992218], [44.951838, -93.142122], [39.404407, -76.572057], [39.15380800000001, -78.16529200000002], [41.87652, -87.65704000000002], [44.890211, -93.399485], [36.984269, -121.713682], [38.160133, -121.686401], [40.593709, -80.271778], [29.81785, -95.37722], [26.681972, -81.884316], [40.994324, -73.659726], [37.54457, -121.92066], [35.852952, -78.580972], [38.85835, -77.30744], [34.07574, -118.46878999999998], [33.864187, -118.284827], [41.84537, -87.63495], [31.719221, -106.269056], [34.03393, -117.324976], [41.785345, -77.31020600000002], [35.64008300000001, -78.835219], [32.924294, -96.782491], [35.990453, -78.530429], [41.6504, -93.58908], [38.531701, -77.358337], [37.630176, -122.434834], [44.933075, -123.029098], [25.574254, -80.379251], [41.79733, -71.40356], [40.828041, -73.934834], [43.18818, -89.54557], [25.885305, -80.164902], [35.718001, -81.355787], [42.362854, -83.070588], [33.87654000000001, -118.10733], [26.07641, -80.16853], [34.19924, -118.33798], [44.888532, -93.442775], [44.95203400000001, -93.065946], [44.966127, -93.25785], [34.128614, -117.250201], [25.921473, -80.38955], [34.00223, -79.20832], [45.120799, -93.188382], [37.60636, -122.06628], [34.07248, -117.93213], [45.893826, -122.81211299999998], [30.07766, -95.54489], [35.396389, -118.929722], [38.558462, -120.983157], [28.578139, -81.415311], [34.272232, -118.589428], [34.225581, -118.252985], [45.477463, -94.03379], [43.095669, -75.242999], [41.72135, -87.80804], [37.81503, -119.875079], [25.956149, -80.228729], [33.854085, -117.889319], [34.13922, -118.01543], [37.804126, -121.897579], [26.574746, -81.878067], [40.91761, -73.78072], [34.060588, -79.25666], [46.287549, -113.3228], [43.759468, -94.165736], [45.547167, -122.678578], [40.23467700000001, -75.539273], [32.286453, -90.217575], [34.09723, -118.3136], [37.844885, -122.227202], [37.77534, -122.40601], [42.893422, -78.893111], [48.037768, -122.178408], [30.35426, -97.96142], [34.860147999999995, -82.335137], [39.096275, -94.574807], [31.685274, -106.317147], [41.032359, -73.752305], [39.26217000000001, -76.70676999999998], [39.920695, -75.323477], [34.016292, -80.428952], [33.875545, -118.082377], [32.815984, -117.159243], [42.42847, -83.0942], [28.55191, -81.4916], [28.18502, -82.503479], [40.73842, -114.05229], [37.200254, -120.488122], [42.24019000000001, -87.89611], [40.476249, -104.99205], [36.01923, -78.90103], [34.071940000000005, -117.87694], [38.418101, -82.342526], [35.73589600000001, -118.719924], [45.407454, -122.56887], [34.087856, -117.301948], [25.9291, -80.21216], [35.353921, -119.00314], [39.2997, -75.630045], [41.94962, -71.34153], [30.046224, -89.961299], [43.928104, -90.281327], [30.424603, -91.150836], [37.754036, -121.48511], [27.961698, -82.746137], [42.820429, -75.016914], [27.52168, -82.52828000000002], [34.041089, -117.80188400000002], [43.92852, -91.43564], [42.858418, -73.774486], [36.841548, -121.687692], [39.81685, -84.18902], [37.667947, -121.035442], [38.01936, -121.93743], [38.701515, -121.375222], [40.749858, -73.834819], [41.496574, -94.539771], [33.851923, -118.205069], [39.429601, -77.998103], [43.012252, -83.534541], [34.825415, -82.30930500000002], [30.396432, -91.163074], [33.977353, -118.278878], [32.76167, -117.230676], [35.355701, -118.914117], [35.346681, -119.027887], [33.918719, -118.046748], [40.116877, -122.195054], [34.739946, -92.258314], [45.689338, -120.49576100000002], [41.49767, -81.60499], [40.457013, -122.246343], [37.500931, -122.324002], [34.2313, -118.26617], [42.323568, -88.156942], [37.146335, -121.986507], [29.429047, -98.500637], [34.154764, -118.271827], [29.120904, -82.159677], [35.081161, -89.87575600000002], [34.039734, -118.58112], [36.23296, -86.81456], [28.57905, -81.476118], [39.77969, -104.971915], [39.266456, -76.56167099999998], [33.017302, -80.193826], [25.703697, -80.290273], [33.46213, -112.05922], [44.628729, -123.06226], [39.80314, -86.03228], [44.566169, -124.068888], [35.136636, -80.909088], [34.0958, -117.30201], [45.50442, -122.95535], [34.03061, -117.62383], [35.22985300000001, -80.74261800000002], [30.52527000000001, -95.32929], [40.653762, -74.212425], [33.912093, -80.86694200000002], [35.19587999999999, -80.789909], [29.78441, -95.5777], [43.787975, -95.333713], [32.456477, -93.777092], [33.879873, -117.607222], [33.949020000000004, -84.09109000000002], [26.09247, -80.22149], [39.063044, -77.049737], [40.408808, -111.921844], [33.912888, -118.104771], [40.71424, -112.09181], [33.436836, -112.018994], [47.232995, -122.436093], [32.6716, -96.9535], [40.808888, -73.184901], [45.271295, -118.028115], [25.900188, -80.168648], [29.426826, -98.649576], [44.6243, -122.94519], [27.298721, -82.464578], [40.037797, -78.780326], [25.513922, -80.453384], [34.148399, -118.372293], [32.812773, -96.806749], [38.094443, -122.229997], [43.060602, -83.76621800000002], [37.781658, -121.977595], [42.73014000000001, -89.05663100000002], [42.28162, -83.19888], [43.308631, -75.667959], [34.38344, -119.48529], [28.832642, -81.322562], [25.751003, -80.20800899999998], [28.03666, -82.116187], [28.409087, -81.404754], [35.041385, -85.129972], [42.381475, -85.65719399999998], [30.137817, -85.523114], [34.15503, -118.31088], [39.33612700000001, -120.178085], [45.24844, -122.72446], [34.032007, -117.327128], [42.860186, -71.331026], [30.25307, -97.67894], [36.755636, -119.828595], [39.90634, -83.02455], [32.668537, -97.219171], [35.781437, -78.70295], [46.168482, -123.668597], [43.087005, -124.142398], [33.53905, -117.674197], [32.6936, -96.823283], [41.698489, -87.654972], [28.069249, -82.45250899999998], [37.80799, -121.2971], [34.039732, -118.050981], [28.388690000000004, -81.39818000000002], [42.37928400000001, -83.033888], [34.045445, -118.270369], [47.86548, -122.27523], [33.99617, -117.3642], [39.43076, -123.266402], [39.46775, -76.83766], [45.21459, -93.03432], [34.06155, -118.250069], [42.95156, -78.7593], [42.44705, -94.139234], [27.048771, -82.397483], [37.38985, -122.05383], [34.145596999999995, -117.305702], [34.409162, -119.85398], [39.014816, -77.03264300000002], [27.806473, -82.700142], [39.017011, -77.025801], [37.663917, -121.006929], [32.94232, -96.90357], [41.56798, -87.30634], [42.27175, -85.290824], [35.760151, -78.662329], [26.232256, -80.177091], [40.0728, -76.240042], [44.844014, -93.298141], [33.890607, -118.206956], [45.250475, -93.517609], [38.064182, -112.692915], [37.36401, -121.84348], [47.730475, -122.345047], [33.987375, -118.392544], [33.410829, -111.98449], [37.251916, -121.93743899999998], [30.470866, -91.067522], [26.154787, -81.35194200000002], [45.02289, -93.08985], [35.864875, -78.63752], [40.927384, -73.769899], [38.544779, -121.47398], [38.222139, -85.658849], [43.135886, -82.501933], [38.964079, -94.358737], [29.942561, -90.073782], [33.697203, -84.406961], [33.653793, -111.903652], [40.72558, -112.204935], [44.827755, -93.112249], [38.95911, -94.73045], [42.91252100000001, -85.582164], [36.820576, -80.851326], [37.674668, -122.107795], [34.03171, -118.417106], [34.259491, -118.437836], [34.420599, -82.58193399999998], [34.739574, -114.244304], [41.05998, -81.56133], [34.06723, -117.53025], [26.082074, -80.16734100000002], [42.976973, -85.657083], [34.16534, -118.46973], [28.343906, -81.362698], [36.921466, -76.27029499999998], [34.77643, -118.29022], [36.533888, -121.750105], [25.815241, -80.322384], [35.130044, -120.606714], [36.36942, -119.726891], [33.48004, -111.96091], [45.069255, -93.276881], [42.438372, -73.55485], [34.028975, -118.446234], [40.990065, -111.907135], [38.818742, -77.222288], [40.689121, -73.628987], [42.90121, -85.6777], [28.229333, -82.72331899999998], [40.47915, -85.82506], [41.001609, -96.326848], [25.963482, -80.14865400000002], [35.19521, -84.88403000000002], [45.540744, -117.490206], [34.908257, -118.152926], [35.239199, -80.885041], [39.646337, -75.844326], [33.74303, -117.840301], [37.96469, -122.324915], [40.74667, -111.94904], [38.864815, -77.067892], [48.102081, -114.578117], [26.572919, -81.72450500000002], [37.847718, -122.027775], [27.388806, -82.44853499999998], [25.673475, -80.334696], [33.917103000000004, -118.104564], [33.896214, -118.187654], [41.209191, -77.109507], [32.712795, -96.663711], [43.172079, -77.762335], [45.070127, -93.293705], [47.10397, -119.44949], [33.791270000000004, -117.49714099999998], [37.70198, -121.91352], [40.794757, -74.19182099999998], [37.790996, -121.189757], [27.322232, -82.51400500000003], [38.67565, -104.71125], [41.91582, -87.66803], [25.96702, -80.165701], [34.120090999999995, -117.70002], [40.75776, -73.79302], [30.245136, -82.678717], [44.76418, -123.04676], [41.139866, -112.065836], [45.141373, -93.391953], [38.29982, -122.03379], [37.466498, -122.156511], [40.954115, -106.223399], [37.403043, -77.41640799999998], [30.286608, -82.129735], [26.230729, -81.534133], [25.69143900000001, -80.36596], [28.829869, -82.521519], [41.04749, -96.29513], [32.742740999999995, -96.767578], [32.77211, -97.21284], [37.201165, -80.267042], [36.76134, -78.83370699999998], [38.84632, -94.52935], [35.39027100000001, -118.954225], [25.686817, -80.367808], [38.011386, -121.864627], [38.48236, -105.41497], [37.659931, -77.470922], [32.7402, -97.34679], [42.983905, -83.75151899999999], [39.533912, -119.771875], [35.76201, -119.053226], [36.52849000000001, -120.48466], [25.69759, -80.333985], [44.922785, -93.467867], [33.364188, -111.902593], [33.57798, -84.34121999999998], [42.951266, -87.93476], [40.814103, -73.933861], [36.74431, -119.819994], [25.869362, -80.20448499999998], [38.506371, -121.460498], [40.55501, -75.43476], [30.264355, -97.747961], [30.412628, -98.113914], [33.745059999999995, -84.42693], [38.942638, -94.762004], [42.238107, -120.296826], [42.28387, -83.78609], [39.07585, -77.16719], [25.598639, -80.35282], [29.64842800000001, -95.571207], [42.494614, -82.922167], [41.19538, -76.91711600000002], [37.149102, -119.731903], [32.732890000000005, -97.37135], [44.69979, -93.597209], [33.356012, -80.959875], [34.791609, -92.056385], [33.89048, -118.104439], [37.86644, -122.03878], [33.644195, -117.915929], [34.201947, -119.14232], [39.134835, -112.24133799999998], [34.84318, -81.87745], [34.44178400000001, -119.805532], [44.984432, -93.360303], [40.650287, -73.868287], [34.136186, -117.488414], [28.528844, -81.565021], [32.733453000000004, -97.361987], [28.526258, -81.38636], [29.73033, -95.539333], [37.67115, -121.45514], [41.86054, -87.97301], [34.070427, -117.397798], [34.250406, -79.817337], [32.54793, -81.164106], [33.617935, -112.32379], [32.811884, -96.701221], [40.017419, -76.167415], [25.739356, -80.31974], [34.098242, -118.599527], [34.034032, -118.027001], [42.996049, -89.150316], [44.62813, -117.516211], [34.834524, -82.302414], [38.614127, -78.70685], [38.812068, -77.14789499999998], [41.301964, -72.910829], [28.493792, -81.459929], [36.744021, -121.65984], [35.77105, -78.58325], [33.682483000000005, -112.289801], [35.80434, -78.71276999999998], [25.844764, -80.241621], [36.84369, -76.04175], [33.963463, -84.08880400000002], [35.62336, -82.19896], [31.797647, -85.982478], [33.80523, -118.28834], [42.31758, -87.9059], [38.51173, -90.36664], [38.536349, -121.515195], [38.5118, -122.45581], [30.435476, -97.733178], [28.872016, -81.284376], [44.13216, -123.05044], [37.635261, -77.451633], [34.240647, -119.185073], [47.66952, -122.18687], [25.831073, -80.242384], [40.44704, -74.39608], [45.229933, -122.327206], [40.11775, -75.357555], [28.223801, -80.716713], [33.852843, -118.279659], [32.987812, -87.78632900000002], [34.145497, -118.756188], [25.702858, -80.414741], [38.545823, -77.72456899999997], [32.828891, -96.630842], [33.248336, -111.755081], [33.502321, -112.142935], [35.311176, -80.711835], [36.349615, -79.979502], [36.86135, -121.583529], [28.53656, -81.01779], [37.779573, -122.204475], [41.90906, -87.92896], [33.385670000000005, -111.93106], [34.138090000000005, -118.22893], [33.609790000000004, -84.39609], [27.446277, -82.50086], [34.206414, -118.228], [42.35633, -83.05122], [33.69897, -84.26148], [25.802051, -80.36931], [41.316047, -77.44710699999997], [30.145593, -97.699731], [36.051604, -119.232244], [32.933494, -79.825001], [33.733073, -117.81446499999998], [41.85621, -88.10226], [39.06852, -74.83103], [37.534169, -122.35003600000002], [37.960811, -121.249543], [45.198456, -92.7705], [37.671691, -113.06166], [36.081558, -94.198826], [38.040091, -120.221544], [34.133224, -81.252749], [33.876853999999994, -118.10994], [34.088093, -117.302032], [42.00899999999999, -88.04583000000002], [30.351255, -97.676928], [33.476834999999994, -112.191779], [28.5393, -81.252022], [28.067177, -82.740229], [37.958328, -120.418228], [43.09299, -73.75088000000002], [27.499288, -81.812936], [34.15224, -118.11562], [43.038016, -121.825643], [42.051109, -86.51422], [42.993568, -76.746057], [35.95026, -78.513305], [35.788206, -78.645522], [39.243558, -120.030452], [32.842884999999995, -97.343323], [45.486236, -120.725882], [25.882497, -80.12229], [39.096181, -94.568614], [38.79817, -90.58464], [39.85205, -104.986129], [44.12827100000001, -123.195716], [43.572709, -72.157589], [43.679507, -123.937902], [38.108707, -77.518254], [35.147220000000004, -80.72426999999998], [43.618458, -116.228045], [34.012202, -117.821084], [32.221069, -110.823848], [39.961237, -75.603537], [30.525134, -81.80220600000001], [30.302299, -97.715052], [38.796297, -77.13510600000002], [32.864193, -96.674322], [29.854252, -95.533705], [40.807003, -73.231459], [25.796986, -80.335534], [30.448499, -91.180021], [43.17736, -83.734617], [34.035725, -118.16183999999998], [32.924469, -96.774518], [33.879207, -118.285192], [40.742151, -73.82526700000003], [37.839417, -122.296972], [33.665365, -84.497772], [33.947331, -118.279698], [39.18786, -94.61919], [36.06392, -80.295907], [30.40892, -91.056794], [35.836937, -78.659201], [41.37169, -89.10181], [36.977239, -120.053818], [25.954142, -80.205505], [41.758893, -106.98895], [44.96601, -93.26839], [34.081664, -117.704209], [34.232858, -117.26047], [45.50442, -122.56546000000002], [37.493299, -122.379056], [29.804266, -95.288833], [37.967411, -121.323251], [40.13337, -78.09141], [46.19087, -123.75763], [30.21615, -81.76108], [28.381032, -81.404624], [36.666986, -119.565402], [34.011707, -117.813927], [25.699801, -80.41717], [37.01901, -76.32824000000002], [29.935162, -90.104209], [40.72738, -74.1305], [27.337369, -82.490641], [34.17667, -118.4683], [32.766305, -96.857067], [38.92967700000001, -122.741459], [40.20394, -104.88421], [28.51108300000001, -81.256592], [32.774188, -96.915482], [30.261464, -84.36219399999997], [44.865422, -93.396544], [32.684379, -96.822906], [33.837177000000004, -117.291594], [33.74345, -84.38338], [27.30828300000001, -82.497596], [45.248254, -121.709686], [43.812208, -93.288684], [30.390302, -91.011613], [36.672817, -121.600931], [45.052894, -122.713567], [34.158437, -119.221934], [33.840692, -117.196074], [37.013151, -121.599776], [33.884161, -118.02656], [35.017078999999995, -81.960418], [34.148982000000004, -118.46903], [33.79671, -118.10778], [29.60095, -95.21922], [45.24883, -122.77132], [25.656637, -80.406829], [25.941415, -80.231151], [42.379567, -88.064048], [39.685643, -76.295062], [39.736019, -121.819159], [34.14754, -118.772657], [44.0978, -123.15627], [33.399079, -79.31819399999998], [35.09825, -80.96117199999998], [39.834756, -111.835115], [25.809449, -80.258821], [33.4292, -111.9091], [32.77551, -96.810997], [38.97638, -76.310739], [26.394440000000003, -80.0836], [38.57622, -121.31302], [40.37524000000001, -104.99217], [30.38742, -81.55812], [25.896907, -80.253084], [38.435675, -77.415785], [33.122846, -80.064298], [33.825833, -118.23426], [28.548961, -81.38195400000002], [40.80966, -73.90284], [39.616328, -119.868978], [29.172981, -81.08400400000002], [41.51231, -73.61609], [36.283459, -94.15679], [33.646559, -84.39827], [44.247555, -120.990491], [41.132601, -112.026591], [34.506453, -117.913556], [35.907532, -78.59089499999997], [40.10889, -75.16456099999998], [34.03179, -118.41879], [39.14763, -94.559922], [25.686059, -80.39741500000002], [37.261028, -113.294284], [38.490555, -122.890208], [30.42262, -91.13505], [40.67162, -74.35767], [40.00072, -96.049728], [29.736279, -95.604828], [37.386392, -119.737322], [29.727788, -95.287285], [35.987075, -119.958061], [41.550047, -72.795916], [41.136535, -85.012217], [35.21479799999999, -119.011154], [33.245775, -87.574831], [40.781807, -76.170361], [45.162506, -122.868776], [30.14979000000001, -97.69688], [37.223241, -93.292156], [41.113404, -120.921417], [30.191331, -81.69559699999998], [33.96679, -118.164841], [32.22164, -110.908456], [27.839086, -82.74319], [37.686592, -121.057459], [33.916431, -118.268695], [29.93672, -95.26239], [35.239816, -84.847787], [30.263739, -97.745844], [40.8349, -80.37358], [25.702826, -80.36626], [38.562193, -121.409509], [40.021001, -75.16391999999998], [25.602323, -80.35254300000003], [44.778849, -93.353098], [40.460506, -74.279987], [43.430017, -121.715021], [27.80675, -82.63850500000002], [34.311586, -111.048437], [38.84737, -77.42849], [33.433013, -80.837618], [30.37247, -97.74092], [36.96488400000001, -77.967063], [32.29553, -90.2714], [25.905464, -80.308483], [40.18358900000001, -111.64673], [30.41711, -91.144743], [34.084719, -117.300848], [32.7424, -96.81808], [34.137856, -117.335462], [37.015078, -121.594042], [39.686039, -75.446754], [38.8938, -77.910865], [39.105308, -84.50455], [34.05365, -118.20512], [40.12155, -79.31935], [42.594678, -123.386949], [37.697551, -77.448595], [25.847069, -80.23767099999998], [33.996089000000005, -117.5505], [25.646317, -80.333084], [42.404938, -82.960225], [36.112294, -78.56387], [39.743993, -105.251911], [44.044441, -123.05012], [34.067798, -117.836426], [38.783697, -122.964909], [28.51678, -81.38819000000002], [39.32511, -76.73213], [35.77402, -83.09161], [42.03649, -88.28725], [38.537667, -121.360014], [38.892101, -77.03784300000002], [28.548022, -81.310753], [25.685477, -80.414796], [39.243022, -121.649627], [36.841009, -76.19671899999999], [30.535899, -88.242187], [28.18596, -82.35347], [42.974975, -85.644734], [25.9063, -80.392581], [27.821, -82.721845], [32.83681, -96.92062], [28.452028, -81.44409499999998], [45.383346, -118.311426], [39.41313, -76.60363000000002], [32.182793, -110.948434], [33.28829, -80.51655], [37.48535, -121.938808], [32.61829, -83.661551], [26.368405, -80.11856999999998], [40.140199, -78.118933], [34.250912, -118.428702], [42.04791, -87.99916], [46.84366, -92.33345], [45.04154000000001, -93.33158], [25.73217, -80.372309], [27.624499, -80.51589], [33.813462, -118.167104], [39.319456, -77.353566], [46.010953, -92.841913], [42.52378, -122.81397], [41.75817, -87.62536], [36.829401, -76.31259], [33.911229, -118.171158], [39.12804600000001, -121.538237], [36.153154, -86.688262], [33.869052, -117.675043], [37.55088, -77.4283], [40.00402, -83.0306], [25.991415, -80.16570300000002], [32.77010300000001, -96.801749], [36.80719000000001, -76.19587], [33.879029, -98.539922], [33.491495, -117.661847], [30.501211, -84.258538], [39.475518, -76.2721], [37.82617, -122.27674], [38.483353, -121.438829], [37.94306, -122.102573], [28.381294, -81.424551], [41.68346500000001, -72.817278], [38.508261, -90.353833], [42.74272, -73.64874], [39.992783, -75.287449], [45.815872, -108.413979], [34.14327, -118.74129], [33.876456, -118.100626], [33.209178, -87.52439], [43.195961, -77.68013499999998], [35.762786, -78.745687], [26.593019, -81.678836], [34.064094, -117.296501], [33.911823, -84.373873], [37.929793, -121.233047], [34.165255, -118.47639], [33.301974, -117.46863799999998], [40.670932, -111.95277], [39.554933, -76.3672], [38.406982, -122.204188], [32.802873, -96.626514], [41.231456, -76.73398900000002], [28.472363, -80.785437], [38.530682, -85.77462], [39.135138, -77.758838], [37.649757, -122.452394], [40.538645, -78.381747], [47.39066, -122.28653], [34.136523, -117.493025], [36.882981, -119.978846], [30.476522, -81.644882], [41.79849, -88.09679], [40.84395, -73.89755], [37.577912, -122.341485], [29.715703, -95.278176], [42.30418, -83.442927], [36.261723, -94.150452], [31.65384, -106.23515], [41.58109, -88.17188], [33.99557, -118.17683], [32.980045000000004, -117.252842], [45.68154000000001, -122.55256], [38.897487, -121.247], [41.95825, -87.73831], [38.551424, -121.335795], [32.796408, -117.064417], [33.832345000000004, -117.362272], [44.250596, -123.222736], [29.620696, -82.764912], [29.625524, -95.284064], [41.351036, -122.350478], [33.951176000000004, -117.303332], [25.942412, -80.30528000000002], [40.71732, -73.8312], [30.41698, -97.897319], [45.734176, -119.061336], [43.02788, -88.027015], [40.68675, -74.09084], [36.234751, -86.724023], [40.061184, -74.219513], [34.19924, -118.33798], [29.63144, -95.38728], [34.072628, -118.058409], [37.068139, -118.240882], [47.63577, -122.18725], [33.580058, -112.258655], [37.89722, -122.080303], [35.040113, -80.807314], [38.678167, -120.823168], [42.862967, -73.781684], [25.852547, -80.208053], [35.145175, -81.951101], [37.888842, -122.175766], [42.357589, -83.075176], [33.989208000000005, -118.062964], [34.170253, -118.304446], [38.301888, -120.713105], [28.54708, -81.27017], [41.96093, -87.94894000000002], [45.20067, -118.01619], [39.959562, -75.17527], [37.708346, -122.16371399999998], [39.702038, -105.202276], [32.25048, -110.99541], [33.68144, -80.165867], [32.705062, -96.89136], [28.50911, -81.41926], [29.647338, -95.537195], [37.325265, -122.003762], [34.081595, -118.300452], [25.809409, -80.317923], [35.17651, -80.87588000000002], [32.20683, -110.92708], [28.601922, -81.404496], [37.25612, -121.871], [32.871340000000004, -96.898566], [40.730699, -111.759764], [33.14178, -117.187571], [48.72527, -94.77315], [41.76615, -87.90289], [34.154792, -118.398086], [34.015792, -118.170481], [25.942684, -80.203142], [36.93039, -120.840347], [34.025607, -118.27038600000002], [28.224831, -81.320403], [41.287641, -73.81947], [41.1194, -73.37941], [29.40822, -98.509428], [25.700068, -80.41257399999998], [38.333994, -123.047086], [38.369349, -77.466614], [45.18229, -93.876089], [39.85651, -104.98711000000002], [32.915951, -96.862664], [32.91978, -96.8523], [39.326984, -120.39026], [33.114414000000004, -97.028873], [33.626018, -111.977309], [34.068589, -118.151171], [33.87275, -118.27013], [28.065668, -82.50325500000002], [41.650782, -93.669946], [33.492661, -86.91690200000002], [32.245331, -90.213838], [28.027231, -82.177302], [47.63081, -122.14935], [40.849569, -73.923556], [36.96709, -76.29361], [37.682366, -122.126172], [35.302955, -78.428557], [33.896912, -117.481814], [36.13201, -95.94787], [40.64845, -111.90222], [37.826296, -121.290306], [34.072745, -118.053643], [41.770287, -72.682253], [25.687736, -80.36586899999998], [35.55968, -82.64412], [28.333026, -81.486885], [37.80768, -79.85164], [25.86933, -80.20588199999997], [37.649605, -122.408142], [39.142667, -121.587826], [42.958875, -71.40919699999998], [35.614939, -119.867652], [39.337294, -77.38010899999998], [33.973277, -118.238075], [28.147368, -81.444008], [28.14886, -82.69583], [34.201008, -118.473633], [41.602013, -72.672993], [46.541508, -112.085095], [33.89405, -84.26191999999998], [33.873513, -118.248766], [40.51521, -76.11316], [40.9358, -74.07262], [39.65704, -104.8369], [29.737322, -95.520463], [34.44028, -119.754108], [41.292704, -72.919875], [33.62169, -84.45899], [37.4586, -121.92414], [42.221883, -87.873051], [25.68619, -80.430098], [30.43442000000001, -84.289688], [32.67099, -97.368553], [24.66245, -81.268261], [36.833095, -76.286118], [25.846489, -80.224361], [33.980766, -117.841597], [34.237805, -117.42107], [43.6338, -116.246241], [33.960007, -118.286764], [41.82031, -88.47287], [25.943451, -80.30708800000002], [40.159045, -104.979141], [34.031851, -118.414833], [37.659175, -77.46534799999998], [33.73748, -117.985351], [33.876803, -118.172067], [33.36301, -112.1348], [25.811718, -80.353425], [37.772062, -122.224812], [32.74298, -96.91893], [38.00683400000001, -122.541232], [34.120554, -117.90607], [25.974372, -80.23074], [47.59997, -95.01377], [41.255435, -74.04475500000002], [36.743626, -119.809869], [36.682051, -82.033914], [38.5603, -121.45731], [37.33906, -121.85128], [42.32871, -83.15735], [35.829062, -78.771925], [28.872021000000004, -81.284385], [34.021246999999995, -118.498975], [26.563324, -81.890811], [42.28623, -83.79498000000002], [40.382812, -111.916362], [44.567235, -123.178665], [40.72587, -112.21866], [42.35869, -83.116682], [44.315524, -93.96433], [28.532323, -81.384738], [25.810617, -80.14191600000002], [40.7726, -73.67385], [41.78231, -71.97946], [40.115614, -75.347287], [38.709564, -76.85276400000002], [41.36566, -72.925647], [44.110243, -122.662272], [33.386925, -86.78314], [33.689267, -117.919301], [27.894806, -82.679872], [36.15708, -86.77466], [36.153607, -80.25168000000002], [32.846041, -117.197374], [36.44397100000001, -119.394822], [37.552693, -122.30104], [35.164931, -84.930642], [38.76538, -121.255754], [25.808804, -80.24979], [45.50727, -122.719], [39.5474, -111.95167], [38.64343, -121.10757], [45.649835, -94.176751], [34.034475, -118.437691], [41.19043, -96.10125], [42.390949, -83.008279], [36.083965, -86.70643100000002], [34.035486, -118.170142], [39.01592700000001, -77.01701800000002], [38.575646, -121.377154], [34.078447, -118.219734], [40.609388, -74.09083000000003], [29.34295800000001, -94.998244], [27.455047, -82.553823], [44.36562, -94.42368], [25.749454, -80.335813], [34.047402000000005, -118.265557], [37.008939, -122.077527], [38.638089, -121.203092], [38.3703, -122.71309], [40.32223, -75.3317], [30.451526, -97.910816], [42.48808, -88.09549], [32.450981, -93.77153], [38.910498, -76.849941], [34.856390999999995, -82.25704], [42.17373, -121.722732], [39.306724, -76.776454], [27.44727, -82.530487], [39.976512, -83.126356], [38.94011, -104.7415], [34.068589, -117.39602], [37.299308, -81.099209], [33.908257, -117.45351200000002], [42.2445, -83.320451], [41.313046, -122.321552], [35.97619, -119.29534], [34.020268, -117.544618], [34.159791, -117.34419], [41.10643, -73.415526], [25.747537, -80.337062], [33.94815, -80.96536], [43.33901, -89.45508000000002], [35.75637000000001, -78.70016], [27.14882, -80.29602299999998], [37.186903, -93.608833], [33.79489, -81.18306], [39.585499, -76.080635], [42.703252, -73.81647199999998], [38.997932, -94.556036], [34.152007, -118.128401], [34.751161, -92.162793], [33.907312, -81.223177], [45.665262, -108.757749], [41.890906, -87.650867], [34.934431, -92.417496], [30.53061, -84.54486999999997], [35.080105, -90.07078299999998], [34.888862, -82.373846], [28.341766, -81.26836800000002], [35.830039, -78.627336], [41.80883, -87.7689], [33.97475900000001, -117.334275], [38.076543, -122.83096], [28.512775, -81.39371700000002], [35.33417, -97.54759], [40.491281, -80.010198], [34.049054, -117.995722], [42.924079, -78.898876], [35.246694, -80.88543], [30.010479, -90.020912], [42.248976, -83.309264], [33.910815, -117.883733], [30.277811, -83.724952], [34.484988, -83.027397], [32.77032, -97.29787], [27.793035, -82.636488], [28.447594, -81.47094200000002], [33.924374, -117.655185], [45.806744, -119.970703], [34.009627, -81.153076], [38.799863, -77.59792900000002], [33.40648, -112.59091], [37.061959, -77.374209], [35.59148300000001, -78.79102900000002], [25.913369, -80.33001800000002], [45.507012, -122.670754], [40.121084, -75.356207], [41.53788400000001, -72.761854], [25.846986, -80.211189], [37.552988, -77.48010699999998], [44.87524000000001, -93.07141], [45.045759, -93.037629], [40.071791, -105.10252], [25.809265, -80.317236], [34.39963, -118.46049], [44.80326, -123.22771000000002], [40.683243, -73.675617], [42.302287, -83.745807], [45.54122, -122.29695], [41.201799, -74.181129], [28.40583, -80.627493], [42.719103, -84.50444300000002], [32.297069, -95.301031], [35.245931, -80.790035], [33.753240000000005, -118.29124], [34.155559999999994, -118.433726], [42.87919, -85.24882], [45.362192, -122.671232], [32.7729, -96.81064], [38.405833, -121.38676], [30.682534000000004, -87.993782], [30.380941, -97.674304], [28.036553, -82.103275], [36.764114, -120.024384], [33.004146, -96.708039], [26.330517, -81.80828299999997], [38.598151, -121.417752], [41.101881, -73.434666], [34.148632, -118.054107], [45.507897, -122.77645], [33.668816, -112.084259], [33.900341, -117.472848], [33.900417, -84.245566], [39.22978, -77.53284000000002], [33.818031, -117.875951], [33.859016, -118.00391299999998], [35.630824, -88.95741], [35.889789, -78.562477], [37.69038, -122.107475], [39.814721, -104.983001], [41.57292, -87.44353000000002], [42.01773, -80.19258], [32.428207, -111.208418], [35.52529000000001, -97.535], [25.940881, -80.24436700000003], [33.964051, -117.325047], [28.466979, -81.417537], [40.062222, -74.77198100000003], [29.959329, -90.116716], [27.26408, -82.44886], [33.866964, -117.997999], [34.205969, -79.1742], [25.906373, -80.29243100000002], [36.144156, -86.73865699999998], [35.53478, -80.58370500000002], [33.565290000000005, -117.628764], [32.800797, -96.792864], [33.478803000000006, -112.025881], [33.206218, -117.384359], [37.948489, -122.268695], [38.90537, -77.01477], [32.2209, -110.8238], [30.287386, -97.724346], [32.987755, -110.769674], [40.88406, -111.92504], [45.35121, -121.97358], [41.6541, -72.67234], [43.15955, -77.5957], [41.140547, -85.129956], [39.82826, -75.08663], [47.049553, -122.998162], [30.66614, -88.050744], [38.98164000000001, -77.135731], [36.075015, -86.724913], [33.865559999999995, -118.33008999999998], [39.760722, -75.844352], [40.73511, -73.8367], [32.331363, -90.333879], [45.622261, -121.110116], [40.11093, -82.9924], [33.614591, -117.707744], [35.224879, -80.902461], [30.423597, -91.144584], [25.92582, -80.20699], [44.859162, -93.328224], [40.874263, -73.905465], [32.87591, -83.764711], [40.437015, -76.50822], [39.142271, -121.752297], [39.006734, -78.336077], [43.250816, -111.115615], [37.997492, -121.755713], [34.89767, -118.92141], [29.77556, -95.36771], [35.074168, -82.636716], [45.46393, -122.668795], [35.39749600000001, -118.992296], [45.034894, -122.966196], [40.845075, -73.911455], [37.707372, -122.125682], [32.94683, -117.24298], [38.86165, -94.52733], [34.718374, -115.710414], [34.941233000000004, -118.931196], [34.126314, -117.915945], [38.962373, -76.939403], [41.771711, -72.668782], [39.11741, -121.533989], [37.43664, -121.91969], [34.142897, -117.488358], [34.032454, -118.219853], [29.68046, -95.38743], [34.069431, -118.23574], [39.36357, -84.36721], [28.356195, -81.476036], [36.135612, -94.182212], [34.05308, -117.5481], [40.791766, -77.865144], [25.747814, -80.327642], [37.342359, -77.405614], [39.092989, -94.487561], [34.957045, -120.508471], [38.87301, -77.24606], [37.923633, -121.293208], [34.05563, -118.2154], [33.802807, -118.082008], [36.07397, -83.88216], [25.702496, -80.33094799999998], [33.834596000000005, -112.602792], [37.567202, -121.897628], [25.670506, -80.383953], [38.942638, -94.762004], [35.440359, -119.035149], [35.216571, -80.868877], [40.686198, -74.096884], [33.932864, -118.090825], [43.01416, -83.694564], [36.10447, -95.85108], [30.401824, -86.885325], [37.741041, -121.581268], [40.5501, -111.896], [42.623561, -86.21188199999996], [25.703367, -80.33425], [25.883587, -80.21260600000002], [28.448961, -81.622431], [33.06572, -117.06874], [42.633113, -83.75259799999998], [32.904215, -96.700595], [34.6431, -86.838308], [37.54413, -77.37008], [39.717737, -75.61160699999998], [34.14271, -118.73596], [40.02308, -75.0348], [26.330981, -81.77977800000002], [42.42731, -87.85497], [36.14369, -86.68871999999998], [32.47551, -93.781235], [34.112285, -118.265603], [34.222192, -119.12687], [34.064988, -117.313634], [35.76201, -119.053226], [28.486451, -81.440288], [41.660016, -87.516971], [33.986112, -118.247721], [45.70111, -109.39291], [25.896752, -80.25708399999998], [40.313891, -120.538226], [39.104751, -94.779075], [45.369248, -122.134663], [46.723801, -122.976844], [25.7478, -80.332741], [38.770762, -90.238426], [37.990539, -121.729654], [39.682092, -75.465622], [40.841621, -73.825539], [42.153703, -88.033922], [26.236842, -80.172783], [38.433192, -121.399619], [33.504394, -117.152842], [34.781226000000004, -82.258803], [36.09619, -86.65568], [33.778246, -117.860086], [26.72493, -80.07552], [33.560196999999995, -81.169211], [40.20263, -75.66089000000002], [28.540192, -81.309043], [40.205369, -74.754468], [37.822567, -122.320965], [47.71223300000001, -122.328558], [32.60717, -85.42389], [36.09564, -115.18054], [33.874277, -118.195741], [47.66934000000001, -122.1295], [37.691012, -122.071062], [34.995096999999994, -79.22784899999998], [34.035138, -118.369517], [38.77207, -121.24548], [29.72981, -95.42958], [40.290913, -75.39966700000002], [41.797144, -85.662539], [42.319547, -88.16469000000002], [40.27865, -111.2188], [33.815831, -117.243041], [32.677406, -97.057288], [40.48746, -80.01626999999998], [42.06299, -88.07154], [38.595629, -121.369611], [25.934586, -80.12179499999998], [30.428478, -91.171347], [33.49135, -112.11296000000002], [43.128049, -77.521499], [39.09269000000001, -94.59094], [35.062969, -120.592892], [41.8926, -87.92059], [25.59765, -80.37991], [36.202731, -121.126246], [30.271679, -97.817834], [27.270415000000003, -82.497665], [38.745893, -77.210808], [36.886622, -76.135857], [25.732494, -80.357732], [37.31467, -121.82768], [38.933031, -94.529172], [39.076383, -94.605464], [28.14267000000001, -81.502836], [28.338824, -81.361017], [34.05825, -118.244422], [34.000883, -117.844104], [42.4688, -82.91919], [28.45112, -81.400717], [38.87939, -94.67622], [30.2697, -81.77548399999998], [36.799845, -76.376953], [33.147531, -80.033082], [38.616206, -121.26031299999998], [38.849049, -76.968177], [37.5845, -122.32867], [33.190931, -117.242242], [34.870078, -82.229065], [45.45374, -122.78462], [30.667134000000004, -88.127084], [32.867199, -96.66609], [39.72176, -105.00898], [43.660987, -123.334038], [38.162673, -120.436838], [37.698124, -121.940776], [30.348852, -97.713327], [34.23701, -118.420732], [36.82345, -76.433267], [33.986694, -118.412277], [37.31749, -121.93536], [29.728175, -95.495536], [37.266831, -120.95788799999998], [43.020175, -85.671097], [30.021031, -95.428825], [35.018009, -85.272226], [28.567991, -81.216828], [28.56806, -81.37566], [41.133917, -74.16804599999998], [38.0191, -121.937159], [43.970821, -92.066475], [28.356890000000003, -82.69819], [33.648859, -93.675667], [46.870532, -113.981392], [37.324792, -121.88675], [42.747877, -123.366841], [37.77205, -122.22475], [33.83784, -117.8762], [38.94852, -94.36297], [39.957501, -75.140739], [33.942893, -117.280029], [34.071909999999995, -117.89375], [43.655385, -73.922791], [32.70384, -96.803656], [34.034303, -118.384841], [38.7793, -90.36496], [28.66206, -81.22984699999998], [33.86255, -117.25952], [26.492757, -81.805756], [34.064565, -117.298207], [33.53909, -84.26616], [30.36246, -97.695569], [40.74058, -73.89903000000002], [29.736555, -95.500824], [40.734226, -74.124493], [38.64207, -121.38058999999998], [35.170864, -80.902732], [37.79792, -121.106983], [34.152959, -118.375565], [34.151719, -118.127413], [35.598208, -82.39048000000003], [28.597137, -81.312351], [36.474506, -119.851372], [38.41008, -81.794146], [27.496143, -82.634188], [36.717327, -121.661213], [25.738179, -80.350882], [39.004838, -94.35698], [36.93779, -76.265109], [41.6718, -71.91464], [37.80008400000001, -122.27908899999998], [41.17901, -73.18119], [30.380266, -86.355225], [36.255802, -119.356969], [35.58365, -80.55078], [43.13536, -117.04628999999998], [45.128563, -93.48656], [34.030856, -118.260225], [33.46175, -112.11712], [37.710225, -121.07929], [33.291836, -81.226821], [38.22588, -85.62106999999997], [30.753639, -81.65128100000003], [45.145663, -93.837994], [39.636582, -105.891793], [33.869052, -117.675043], [37.55716, -92.79264], [25.916574, -80.309095], [38.574922, -121.549633], [33.729454, -117.776473], [33.989816, -117.350096], [38.7942, -94.910004], [47.58474, -122.30294], [33.816674, -117.96181599999998], [35.839238, -78.675899], [25.940694, -80.172596], [28.567544, -81.21401800000002], [41.56074, -87.30785], [34.410763, -118.669646], [38.61726, -121.53215], [34.703499, -86.68333100000002], [29.78447, -95.58767], [45.31559, -94.52034], [42.02684, -86.52167], [41.10658, -73.422671], [38.38549, -122.71611], [42.979396, -83.692932], [35.107496000000005, -118.914679], [38.596704, -121.505525], [36.745818, -119.805251], [33.810536, -79.028217], [31.79762, -106.33242], [41.23719000000001, -73.17944], [42.631867, -93.482029], [34.125042, -117.302288], [42.3519, -71.11069], [26.00348, -80.21613], [34.02863, -81.12501999999998], [33.928816999999995, -118.288453], [45.5325, -122.84235], [45.690931, -120.436213], [40.87889600000001, -74.065108], [43.043849, -83.713447], [43.593717, -116.36576], [30.457159000000004, -87.224417], [37.160804, -93.399982], [33.896715, -117.880856], [29.70625, -95.24219], [36.771937, -76.275233], [43.033245, -89.130151], [40.847934, -73.935634], [34.156252, -118.290264], [40.736942, -74.123919], [37.637035, -120.943565], [30.42809, -91.17078], [38.377849, -77.459213], [38.834385, -77.449378], [37.389388, -120.61214], [41.1101, -73.55104], [28.83065, -81.54772700000002], [34.0302, -117.68057], [45.256949, -122.76989], [33.88409, -118.02901], [36.707478, -119.682043], [29.501769, -82.296785], [32.741297, -96.856393], [25.899122, -80.193288], [25.899528, -80.184815], [33.923764, -118.246277], [40.085817, -75.093655], [35.84106699999999, -78.83267099999998], [34.511309000000004, -82.760972], [28.4493, -81.477791], [47.642008, -122.015852], [38.295483, -77.514638], [38.793679, -77.052601], [32.220212, -110.823855], [33.920390000000005, -84.31475999999998], [39.798621, -77.03074699999998], [35.24917199999999, -80.969227], [33.801001, -84.389139], [33.643301, -117.916727], [37.535793, -77.429559], [32.84366, -117.21348799999998], [44.9509, -93.10008], [35.681574, -118.37814], [36.263621, -86.674684], [28.742478, -81.288203], [39.21074, -76.68191999999998], [25.910063, -80.210076], [37.678625, -97.322638], [40.45778, -111.37745], [34.03905, -118.377287], [40.287406, -79.37289], [34.021077000000005, -117.103184], [43.12872, -70.83783000000003], [34.092689, -118.205283], [38.93562, -94.53345], [38.628764, -90.221967], [26.25229, -80.16651999999998], [35.082614, -81.715023], [35.179724, -80.89016], [25.945914, -80.205394], [32.661365, -97.28054], [44.88304, -93.01501], [26.21228, -81.80055899999998], [40.858451, -80.290741], [39.137645, -121.94778], [37.762651, -121.439953], [42.396229, -83.21818], [34.107495, -117.302302], [44.95285, -93.0958], [34.056515000000005, -118.45327], [33.744581, -117.833551], [40.93965, -73.75323], [44.99917, -93.238], [32.701926, -117.143824], [29.204833, -82.18105200000002], [34.072176, -117.897881], [33.745628, -117.833227], [25.686005, -80.39960699999997], [33.57119, -112.08254], [37.703059, -122.078561], [38.764148, -121.257309], [29.697647, -95.459209], [35.4734, -117.65395], [41.030679, -73.746175], [34.08717, -117.67452], [37.408715, -120.849825], [38.20793, -81.42019300000003], [39.398871, -76.552251], [25.729746, -80.36525], [34.067840999999994, -117.517179], [35.48372600000001, -77.573103], [38.81095, -76.96376], [28.22112000000001, -81.31689], [43.02409, -76.14022], [34.153721000000004, -118.340115], [25.92663, -80.24011], [32.690234000000004, -96.81456], [33.569663, -117.672066], [35.014683000000005, -85.274559], [43.027863, -91.142183], [34.13069, -117.92908], [32.948915, -80.041452], [25.921032, -80.325032], [33.19821, -81.349805], [33.58494, -86.70064], [34.222916999999995, -119.148056], [34.15747, -118.15857], [34.168554, -118.497726], [33.855826, -118.015854], [40.160601, -110.166618], [44.395798, -93.224724], [40.77537, -74.03911], [37.44404, -122.25607], [33.279829, -87.096855], [37.05789, -76.41575], [37.69813, -121.94064], [37.31641, -121.95618], [37.864943, -122.303345], [32.904204, -80.673388], [40.798277, -73.929548], [34.03805, -118.27645], [39.18762, -94.516807], [40.714375, -74.139949], [30.427255, -87.240881], [37.673237, -122.099866], [33.873764, -118.252484], [40.742941, -73.838822], [30.368431, -97.693996], [34.268522999999995, -118.435121], [40.44987800000001, -80.001039], [37.73413400000001, -122.13955], [26.702066, -80.07264], [39.958399, -75.16715400000002], [33.801790000000004, -84.40326], [33.4593, -111.99512], [42.48264, -73.66591], [25.938449, -80.188624], [36.859895, -121.60398], [25.716723, -80.41526999999998], [29.955890000000004, -95.41851], [33.974643, -118.286508], [33.82932, -118.20804], [36.174521, -86.771061], [33.86965900000001, -117.672104], [37.775868, -120.81811299999998], [32.94112, -96.74414], [33.802833, -118.12518], [30.371461, -89.957201], [41.845496, -123.918882], [37.992156, -121.252875], [41.114463, -73.388671], [35.184409, -85.063037], [47.48357, -122.27057], [32.359896, -80.62552099999998], [25.90354, -80.21027], [30.295041, -97.794668], [33.995870000000004, -117.36347], [45.828951, -93.424099], [46.75604600000001, -114.082351], [41.82771, -73.10728], [45.354199, -118.191099], [39.41547, -76.62557], [25.925838, -80.16800699999997], [37.8878, -122.30926], [36.46422000000001, -110.69384], [40.047597, -111.741051], [41.35507, -74.25726], [33.877225, -118.133837], [41.50135, -81.53631], [40.246614, -76.894056], [34.039465, -118.58941000000002], [30.444401, -86.63373399999998], [33.967651000000004, -118.162393], [40.80761, -74.18236999999998], [32.706382, -117.09646399999998], [45.03146, -92.98478], [34.12107, -117.9032], [34.229611, -118.259485], [34.2353, -118.41266], [34.44254, -86.94241], [36.890912, -119.792572], [36.51794, -121.935005], [39.116229, -94.56468], [43.919263, -124.108923], [33.349270000000004, -96.58606], [29.96692, -95.41955], [34.007027, -79.874664], [40.139225, -79.84235600000002], [40.090818, -75.12618], [44.99639000000001, -93.08936], [47.57315, -122.31574], [37.57371, -122.26222], [32.714758, -96.712723], [34.068863, -117.611608], [35.290978, -80.96929499999997], [33.912783000000005, -118.179936], [45.075262, -93.33185], [35.76087000000001, -78.820986], [38.409036, -121.388564], [40.664937, -75.379791], [33.48468, -117.1424], [30.19034000000001, -90.91518], [44.15322000000001, -87.58876], [33.72381, -117.976437], [39.7556, -86.18781], [38.224101, -122.257824], [33.281420000000004, -96.59234], [29.89631, -95.41237], [39.02792, -94.50051], [37.540051, -76.801056], [41.607126, -87.125591], [33.73796, -78.94938], [40.509669, -122.570923], [37.467944, -122.4301], [33.994238, -117.889177], [40.011659, -75.210675], [36.059907, -78.791981], [37.418199, -76.813949], [40.104069, -76.254048], [32.87376, -96.52398], [35.35424099999999, -119.071604], [42.273822, -84.393026], [36.626722, -78.139864], [33.506907, -86.817838], [34.821396, -118.923279], [33.523321, -86.809812], [34.774571, -118.502025], [40.78955, -73.78526], [34.069887, -117.964802], [34.067322999999995, -117.554317], [32.75943400000001, -117.175886], [33.61738, -83.925794], [30.008736, -95.143972], [32.779025, -117.101136], [29.725352, -95.360517], [47.630056, -122.173223], [30.288501, -81.627312], [44.063215, -123.04245], [33.381158, -117.250842], [28.00607, -82.30192], [44.860493, -93.376101], [45.94918, -123.56383999999998], [38.634633, -121.269624], [35.07115, -85.269778], [29.401806, -98.448046], [25.796847, -80.35819599999998], [38.407009, -122.20413], [33.629072, -117.716852], [33.387147, -117.174853], [42.405757, -83.074965], [32.88053, -117.10826000000002], [33.891265999999995, -117.27178899999998], [38.961172, -76.905316], [37.248549, -93.262047], [30.47884, -90.41789], [27.387865, -82.448306], [33.852643, -118.279755], [47.802502, -122.313148], [33.520863, -86.845761], [25.88162, -80.226644], [43.138064, -77.600412], [33.751298, -84.45037099999998], [25.925138, -80.268718], [28.45147, -81.09999], [32.891246, -79.784475], [39.35279, -76.66744], [40.357987, -78.951199], [30.976887, -85.008848], [36.08586, -80.30381], [34.259265, -118.103853], [39.953104, -75.181833], [40.450206, -80.140121], [28.049398, -82.454792], [32.941046, -96.769002], [36.645023, -79.61806899999998], [38.417216, -77.42510300000002], [25.482762, -80.436424], [37.439685, -122.248278], [43.167819, -77.552974], [28.355916, -80.723687], [45.658482, -118.729022], [36.059432, -79.6801], [25.889955, -80.193537], [32.86775, -97.00057], [41.402503, -71.86278399999998], [40.052334, -75.53019599999998], [38.00354, -122.53896], [27.463535, -80.416005], [25.73802, -80.286722], [39.018743, -77.04387], [39.87442, -75.71778], [33.930941, -117.413409], [32.828323, -117.142573], [32.811889, -96.853786], [41.00707, -73.647661], [30.241364, -82.133967], [32.78553, -96.62459], [33.84684, -118.317147], [41.9276, -87.68706999999998], [41.3605, -72.055131], [42.27233, -83.67591], [34.15943, -118.6373], [47.29328, -122.30565], [38.806609, -77.184426], [32.07042, -81.20685999999998], [40.864892, -79.020586], [33.866401, -117.717269], [41.915942, -87.91960300000002], [34.1594, -118.22519], [33.986173, -118.397737], [46.121842, -123.926153], [34.066571, -118.20501000000002], [34.120842, -117.879792], [25.764402, -80.264273], [40.77385, -74.04236], [34.056646, -118.257159], [29.928357, -90.028599], [32.651649, -117.067978], [38.856797, -76.955658], [38.63819, -121.203], [40.341717, -79.758744], [43.117743, -76.22279], [47.700673, -116.813561], [45.09353, -93.28976], [43.083212, -77.60762199999998], [39.957949, -75.162566], [40.09835, -111.68966], [40.84735, -74.01775699999997], [32.79347, -96.72633], [33.925794, -118.337236], [34.289524, -79.653143], [35.901141, -78.65395699999998], [35.718795, -81.68999000000002], [44.849834, -93.298061], [25.94772, -80.35163], [28.35663, -81.364106], [40.71830300000001, -73.794833], [38.524926, -121.461522], [36.204163, -86.769006], [39.957654, -75.16184399999999], [45.650092, -120.957573], [42.912951, -83.726109], [37.162739, -76.543341], [45.633612, -121.951703], [38.882342, -77.019213], [32.741244, -96.918641], [36.07158, -86.69128], [41.48797, -112.01622], [28.272916, -81.59455200000002], [34.161461, -117.46538], [40.38759, -74.3872], [39.00985, -94.69381], [41.233756, -96.344575], [36.157842, -86.77856], [26.040221, -80.16356800000001], [33.908303000000004, -117.882817], [38.373018, -121.358499], [34.239519, -117.216729], [33.883286, -117.537782], [34.001388, -81.33534499999998], [40.141257, -75.137691], [44.47382, -88.03758], [33.966988, -117.32721399999998], [34.492166999999995, -118.283689], [34.04165, -117.15532], [35.833872, -119.259949], [28.356195, -81.476036], [38.737267, -77.192484], [35.806922, -78.64833], [34.066719, -117.234942], [34.07584, -117.62046], [33.46587, -112.033612], [40.75859000000001, -73.84865], [25.958786, -80.191025], [35.198854, -118.51951], [26.334883, -81.76266899999997], [36.125653, -86.73265], [38.671409, -121.358469], [33.875902, -118.164664], [43.06602, -76.164], [32.685559999999995, -97.24038], [25.971741, -80.214836], [27.916772, -82.794812], [44.811055, -93.183676], [45.040582, -93.400692], [42.384757, -87.96033800000002], [38.790782, -77.164371], [37.64051, -77.560775], [30.227393, -81.38547700000002], [47.9056, -122.04345], [34.071343, -118.235397], [39.74034, -105.0094], [28.45161, -81.16121], [34.059483, -118.001377], [28.539324, -81.249476], [47.59055, -122.30477], [38.949753, -94.361074], [34.064633, -118.002853], [37.73137, -122.42359], [32.58391, -97.351427], [37.015813, -120.124834], [33.98202, -118.240795], [44.948455, -92.883084], [47.407175, -122.625221], [34.180268, -79.794236], [25.80926, -80.314297], [42.984736, -85.698454], [32.750073, -96.879976], [25.68417, -80.35398], [45.13059000000001, -93.4883], [44.415224, -122.011295], [40.01557, -74.95501999999998], [38.91056500000001, -77.218071], [28.597186, -81.307142], [36.7682, -119.781542], [34.038994, -118.439912], [35.272633, -80.846419], [34.253463, -118.424912], [48.569232, -93.393766], [34.000019, -117.982849], [41.87065, -87.76884], [38.803551, -123.585186], [30.589003, -91.121651], [26.545118, -81.78617], [29.841759000000003, -95.319], [31.78817, -106.42998], [29.8299, -95.47981], [28.53511, -81.3918], [45.30762100000001, -93.578426], [28.551528, -81.344651], [35.75302, -78.649693], [39.715164, -85.863385], [37.667783, -122.119503], [40.76791, -73.701268], [37.189718, -121.99248500000002], [25.781777, -80.368678], [42.265633, -88.154485], [33.937740000000005, -117.123623], [34.131955, -80.875838], [40.89047, -74.69428], [34.06992, -80.51289], [25.699027, -80.34114], [40.585781, -111.436461], [25.684325, -80.41642900000002], [33.740866, -78.84544100000002], [48.195438, -114.33848], [34.01686, -118.054209], [36.952978, -76.264946], [45.45055, -122.5687], [41.126274, -78.865249], [33.592017, -86.16511700000002], [41.69299, -71.47666], [29.732168, -95.459891], [37.373352, -121.925731], [27.388815, -82.45442800000002], [33.334238, -111.972345], [39.106408, -94.573745], [28.196893, -80.708688], [44.96467, -93.22964], [30.172549, -97.799498], [34.470343, -118.616411], [28.428143, -81.405668], [33.95624, -118.280557], [41.757391, -87.881752], [33.533743, -81.690671], [37.160542, -121.052018], [33.974776, -118.256403], [43.209816, -77.688847], [38.456685, -121.41037], [29.837941, -95.361653], [45.348182, -122.766569], [33.868054, -118.285073], [38.892726, -77.427263], [44.116639, -117.06264], [28.416492, -81.421936], [40.578221, -75.74827900000003], [30.256727, -81.601857], [38.891084, -76.825476], [37.842523, -122.258157], [32.908977, -96.931611], [41.38666, -73.5998], [45.34551, -118.129631], [25.92614, -80.24933], [33.777407000000004, -117.835558], [42.863072, -73.768985], [41.69245, -71.47678], [40.159711, -79.06604899999998], [44.952129, -93.180286], [35.884406, -78.626909], [35.185344, -80.898465], [37.77678, -122.23615], [32.816708, -96.867655], [39.42184500000001, -77.485299], [36.124673, -86.81269300000002], [36.080912, -86.702543], [43.146815, -77.573216], [40.36923, -74.14276], [27.5836, -82.58908000000002], [33.43033, -112.1062], [25.857462, -80.244209], [27.53023, -82.50806], [40.68725, -73.61726], [40.4758, -75.45741], [38.085876, -122.111674], [34.224483, -82.19957099999998], [42.16232, -123.64692], [45.13838300000001, -123.060971], [28.24779, -80.737746], [25.668353, -80.322839], [32.969604, -96.920134], [38.5394, -121.47494], [34.03067, -117.606054], [34.08701, -117.68588], [33.67381, -112.065628], [36.06072, -95.95785], [30.367931, -91.027721], [33.87937, -84.0121], [38.61996, -121.5266], [35.972992, -78.6871], [36.602207, -119.65756], [29.92715, -95.55086], [44.972223, -117.879084], [40.54375, -75.53166999999998], [41.23827, -81.84133], [41.677976, -122.068973], [38.584034, -121.372419], [36.018079, -95.88661], [42.90351, -82.504867], [38.863837, -121.55273400000002], [44.912176, -93.144106], [33.97065, -118.233937], [39.227365, -121.141342], [34.965368, -80.983324], [36.747432, -119.802764], [37.969914, -122.320455], [33.792539, -118.207601], [30.475108, -90.615234], [38.704969, -77.224142], [41.25774000000001, -95.98041], [28.43621, -81.36749], [33.027638, -96.992809], [38.066246, -122.225654], [36.164928, -86.778175], [35.417275, -119.021255], [36.488112, -119.40817], [35.08187, -89.89745], [25.62699, -80.38799200000003], [35.44934, -118.783788], [41.983883, -91.664785], [37.85663, -77.364678], [36.833828, -76.137399], [29.789085, -95.666692], [38.561472, -121.358297], [37.85272, -122.29991], [33.18238, -117.30033], [32.487662, -93.746048], [32.843920000000004, -96.63466], [41.93191, -87.98867], [32.7143, -117.131743], [38.333432, -77.125588], [28.322505, -81.410214], [33.200404, -117.127323], [45.551051, -122.6788], [33.392775, -111.967395], [37.971874, -122.311334], [37.715203, -122.172643], [39.428977, -76.35566700000003], [28.493325, -81.396765], [33.77153, -117.997557], [32.865549, -96.764373], [43.678497, -94.437521], [33.978875, -118.225227], [36.576806, -119.627865], [38.6654, -90.19938], [34.07224, -118.0877], [39.432402, -77.488865], [37.693973, -122.048953], [32.825882, -97.205546], [39.42226, -75.65794], [30.349081, -97.54182], [39.67112, -104.92825], [36.880234, -119.911276], [41.03963, -81.65270699999998], [26.09254, -80.22421700000002], [42.023497, -93.756413], [25.881657, -80.35433499999998], [44.99667, -93.45837], [30.263181, -84.361835], [39.36543, -76.7474], [37.516898, -77.255977], [34.159552000000005, -118.462557], [25.791439, -80.321015], [41.9589, -71.06367], [25.917448, -80.216825], [35.406639, -80.86409300000003], [34.126376, -118.09083], [41.313726, -78.402553], [40.643419, -74.412531], [33.961091, -118.231788], [34.338968, -118.516015], [28.54842, -81.62864], [35.83414000000001, -78.76903], [37.098571, -80.526707], [38.163102, -121.261757], [34.155198, -118.647677], [30.415143, -91.068754], [38.680362, -121.371272], [34.1143, -117.91638], [34.547676, -83.367762], [36.14915, -86.781231], [39.869479, -75.544438], [27.443974, -82.467907], [36.94983, -76.265693], [33.948892, -117.553436], [41.35507, -74.25726], [43.014289, -83.68401999999998], [35.306729, -80.85176700000002], [33.937816999999995, -118.27966], [39.423464, -76.35901], [45.540722, -122.562822], [40.836593, -73.876696], [35.131417, -118.553579], [38.980891, -76.989397], [27.97221, -82.746201], [27.871732, -82.326764], [43.597379, -116.319262], [26.084274, -80.200374], [32.64206, -96.81208], [44.994187, -92.960261], [45.658105, -118.726825], [29.78433, -95.48716], [36.144686, -85.373178], [33.064481, -97.01506], [32.83785, -97.19463], [39.743851, -105.154541], [32.84376, -117.2141], [33.463039, -81.68751999999998], [29.518493, -98.395475], [25.576402, -80.371826], [34.01149, -118.13085], [32.443353, -93.714865], [34.10035, -80.95844], [45.3062, -93.626742], [34.186781, -117.363542], [37.34623, -76.724427], [44.720239, -93.414863], [35.352426, -118.93596], [25.686059, -80.39741500000002], [45.662495, -108.769644], [41.723468, -72.78805899999998], [40.9257, -73.771], [32.79575, -96.6922], [34.147086, -118.029821], [43.103017, -77.628398], [33.95278, -118.043289], [30.232706, -97.903303], [28.054697, -81.998358], [41.88253, -87.64556], [25.90354, -80.21027], [40.43916, -79.86165], [40.886832, -73.81451], [30.284618, -97.765198], [33.828588, -84.486654], [30.00814, -95.26644], [32.824406, -96.919697], [30.220319, -97.76556], [34.367433, -110.435761], [46.919336, -112.120548], [38.558904, -121.473348], [32.8825, -83.77186], [26.676071000000004, -80.168576], [38.168655, -120.839125], [35.876649, -78.5414], [27.461007, -81.485865], [35.424267, -120.224407], [38.825914, -77.457598], [33.746565999999994, -117.984203], [39.634948, -78.832494], [30.421112, -90.05432900000002], [28.0844, -81.265963], [33.862306, -118.199285], [35.208457, -80.757603], [37.874118, -79.31157900000002], [37.476174, -122.202003], [34.073807, -117.752763], [44.81443, -91.45456], [32.291956, -95.259113], [38.30705, -122.687698], [28.451531, -81.400598], [40.186216, -75.096577], [33.945419, -118.329278], [37.581466, -77.469564], [45.376043, -122.086413], [38.86888, -77.309081], [25.883635, -80.362453], [34.716478, -83.17593000000002], [39.255534, -76.821051], [35.198768, -120.698128], [35.304, -80.84886], [26.599988, -81.609176], [35.86822, -78.62080999999998], [41.35856, -83.07947], [33.901956, -118.270266], [39.43566, -119.76268600000002], [26.51096, -80.07265], [45.36320300000001, -122.610436], [33.985519000000004, -117.345149], [38.647644, -77.92915699999998], [38.894626, -77.031971], [37.155143, -119.73166], [33.990827, -117.934861], [43.177138, -76.119922], [33.832273, -84.335575], [25.912792, -80.324848], [35.202401, -85.16018299999998], [43.08769, -117.06434], [45.53684000000001, -122.684453], [33.839596, -84.487298], [37.240048, -93.260947], [41.56961, -87.37576], [31.32247000000001, -89.37340999999998], [37.827317, -121.997036], [37.75067, -121.47203600000002], [35.712099, -78.686324], [42.23788, -85.64474], [34.54728, -92.62785], [37.530932, -121.940792], [39.24455800000001, -94.488325], [32.7945, -96.81459], [32.92807, -96.7602], [35.28371, -80.6773], [34.00496, -117.39508], [28.205522, -82.377549], [25.884154, -80.35106999999998], [39.96908, -83.051215], [27.87929, -82.69629499999998], [40.357716, -105.457306], [35.820451, -78.592329], [28.638513, -81.38793000000003], [34.266948, -118.443931], [40.64725, -77.746032], [28.693421, -81.55866800000003], [34.06446, -118.00388], [43.215955, -77.446607], [38.496335, -121.098578], [34.049353, -118.284163], [38.914748, -94.526049], [40.900361, -77.157984], [42.988503, -83.719015], [33.54391, -117.177], [33.87436, -118.189695], [32.721037, -117.041334], [35.555152, -82.606523], [43.801728, -117.929767], [38.779889, -77.18061999999998], [34.265993, -118.443097], [33.97085, -118.0813], [41.103385, -112.015196], [32.468903999999995, -93.840228], [37.452125, -122.126916], [45.90883400000001, -123.827734], [33.989993, -117.350345], [28.639522, -81.38801600000002], [25.778662, -80.32032], [35.016925, -85.293172], [26.71126, -81.80851], [45.612992, -122.00091], [37.630931, -122.110193], [29.58596, -90.69979], [41.030191, -73.741382], [33.832427, -117.931918], [37.635215, -77.499931], [34.0724, -118.07292], [33.690604, -117.626344], [25.69542, -80.38211], [37.368396, -79.92179200000002], [38.692856, -120.82348], [36.178582, -120.195918], [39.95983, -75.1774], [36.19579, -115.09835], [29.60639, -98.60206], [39.131785, -104.863621], [33.624114, -117.171062], [45.060298, -123.492048], [25.890169, -80.188806], [46.204966, -109.898868], [37.418502, -122.319146], [36.053398, -95.886318], [25.626452, -80.41054399999999], [34.43241, -118.58986000000002], [39.528642, -119.720859], [25.733201, -80.326882], [29.717814, -95.525251], [36.987585, -121.969525], [30.247643, -93.111037], [37.551054, -121.918318], [37.866753, -122.303642], [40.445877, -74.424959], [43.191567, -83.72521], [25.925464, -80.29233], [40.808962, -74.450172], [36.819609, -119.785209], [33.278220000000005, -117.44701], [39.138933, -94.675251], [39.53912, -119.78786200000002], [39.030079, -94.36114], [34.205463, -119.039972], [34.631172, -118.163049]],\n",
              "                {&quot;blur&quot;: 15, &quot;maxZoom&quot;: 18, &quot;minOpacity&quot;: 0.5, &quot;radius&quot;: 25}\n",
              "            ).addTo(map_4152eb4065f2972e9c99aab100bafe55);\n",
              "        \n",
              "&lt;/script&gt;\n",
              "&lt;/html&gt;\" style=\"position:absolute;width:100%;height:100%;left:0;top:0;border:none !important;\" allowfullscreen webkitallowfullscreen mozallowfullscreen></iframe></div></div>"
            ]
          },
          "metadata": {},
          "execution_count": 89
        }
      ]
    },
    {
      "cell_type": "markdown",
      "source": [
        "## ASk and Answer question\n",
        "1.are there more accident in warmer and colder area\n",
        "\n",
        "2.Which  five state has highest number of accidents\n",
        "California,Florida,Texas,Oregon,Virginia\n",
        "\n",
        "\n",
        "3.Does high population city have high number of accidents\n",
        "\n",
        "ans = NO\n",
        "\n",
        "4.Mention THis does not contain information about new york\n",
        "\n",
        "\n",
        "6.What time of the day accidents is happening most \n",
        "\n",
        "7.Which day of week have most accidents\n",
        "\n",
        "8.which month have most accidents\n",
        "\n",
        "9.What is the trend of acciddents year over year (incresing/decresing)\n",
        "\n",
        "10.When is accident per unit traffic is highest.\n",
        "\n"
      ],
      "metadata": {
        "id": "X9GXt6lhVKVO"
      }
    },
    {
      "cell_type": "markdown",
      "source": [
        "2.Which  five state has highest number of accidents\n",
        "\n",
        "ans=\n",
        "California,Florida,Texas,Oregon,Virginia"
      ],
      "metadata": {
        "id": "U-R0DHVFqrzl"
      }
    },
    {
      "cell_type": "code",
      "source": [
        "state_by_accident[:5].plot(kind=\"barh\")"
      ],
      "metadata": {
        "id": "yuqz7FDziUoj",
        "colab": {
          "base_uri": "https://localhost:8080/",
          "height": 282
        },
        "outputId": "93f00c87-a967-46c2-f0c9-3498690bd0ff"
      },
      "execution_count": 32,
      "outputs": [
        {
          "output_type": "execute_result",
          "data": {
            "text/plain": [
              "<matplotlib.axes._subplots.AxesSubplot at 0x7f9cf43265b0>"
            ]
          },
          "metadata": {},
          "execution_count": 32
        },
        {
          "output_type": "display_data",
          "data": {
            "text/plain": [
              "<Figure size 432x288 with 1 Axes>"
            ],
            "image/png": "[encoded data removed]"
          },
          "metadata": {
            "needs_background": "light"
          }
        }
      ]
    },
    {
      "cell_type": "code",
      "source": [],
      "metadata": {
        "id": "lCMBgOMJrZaM"
      },
      "execution_count": null,
      "outputs": []
    },
    {
      "cell_type": "markdown",
      "source": [
        "3.Does high population city have high number of accidents\n",
        "\n",
        "ans = NO"
      ],
      "metadata": {
        "id": "E8qdfozmrCZe"
      }
    },
    {
      "cell_type": "markdown",
      "source": [
        "6.What time of the day accidents is happening most\n",
        "\n",
        "-Most accidents happening in between 1 pm to 8 pm\n",
        "\n",
        "-next highest percentage is between 6 am to 10 am(probably people hurry to get to work) "
      ],
      "metadata": {
        "id": "IPcw83uirQ52"
      }
    },
    {
      "cell_type": "markdown",
      "source": [
        "\n",
        "7.Which day of week have most accidents\n",
        "-Thursday,Friday\n"
      ],
      "metadata": {
        "id": "VNz11pqUrcUv"
      }
    },
    {
      "cell_type": "code",
      "source": [
        "sns.distplot(df.Start_Time.dt.dayofweek,bins=7,kde=False,norm_hist=True) \n"
      ],
      "metadata": {
        "id": "hUJaMMtNcjgs",
        "colab": {
          "base_uri": "https://localhost:8080/",
          "height": 276
        },
        "outputId": "78ee637e-3923-43d4-fa77-c43ceb0e1030"
      },
      "execution_count": 35,
      "outputs": [
        {
          "output_type": "error",
          "ename": "AttributeError",
          "evalue": "ignored",
          "traceback": [
            "\u001b[0;31m---------------------------------------------------------------------------\u001b[0m",
            "\u001b[0;31mAttributeError\u001b[0m                            Traceback (most recent call last)",
            "\u001b[0;32m<ipython-input-35-ee7445a226d5>\u001b[0m in \u001b[0;36m<module>\u001b[0;34m\u001b[0m\n\u001b[0;32m----> 1\u001b[0;31m \u001b[0msns\u001b[0m\u001b[0;34m.\u001b[0m\u001b[0mdistplot\u001b[0m\u001b[0;34m(\u001b[0m\u001b[0mdf\u001b[0m\u001b[0;34m.\u001b[0m\u001b[0mStart_Time\u001b[0m\u001b[0;34m.\u001b[0m\u001b[0mdt\u001b[0m\u001b[0;34m.\u001b[0m\u001b[0mdayofweek\u001b[0m\u001b[0;34m,\u001b[0m\u001b[0mbins\u001b[0m\u001b[0;34m=\u001b[0m\u001b[0;36m7\u001b[0m\u001b[0;34m,\u001b[0m\u001b[0mkde\u001b[0m\u001b[0;34m=\u001b[0m\u001b[0;32mFalse\u001b[0m\u001b[0;34m,\u001b[0m\u001b[0mnorm_hist\u001b[0m\u001b[0;34m=\u001b[0m\u001b[0;32mTrue\u001b[0m\u001b[0;34m)\u001b[0m\u001b[0;34m\u001b[0m\u001b[0;34m\u001b[0m\u001b[0m\n\u001b[0m",
            "\u001b[0;32m/usr/local/lib/python3.8/dist-packages/pandas/core/generic.py\u001b[0m in \u001b[0;36m__getattr__\u001b[0;34m(self, name)\u001b[0m\n\u001b[1;32m   5485\u001b[0m         ):\n\u001b[1;32m   5486\u001b[0m             \u001b[0;32mreturn\u001b[0m \u001b[0mself\u001b[0m\u001b[0;34m[\u001b[0m\u001b[0mname\u001b[0m\u001b[0;34m]\u001b[0m\u001b[0;34m\u001b[0m\u001b[0;34m\u001b[0m\u001b[0m\n\u001b[0;32m-> 5487\u001b[0;31m         \u001b[0;32mreturn\u001b[0m \u001b[0mobject\u001b[0m\u001b[0;34m.\u001b[0m\u001b[0m__getattribute__\u001b[0m\u001b[0;34m(\u001b[0m\u001b[0mself\u001b[0m\u001b[0;34m,\u001b[0m \u001b[0mname\u001b[0m\u001b[0;34m)\u001b[0m\u001b[0;34m\u001b[0m\u001b[0;34m\u001b[0m\u001b[0m\n\u001b[0m\u001b[1;32m   5488\u001b[0m \u001b[0;34m\u001b[0m\u001b[0m\n\u001b[1;32m   5489\u001b[0m     \u001b[0;32mdef\u001b[0m \u001b[0m__setattr__\u001b[0m\u001b[0;34m(\u001b[0m\u001b[0mself\u001b[0m\u001b[0;34m,\u001b[0m \u001b[0mname\u001b[0m\u001b[0;34m:\u001b[0m \u001b[0mstr\u001b[0m\u001b[0;34m,\u001b[0m \u001b[0mvalue\u001b[0m\u001b[0;34m)\u001b[0m \u001b[0;34m->\u001b[0m \u001b[0;32mNone\u001b[0m\u001b[0;34m:\u001b[0m\u001b[0;34m\u001b[0m\u001b[0;34m\u001b[0m\u001b[0m\n",
            "\u001b[0;32m/usr/local/lib/python3.8/dist-packages/pandas/core/accessor.py\u001b[0m in \u001b[0;36m__get__\u001b[0;34m(self, obj, cls)\u001b[0m\n\u001b[1;32m    179\u001b[0m             \u001b[0;31m# we're accessing the attribute of the class, i.e., Dataset.geo\u001b[0m\u001b[0;34m\u001b[0m\u001b[0;34m\u001b[0m\u001b[0;34m\u001b[0m\u001b[0m\n\u001b[1;32m    180\u001b[0m             \u001b[0;32mreturn\u001b[0m \u001b[0mself\u001b[0m\u001b[0;34m.\u001b[0m\u001b[0m_accessor\u001b[0m\u001b[0;34m\u001b[0m\u001b[0;34m\u001b[0m\u001b[0m\n\u001b[0;32m--> 181\u001b[0;31m         \u001b[0maccessor_obj\u001b[0m \u001b[0;34m=\u001b[0m \u001b[0mself\u001b[0m\u001b[0;34m.\u001b[0m\u001b[0m_accessor\u001b[0m\u001b[0;34m(\u001b[0m\u001b[0mobj\u001b[0m\u001b[0;34m)\u001b[0m\u001b[0;34m\u001b[0m\u001b[0;34m\u001b[0m\u001b[0m\n\u001b[0m\u001b[1;32m    182\u001b[0m         \u001b[0;31m# Replace the property with the accessor object. Inspired by:\u001b[0m\u001b[0;34m\u001b[0m\u001b[0;34m\u001b[0m\u001b[0;34m\u001b[0m\u001b[0m\n\u001b[1;32m    183\u001b[0m         \u001b[0;31m# https://www.pydanny.com/cached-property.html\u001b[0m\u001b[0;34m\u001b[0m\u001b[0;34m\u001b[0m\u001b[0;34m\u001b[0m\u001b[0m\n",
            "\u001b[0;32m/usr/local/lib/python3.8/dist-packages/pandas/core/indexes/accessors.py\u001b[0m in \u001b[0;36m__new__\u001b[0;34m(cls, data)\u001b[0m\n\u001b[1;32m    504\u001b[0m             \u001b[0;32mreturn\u001b[0m \u001b[0mPeriodProperties\u001b[0m\u001b[0;34m(\u001b[0m\u001b[0mdata\u001b[0m\u001b[0;34m,\u001b[0m \u001b[0morig\u001b[0m\u001b[0;34m)\u001b[0m\u001b[0;34m\u001b[0m\u001b[0;34m\u001b[0m\u001b[0m\n\u001b[1;32m    505\u001b[0m \u001b[0;34m\u001b[0m\u001b[0m\n\u001b[0;32m--> 506\u001b[0;31m         \u001b[0;32mraise\u001b[0m \u001b[0mAttributeError\u001b[0m\u001b[0;34m(\u001b[0m\u001b[0;34m\"Can only use .dt accessor with datetimelike values\"\u001b[0m\u001b[0;34m)\u001b[0m\u001b[0;34m\u001b[0m\u001b[0;34m\u001b[0m\u001b[0m\n\u001b[0m",
            "\u001b[0;31mAttributeError\u001b[0m: Can only use .dt accessor with datetimelike values"
          ]
        }
      ]
    },
    {
      "cell_type": "markdown",
      "source": [
        "on sunday ,at which time accidents happens most\n",
        "-on sunday, accident occurs 1 am  to 3am\n",
        "and 11 am to 12 pm"
      ],
      "metadata": {
        "id": "iS5U5ehOsxR4"
      }
    },
    {
      "cell_type": "code",
      "source": [],
      "metadata": {
        "id": "ZAPrQu_trRjm"
      },
      "execution_count": null,
      "outputs": []
    },
    {
      "cell_type": "markdown",
      "source": [
        "8.which month have most accidents\n",
        "**Most of accidents occurs in month of october, november and december**\n"
      ],
      "metadata": {
        "id": "dYhscgvGs9p-"
      }
    },
    {
      "cell_type": "code",
      "source": [
        "sns.distplot(df.Start_Time.dt.month,bins=12,kde=False,norm_hist=True)  "
      ],
      "metadata": {
        "id": "OPR1UTgmUjjd"
      },
      "execution_count": 50,
      "outputs": []
    },
    {
      "cell_type": "markdown",
      "source": [
        "\n",
        "9.What is the trend of acciddents year over year (incresing/decresing)\n",
        "- we have less data from year 2016\n",
        "-there seems to be some issue with bing data\n",
        "-2017 accidents is kind of similar in  2017 months\n",
        "- greater in sep,oct,nov and dec 2018\n",
        "- greater in sep,oct and dec 2019\n",
        "-greater in sep,oct,nov and dec 2020\n",
        "-greater in nov and dec 2021\n",
        "**overall accidents are most happening in oct ,nov and dec **"
      ],
      "metadata": {
        "id": "QvuqR4cGtAGG"
      }
    },
    {
      "cell_type": "markdown",
      "source": [
        "##Summary and Conclusion\n",
        "-NO data For New York\n",
        "\n",
        "-The number of accident per city decreases expontential\n",
        "\n",
        "-less than 5%(4.6%) of city have more than 1000 accidets\n",
        "\n",
        "-Over 1100 cities have reported only one accident(need to investigate)\n"
      ],
      "metadata": {
        "id": "gV3d-sfTiOP-"
      }
    }
  ]
}